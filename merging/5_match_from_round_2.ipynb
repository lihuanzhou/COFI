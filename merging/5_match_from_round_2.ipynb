{
  "cells": [
    {
      "cell_type": "code",
      "execution_count": 82,
      "metadata": {
        "id": "mywnjzazq-1G"
      },
      "outputs": [],
      "source": [
        "import pandas as pd\n",
        "import string\n",
        "import numpy as np"
      ]
    },
    {
      "cell_type": "markdown",
      "metadata": {
        "id": "5vnbhdK7q-1J"
      },
      "source": [
        "Strategy for matching and finding the same power plants:\n",
        "* equal join on: \"Recipient ISO-3\", \"primary_fuel\" (if it is there)\n",
        "* fuzzy join:\n",
        "    * \"installed_capacity\"\n",
        "    * \"additional_info\"\n",
        "    * city and province"
      ]
    },
    {
      "cell_type": "code",
      "execution_count": 83,
      "metadata": {
        "id": "8nMwzLX1q-1K"
      },
      "outputs": [],
      "source": [
        "cofi_pp_columns = ['country_iso3c', \"primary_fuel\", \"installed_capacity\", \"power_plant_name\", \"city\", \"province\"]\n",
        "aiddata_pp_columns = [\"Recipient ISO-3\", \"primary_fuel\", \"installed_capacity\", \"additional_info\", \"city\", \"province\"]"
      ]
    },
    {
      "cell_type": "markdown",
      "metadata": {
        "id": "PJy9oyZIq-1K"
      },
      "source": [
        "Strategy for matching and finding the same investment info:\n",
        "* match first for the power plant\n",
        "* fuzzy join:\n",
        "    * \"Commitment Year\"\n",
        "    * \"Funding Agencies\" and \"Co-financing Agencies\"\n",
        "    * \"Amount (Constant USD 2021)\"\n",
        "    * \"installed_capacity\"\n",
        "    * \"additional_info\"\n"
      ]
    },
    {
      "cell_type": "code",
      "execution_count": 84,
      "metadata": {
        "id": "q8T-EHmDq-1K"
      },
      "outputs": [],
      "source": [
        "def preprocess_text(text, remove_punctuation = False):\n",
        "  # Implement your preprocessing logic here (e.g., lowercase conversion)\n",
        "\n",
        "    new_string = text.lower()\n",
        "\n",
        "    if remove_punctuation is True:\n",
        "        # Create a translation table\n",
        "        translator = str.maketrans('', '', string.punctuation)\n",
        "        # Remove punctuation\n",
        "        new_string = new_string.translate(translator)\n",
        "\n",
        "    return new_string"
      ]
    },
    {
      "cell_type": "markdown",
      "metadata": {
        "id": "cH-ovgXMq-1K"
      },
      "source": [
        "## 1. Load data"
      ]
    },
    {
      "cell_type": "code",
      "execution_count": 85,
      "metadata": {
        "id": "GwES5Juoq-1K",
        "outputId": "ac50d3e6-292a-496b-b89f-a88025448b47"
      },
      "outputs": [
        {
          "data": {
            "text/html": [
              "<div>\n",
              "<style scoped>\n",
              "    .dataframe tbody tr th:only-of-type {\n",
              "        vertical-align: middle;\n",
              "    }\n",
              "\n",
              "    .dataframe tbody tr th {\n",
              "        vertical-align: top;\n",
              "    }\n",
              "\n",
              "    .dataframe thead th {\n",
              "        text-align: right;\n",
              "    }\n",
              "</style>\n",
              "<table border=\"1\" class=\"dataframe\">\n",
              "  <thead>\n",
              "    <tr style=\"text-align: right;\">\n",
              "      <th></th>\n",
              "      <th>Title</th>\n",
              "      <th>AidData Record ID</th>\n",
              "      <th>Recipient ISO-3</th>\n",
              "      <th>Commitment Year</th>\n",
              "      <th>Funding Agencies</th>\n",
              "      <th>Co-financing Agencies</th>\n",
              "      <th>Amount (Nominal USD)</th>\n",
              "      <th>Amount (Constant USD 2021)</th>\n",
              "      <th>Adjusted Amount (Constant USD 2021)</th>\n",
              "      <th>Flow Type</th>\n",
              "      <th>...</th>\n",
              "      <th>Geographic Level of Precision Available</th>\n",
              "      <th>ADM1 Level Available</th>\n",
              "      <th>ADM2 Level Available</th>\n",
              "      <th>Geospatial Feature Available</th>\n",
              "      <th>Source Quality Score</th>\n",
              "      <th>Data Completeness Score</th>\n",
              "      <th>Implementation Detail Score</th>\n",
              "      <th>Loan Detail Score</th>\n",
              "      <th>Present</th>\n",
              "      <th>GPT answer</th>\n",
              "    </tr>\n",
              "  </thead>\n",
              "  <tbody>\n",
              "    <tr>\n",
              "      <th>0</th>\n",
              "      <td>ICBC provides $825 million export credit facil...</td>\n",
              "      <td>40</td>\n",
              "      <td>BWA</td>\n",
              "      <td>2009</td>\n",
              "      <td>Industrial and Commercial Bank of China (ICBC)</td>\n",
              "      <td>African Development Bank (AfDB) (ADB) (BAD)|St...</td>\n",
              "      <td>8.250486e+08</td>\n",
              "      <td>1.239231e+09</td>\n",
              "      <td>1.239231e+09</td>\n",
              "      <td>Loan</td>\n",
              "      <td>...</td>\n",
              "      <td>Precise</td>\n",
              "      <td>Yes</td>\n",
              "      <td>Yes</td>\n",
              "      <td>Yes</td>\n",
              "      <td>5.0</td>\n",
              "      <td>5.0</td>\n",
              "      <td>5.0</td>\n",
              "      <td>5.0</td>\n",
              "      <td>NaN</td>\n",
              "      <td>* City: Palapye\\n* Province: N/A</td>\n",
              "    </tr>\n",
              "    <tr>\n",
              "      <th>1</th>\n",
              "      <td>China Eximbank provides $70 million government...</td>\n",
              "      <td>85</td>\n",
              "      <td>GAB</td>\n",
              "      <td>2008</td>\n",
              "      <td>Export-Import Bank of China (China Eximbank)</td>\n",
              "      <td>NaN</td>\n",
              "      <td>7.000000e+07</td>\n",
              "      <td>1.067210e+08</td>\n",
              "      <td>1.067210e+08</td>\n",
              "      <td>Loan</td>\n",
              "      <td>...</td>\n",
              "      <td>NaN</td>\n",
              "      <td>NaN</td>\n",
              "      <td>NaN</td>\n",
              "      <td>NaN</td>\n",
              "      <td>NaN</td>\n",
              "      <td>NaN</td>\n",
              "      <td>NaN</td>\n",
              "      <td>NaN</td>\n",
              "      <td>NaN</td>\n",
              "      <td>NaN</td>\n",
              "    </tr>\n",
              "    <tr>\n",
              "      <th>2</th>\n",
              "      <td>China Eximbank provides RMB 1.08 billion selle...</td>\n",
              "      <td>158</td>\n",
              "      <td>SDN</td>\n",
              "      <td>2001</td>\n",
              "      <td>Export-Import Bank of China (China Eximbank)</td>\n",
              "      <td>NaN</td>\n",
              "      <td>1.304797e+08</td>\n",
              "      <td>3.280962e+08</td>\n",
              "      <td>3.280962e+08</td>\n",
              "      <td>Loan</td>\n",
              "      <td>...</td>\n",
              "      <td>Precise</td>\n",
              "      <td>Yes</td>\n",
              "      <td>Yes</td>\n",
              "      <td>Yes</td>\n",
              "      <td>5.0</td>\n",
              "      <td>5.0</td>\n",
              "      <td>5.0</td>\n",
              "      <td>2.0</td>\n",
              "      <td>NaN</td>\n",
              "      <td>* City: El-Gaili\\n* Province: N/A</td>\n",
              "    </tr>\n",
              "    <tr>\n",
              "      <th>3</th>\n",
              "      <td>China Eximbank pledges $297.8 million loan for...</td>\n",
              "      <td>173</td>\n",
              "      <td>NGA</td>\n",
              "      <td>2005</td>\n",
              "      <td>Export-Import Bank of China (China Eximbank)</td>\n",
              "      <td>NaN</td>\n",
              "      <td>2.977500e+08</td>\n",
              "      <td>6.461870e+08</td>\n",
              "      <td>6.461870e+08</td>\n",
              "      <td>Loan</td>\n",
              "      <td>...</td>\n",
              "      <td>NaN</td>\n",
              "      <td>NaN</td>\n",
              "      <td>NaN</td>\n",
              "      <td>NaN</td>\n",
              "      <td>5.0</td>\n",
              "      <td>4.0</td>\n",
              "      <td>NaN</td>\n",
              "      <td>NaN</td>\n",
              "      <td>NaN</td>\n",
              "      <td>* City: Papalanto\\n* Province: N/A</td>\n",
              "    </tr>\n",
              "    <tr>\n",
              "      <th>4</th>\n",
              "      <td>China Eximbank provides $608 million loan for ...</td>\n",
              "      <td>178</td>\n",
              "      <td>SDN</td>\n",
              "      <td>2003</td>\n",
              "      <td>Export-Import Bank of China (China Eximbank)</td>\n",
              "      <td>Abu Dhabi Development Fund |Arab Fund for Econ...</td>\n",
              "      <td>6.080000e+08</td>\n",
              "      <td>1.481127e+09</td>\n",
              "      <td>1.481127e+09</td>\n",
              "      <td>Loan</td>\n",
              "      <td>...</td>\n",
              "      <td>Precise</td>\n",
              "      <td>Yes</td>\n",
              "      <td>Yes</td>\n",
              "      <td>Yes</td>\n",
              "      <td>5.0</td>\n",
              "      <td>5.0</td>\n",
              "      <td>4.0</td>\n",
              "      <td>5.0</td>\n",
              "      <td>NaN</td>\n",
              "      <td>* City: Merowe Town\\n* Province: Northern Sudan</td>\n",
              "    </tr>\n",
              "  </tbody>\n",
              "</table>\n",
              "<p>5 rows × 136 columns</p>\n",
              "</div>"
            ],
            "text/plain": [
              "                                               Title  AidData Record ID  \\\n",
              "0  ICBC provides $825 million export credit facil...                 40   \n",
              "1  China Eximbank provides $70 million government...                 85   \n",
              "2  China Eximbank provides RMB 1.08 billion selle...                158   \n",
              "3  China Eximbank pledges $297.8 million loan for...                173   \n",
              "4  China Eximbank provides $608 million loan for ...                178   \n",
              "\n",
              "  Recipient ISO-3  Commitment Year  \\\n",
              "0             BWA             2009   \n",
              "1             GAB             2008   \n",
              "2             SDN             2001   \n",
              "3             NGA             2005   \n",
              "4             SDN             2003   \n",
              "\n",
              "                                 Funding Agencies  \\\n",
              "0  Industrial and Commercial Bank of China (ICBC)   \n",
              "1    Export-Import Bank of China (China Eximbank)   \n",
              "2    Export-Import Bank of China (China Eximbank)   \n",
              "3    Export-Import Bank of China (China Eximbank)   \n",
              "4    Export-Import Bank of China (China Eximbank)   \n",
              "\n",
              "                               Co-financing Agencies  Amount (Nominal USD)  \\\n",
              "0  African Development Bank (AfDB) (ADB) (BAD)|St...          8.250486e+08   \n",
              "1                                                NaN          7.000000e+07   \n",
              "2                                                NaN          1.304797e+08   \n",
              "3                                                NaN          2.977500e+08   \n",
              "4  Abu Dhabi Development Fund |Arab Fund for Econ...          6.080000e+08   \n",
              "\n",
              "   Amount (Constant USD 2021)  Adjusted Amount (Constant USD 2021) Flow Type  \\\n",
              "0                1.239231e+09                         1.239231e+09      Loan   \n",
              "1                1.067210e+08                         1.067210e+08      Loan   \n",
              "2                3.280962e+08                         3.280962e+08      Loan   \n",
              "3                6.461870e+08                         6.461870e+08      Loan   \n",
              "4                1.481127e+09                         1.481127e+09      Loan   \n",
              "\n",
              "   ... Geographic Level of Precision Available ADM1 Level Available  \\\n",
              "0  ...                                 Precise                  Yes   \n",
              "1  ...                                     NaN                  NaN   \n",
              "2  ...                                 Precise                  Yes   \n",
              "3  ...                                     NaN                  NaN   \n",
              "4  ...                                 Precise                  Yes   \n",
              "\n",
              "   ADM2 Level Available Geospatial Feature Available Source Quality Score  \\\n",
              "0                   Yes                          Yes                  5.0   \n",
              "1                   NaN                          NaN                  NaN   \n",
              "2                   Yes                          Yes                  5.0   \n",
              "3                   NaN                          NaN                  5.0   \n",
              "4                   Yes                          Yes                  5.0   \n",
              "\n",
              "   Data Completeness Score Implementation Detail Score Loan Detail Score  \\\n",
              "0                      5.0                         5.0               5.0   \n",
              "1                      NaN                         NaN               NaN   \n",
              "2                      5.0                         5.0               2.0   \n",
              "3                      4.0                         NaN               NaN   \n",
              "4                      5.0                         4.0               5.0   \n",
              "\n",
              "  Present                                       GPT answer  \n",
              "0     NaN                 * City: Palapye\\n* Province: N/A  \n",
              "1     NaN                                              NaN  \n",
              "2     NaN                * City: El-Gaili\\n* Province: N/A  \n",
              "3     NaN               * City: Papalanto\\n* Province: N/A  \n",
              "4     NaN  * City: Merowe Town\\n* Province: Northern Sudan  \n",
              "\n",
              "[5 rows x 136 columns]"
            ]
          },
          "execution_count": 85,
          "metadata": {},
          "output_type": "execute_result"
        }
      ],
      "source": [
        "aid = pd.read_excel(\"Cleaned Data/AidData.xlsx\")\n",
        "# aid = aid.drop(columns=[\"GPT answer - capacity and fuel\", \"GPT answer - city and province\", 'encoding Description', 'Present', 'GPT answer',\n",
        "#       'CPG answer - capacity and fuel', 'capcity', \"Amount (Constant USD 2021)\"\t,\"Adjusted Amount (Constant USD 2021)\"])\n",
        "aid.head()"
      ]
    },
    {
      "cell_type": "code",
      "execution_count": 86,
      "metadata": {
        "id": "TvSBO5AHq-1L",
        "outputId": "b26eec95-8278-4b6c-8f70-4b070ddadb3f"
      },
      "outputs": [
        {
          "data": {
            "text/html": [
              "<div>\n",
              "<style scoped>\n",
              "    .dataframe tbody tr th:only-of-type {\n",
              "        vertical-align: middle;\n",
              "    }\n",
              "\n",
              "    .dataframe tbody tr th {\n",
              "        vertical-align: top;\n",
              "    }\n",
              "\n",
              "    .dataframe thead th {\n",
              "        text-align: right;\n",
              "    }\n",
              "</style>\n",
              "<table border=\"1\" class=\"dataframe\">\n",
              "  <thead>\n",
              "    <tr style=\"text-align: right;\">\n",
              "      <th></th>\n",
              "      <th>Title</th>\n",
              "      <th>AidData Record ID</th>\n",
              "      <th>Recipient ISO-3</th>\n",
              "      <th>Commitment Year</th>\n",
              "      <th>Funding Agencies</th>\n",
              "      <th>Co-financing Agencies</th>\n",
              "      <th>Amount (Nominal USD)</th>\n",
              "      <th>Amount (Constant USD 2021)</th>\n",
              "      <th>Adjusted Amount (Constant USD 2021)</th>\n",
              "      <th>Flow Type</th>\n",
              "      <th>...</th>\n",
              "      <th>Geographic Level of Precision Available</th>\n",
              "      <th>ADM1 Level Available</th>\n",
              "      <th>ADM2 Level Available</th>\n",
              "      <th>Geospatial Feature Available</th>\n",
              "      <th>Source Quality Score</th>\n",
              "      <th>Data Completeness Score</th>\n",
              "      <th>Implementation Detail Score</th>\n",
              "      <th>Loan Detail Score</th>\n",
              "      <th>Present</th>\n",
              "      <th>GPT answer</th>\n",
              "    </tr>\n",
              "  </thead>\n",
              "  <tbody>\n",
              "    <tr>\n",
              "      <th>653</th>\n",
              "      <td>China Development Bank contributes to $1.78 bi...</td>\n",
              "      <td>98814</td>\n",
              "      <td>BGD</td>\n",
              "      <td>2018</td>\n",
              "      <td>China Development Bank (CDB)</td>\n",
              "      <td>Agricultural Bank of China (ABC)|Bank of China...</td>\n",
              "      <td>296666666.7</td>\n",
              "      <td>3.233221e+08</td>\n",
              "      <td>3.233221e+08</td>\n",
              "      <td>Loan</td>\n",
              "      <td>...</td>\n",
              "      <td>NaN</td>\n",
              "      <td>NaN</td>\n",
              "      <td>NaN</td>\n",
              "      <td>NaN</td>\n",
              "      <td>5.0</td>\n",
              "      <td>5.0</td>\n",
              "      <td>5.0</td>\n",
              "      <td>3.0</td>\n",
              "      <td>The purpose of the project was to construct a ...</td>\n",
              "      <td>* City: Banskhali\\n* Province: Chittagong Divi...</td>\n",
              "    </tr>\n",
              "    <tr>\n",
              "      <th>654</th>\n",
              "      <td>Agricultural Bank of China contributes to $1.7...</td>\n",
              "      <td>98815</td>\n",
              "      <td>BGD</td>\n",
              "      <td>2018</td>\n",
              "      <td>Agricultural Bank of China (ABC)</td>\n",
              "      <td>Bank of China (BOC)|China Construction Bank Co...</td>\n",
              "      <td>296666666.7</td>\n",
              "      <td>3.233221e+08</td>\n",
              "      <td>3.233221e+08</td>\n",
              "      <td>Loan</td>\n",
              "      <td>...</td>\n",
              "      <td>NaN</td>\n",
              "      <td>NaN</td>\n",
              "      <td>NaN</td>\n",
              "      <td>NaN</td>\n",
              "      <td>5.0</td>\n",
              "      <td>5.0</td>\n",
              "      <td>5.0</td>\n",
              "      <td>3.0</td>\n",
              "      <td>The purpose of the project was to construct a ...</td>\n",
              "      <td>* City: Banskhali\\n* Province: Chittagong Divi...</td>\n",
              "    </tr>\n",
              "    <tr>\n",
              "      <th>655</th>\n",
              "      <td>ICBC contributes to a $75 million syndicated l...</td>\n",
              "      <td>98823</td>\n",
              "      <td>IDN</td>\n",
              "      <td>2020</td>\n",
              "      <td>Industrial and Commercial Bank of China (ICBC)</td>\n",
              "      <td>China Development Bank (CDB)</td>\n",
              "      <td>37500000.0</td>\n",
              "      <td>4.188139e+07</td>\n",
              "      <td>4.188139e+07</td>\n",
              "      <td>Loan</td>\n",
              "      <td>...</td>\n",
              "      <td>NaN</td>\n",
              "      <td>NaN</td>\n",
              "      <td>NaN</td>\n",
              "      <td>NaN</td>\n",
              "      <td>5.0</td>\n",
              "      <td>3.0</td>\n",
              "      <td>NaN</td>\n",
              "      <td>2.0</td>\n",
              "      <td>NaN</td>\n",
              "      <td>* City: N/A\\n* Province: Sulawesi Province</td>\n",
              "    </tr>\n",
              "    <tr>\n",
              "      <th>656</th>\n",
              "      <td>ICBC contributes to $1.416 billion syndicated ...</td>\n",
              "      <td>98851</td>\n",
              "      <td>PAK</td>\n",
              "      <td>2017</td>\n",
              "      <td>Industrial and Commercial Bank of China (ICBC)</td>\n",
              "      <td>Al Jomaih Group|China Gezhouba Group Company L...</td>\n",
              "      <td>708100000.0</td>\n",
              "      <td>8.159706e+08</td>\n",
              "      <td>8.159706e+08</td>\n",
              "      <td>Loan</td>\n",
              "      <td>...</td>\n",
              "      <td>NaN</td>\n",
              "      <td>NaN</td>\n",
              "      <td>NaN</td>\n",
              "      <td>NaN</td>\n",
              "      <td>NaN</td>\n",
              "      <td>NaN</td>\n",
              "      <td>NaN</td>\n",
              "      <td>NaN</td>\n",
              "      <td>NaN</td>\n",
              "      <td>NaN</td>\n",
              "    </tr>\n",
              "    <tr>\n",
              "      <th>657</th>\n",
              "      <td>ICBC contributes $15 million to $219.5 million...</td>\n",
              "      <td>98852</td>\n",
              "      <td>ARG</td>\n",
              "      <td>2017</td>\n",
              "      <td>Industrial and Commercial Bank of China (ICBC)</td>\n",
              "      <td>Bancaribe|Banco de Galicia y Buenos Aires S.A....</td>\n",
              "      <td>15000000.0</td>\n",
              "      <td>1.728507e+07</td>\n",
              "      <td>1.728507e+07</td>\n",
              "      <td>Loan</td>\n",
              "      <td>...</td>\n",
              "      <td>NaN</td>\n",
              "      <td>NaN</td>\n",
              "      <td>NaN</td>\n",
              "      <td>NaN</td>\n",
              "      <td>5.0</td>\n",
              "      <td>5.0</td>\n",
              "      <td>4.0</td>\n",
              "      <td>4.0</td>\n",
              "      <td>NaN</td>\n",
              "      <td>* City: Central El Bracho\\n* Province: Tucumán...</td>\n",
              "    </tr>\n",
              "  </tbody>\n",
              "</table>\n",
              "<p>5 rows × 136 columns</p>\n",
              "</div>"
            ],
            "text/plain": [
              "                                                 Title  AidData Record ID  \\\n",
              "653  China Development Bank contributes to $1.78 bi...              98814   \n",
              "654  Agricultural Bank of China contributes to $1.7...              98815   \n",
              "655  ICBC contributes to a $75 million syndicated l...              98823   \n",
              "656  ICBC contributes to $1.416 billion syndicated ...              98851   \n",
              "657  ICBC contributes $15 million to $219.5 million...              98852   \n",
              "\n",
              "    Recipient ISO-3  Commitment Year  \\\n",
              "653             BGD             2018   \n",
              "654             BGD             2018   \n",
              "655             IDN             2020   \n",
              "656             PAK             2017   \n",
              "657             ARG             2017   \n",
              "\n",
              "                                   Funding Agencies  \\\n",
              "653                    China Development Bank (CDB)   \n",
              "654                Agricultural Bank of China (ABC)   \n",
              "655  Industrial and Commercial Bank of China (ICBC)   \n",
              "656  Industrial and Commercial Bank of China (ICBC)   \n",
              "657  Industrial and Commercial Bank of China (ICBC)   \n",
              "\n",
              "                                 Co-financing Agencies  Amount (Nominal USD)  \\\n",
              "653  Agricultural Bank of China (ABC)|Bank of China...           296666666.7   \n",
              "654  Bank of China (BOC)|China Construction Bank Co...           296666666.7   \n",
              "655                       China Development Bank (CDB)            37500000.0   \n",
              "656  Al Jomaih Group|China Gezhouba Group Company L...           708100000.0   \n",
              "657  Bancaribe|Banco de Galicia y Buenos Aires S.A....            15000000.0   \n",
              "\n",
              "     Amount (Constant USD 2021)  Adjusted Amount (Constant USD 2021)  \\\n",
              "653                3.233221e+08                         3.233221e+08   \n",
              "654                3.233221e+08                         3.233221e+08   \n",
              "655                4.188139e+07                         4.188139e+07   \n",
              "656                8.159706e+08                         8.159706e+08   \n",
              "657                1.728507e+07                         1.728507e+07   \n",
              "\n",
              "    Flow Type  ... Geographic Level of Precision Available  \\\n",
              "653      Loan  ...                                     NaN   \n",
              "654      Loan  ...                                     NaN   \n",
              "655      Loan  ...                                     NaN   \n",
              "656      Loan  ...                                     NaN   \n",
              "657      Loan  ...                                     NaN   \n",
              "\n",
              "    ADM1 Level Available  ADM2 Level Available Geospatial Feature Available  \\\n",
              "653                  NaN                   NaN                          NaN   \n",
              "654                  NaN                   NaN                          NaN   \n",
              "655                  NaN                   NaN                          NaN   \n",
              "656                  NaN                   NaN                          NaN   \n",
              "657                  NaN                   NaN                          NaN   \n",
              "\n",
              "    Source Quality Score  Data Completeness Score Implementation Detail Score  \\\n",
              "653                  5.0                      5.0                         5.0   \n",
              "654                  5.0                      5.0                         5.0   \n",
              "655                  5.0                      3.0                         NaN   \n",
              "656                  NaN                      NaN                         NaN   \n",
              "657                  5.0                      5.0                         4.0   \n",
              "\n",
              "    Loan Detail Score                                            Present  \\\n",
              "653               3.0  The purpose of the project was to construct a ...   \n",
              "654               3.0  The purpose of the project was to construct a ...   \n",
              "655               2.0                                                NaN   \n",
              "656               NaN                                                NaN   \n",
              "657               4.0                                                NaN   \n",
              "\n",
              "                                            GPT answer  \n",
              "653  * City: Banskhali\\n* Province: Chittagong Divi...  \n",
              "654  * City: Banskhali\\n* Province: Chittagong Divi...  \n",
              "655         * City: N/A\\n* Province: Sulawesi Province  \n",
              "656                                                NaN  \n",
              "657  * City: Central El Bracho\\n* Province: Tucumán...  \n",
              "\n",
              "[5 rows x 136 columns]"
            ]
          },
          "execution_count": 86,
          "metadata": {},
          "output_type": "execute_result"
        }
      ],
      "source": [
        "aid.tail()"
      ]
    },
    {
      "cell_type": "code",
      "execution_count": 87,
      "metadata": {
        "id": "A2wNzfLGq-1M",
        "outputId": "0b826806-6199-49a5-e33e-38c3a73f2c18"
      },
      "outputs": [
        {
          "data": {
            "text/plain": [
              "(658, 136)"
            ]
          },
          "execution_count": 87,
          "metadata": {},
          "output_type": "execute_result"
        }
      ],
      "source": [
        "aid.shape"
      ]
    },
    {
      "cell_type": "code",
      "execution_count": 88,
      "metadata": {
        "id": "q_5xV1YCq-1M"
      },
      "outputs": [],
      "source": [
        "aid = aid.sort_values(by=\"AidData Record ID\")\n",
        "aid = aid.reset_index()\n",
        "aid = aid.drop(columns =[\"index\"])"
      ]
    },
    {
      "cell_type": "code",
      "execution_count": 89,
      "metadata": {
        "id": "MFGK0fmyq-1M"
      },
      "outputs": [],
      "source": [
        "cofi = pd.read_excel(\"cofi_v2.2_final.xlsx\")"
      ]
    },
    {
      "cell_type": "code",
      "execution_count": 90,
      "metadata": {
        "id": "CwNdboUdq-1M"
      },
      "outputs": [],
      "source": [
        "columns_to_keep_cofi = [\"unique_id\",\n",
        "                        'power_plant_name', \"installed_capacity\", 'primary_fuel', # matching \"Title\" in AidData\n",
        "                        \"city\", \"province\", # will match the \"city\" and \"province\" newly extracted\n",
        "                        'country_iso3c', # \"Recipient ISO-3\"\n",
        "                        'debt_investment_year', # \"Commitment Year\"\n",
        "                        'debt_investment_amount', # matching amount fields\n",
        "                        # matching the \"Funding Agencies\" and \"Co-financing Agencies\" and the amount fields and the investment type, just for Debt\n",
        "                        'bank_of_china', 'china_development_bank',\n",
        "                        'export_import_bank_of_china',\n",
        "                        'industrial_and_commercial_bank_of_china', 'china_construction_bank',\n",
        "                        'bank_of_communications', 'agricultural_bank_of_china',\n",
        "                        'china_citic_bank_corp', 'china_merchants_bank',\n",
        "                        'china_minsheng_banking_corp', 'china_zheshang_bank',\n",
        "                        'china_everbright_bank', 'silk_road_fund',\n",
        "                        'china_co-financing_fund_for_latin_america_and_the_caribbean']"
      ]
    },
    {
      "cell_type": "code",
      "execution_count": 91,
      "metadata": {
        "id": "boUAqTIlq-1M",
        "outputId": "928c2f3d-4f59-4e47-98a2-f045a1db8353"
      },
      "outputs": [
        {
          "data": {
            "text/html": [
              "<div>\n",
              "<style scoped>\n",
              "    .dataframe tbody tr th:only-of-type {\n",
              "        vertical-align: middle;\n",
              "    }\n",
              "\n",
              "    .dataframe tbody tr th {\n",
              "        vertical-align: top;\n",
              "    }\n",
              "\n",
              "    .dataframe thead th {\n",
              "        text-align: right;\n",
              "    }\n",
              "</style>\n",
              "<table border=\"1\" class=\"dataframe\">\n",
              "  <thead>\n",
              "    <tr style=\"text-align: right;\">\n",
              "      <th></th>\n",
              "      <th>unique_id</th>\n",
              "      <th>power_plant_name</th>\n",
              "      <th>installed_capacity</th>\n",
              "      <th>primary_fuel</th>\n",
              "      <th>city</th>\n",
              "      <th>province</th>\n",
              "      <th>country_iso3c</th>\n",
              "      <th>debt_investment_year</th>\n",
              "      <th>debt_investment_amount</th>\n",
              "      <th>bank_of_china</th>\n",
              "      <th>...</th>\n",
              "      <th>china_construction_bank</th>\n",
              "      <th>bank_of_communications</th>\n",
              "      <th>agricultural_bank_of_china</th>\n",
              "      <th>china_citic_bank_corp</th>\n",
              "      <th>china_merchants_bank</th>\n",
              "      <th>china_minsheng_banking_corp</th>\n",
              "      <th>china_zheshang_bank</th>\n",
              "      <th>china_everbright_bank</th>\n",
              "      <th>silk_road_fund</th>\n",
              "      <th>china_co-financing_fund_for_latin_america_and_the_caribbean</th>\n",
              "    </tr>\n",
              "  </thead>\n",
              "  <tbody>\n",
              "    <tr>\n",
              "      <th>0</th>\n",
              "      <td>AGO2021001</td>\n",
              "      <td>CACULO-CABACA</td>\n",
              "      <td>2160.00</td>\n",
              "      <td>hydro</td>\n",
              "      <td>Caculo-Cabaca</td>\n",
              "      <td>Kwanza Norte</td>\n",
              "      <td>AGO</td>\n",
              "      <td>2016.0</td>\n",
              "      <td>4100.0</td>\n",
              "      <td>1025.0</td>\n",
              "      <td>...</td>\n",
              "      <td>1025.0</td>\n",
              "      <td>NaN</td>\n",
              "      <td>NaN</td>\n",
              "      <td>NaN</td>\n",
              "      <td>NaN</td>\n",
              "      <td>NaN</td>\n",
              "      <td>NaN</td>\n",
              "      <td>NaN</td>\n",
              "      <td>NaN</td>\n",
              "      <td>NaN</td>\n",
              "    </tr>\n",
              "    <tr>\n",
              "      <th>1</th>\n",
              "      <td>AGO2021002</td>\n",
              "      <td>CHIUMBE-DALA</td>\n",
              "      <td>12.42</td>\n",
              "      <td>hydro</td>\n",
              "      <td>Dala</td>\n",
              "      <td>Lunda-Sul</td>\n",
              "      <td>AGO</td>\n",
              "      <td>2014.0</td>\n",
              "      <td>112.0</td>\n",
              "      <td>NaN</td>\n",
              "      <td>...</td>\n",
              "      <td>NaN</td>\n",
              "      <td>NaN</td>\n",
              "      <td>NaN</td>\n",
              "      <td>NaN</td>\n",
              "      <td>NaN</td>\n",
              "      <td>NaN</td>\n",
              "      <td>NaN</td>\n",
              "      <td>NaN</td>\n",
              "      <td>NaN</td>\n",
              "      <td>NaN</td>\n",
              "    </tr>\n",
              "    <tr>\n",
              "      <th>2</th>\n",
              "      <td>AGO2021003</td>\n",
              "      <td>RIO LUACHIMO-II</td>\n",
              "      <td>36.00</td>\n",
              "      <td>hydro</td>\n",
              "      <td>Dundo</td>\n",
              "      <td>Lunda Norte</td>\n",
              "      <td>AGO</td>\n",
              "      <td>2013.0</td>\n",
              "      <td>180.0</td>\n",
              "      <td>NaN</td>\n",
              "      <td>...</td>\n",
              "      <td>NaN</td>\n",
              "      <td>NaN</td>\n",
              "      <td>NaN</td>\n",
              "      <td>NaN</td>\n",
              "      <td>NaN</td>\n",
              "      <td>NaN</td>\n",
              "      <td>NaN</td>\n",
              "      <td>NaN</td>\n",
              "      <td>NaN</td>\n",
              "      <td>NaN</td>\n",
              "    </tr>\n",
              "    <tr>\n",
              "      <th>3</th>\n",
              "      <td>AGO2021004</td>\n",
              "      <td>SOYO-I</td>\n",
              "      <td>750.00</td>\n",
              "      <td>gas</td>\n",
              "      <td>Mongo-Soyo - Soyo City</td>\n",
              "      <td>Zaire</td>\n",
              "      <td>AGO</td>\n",
              "      <td>2015.0</td>\n",
              "      <td>838.0</td>\n",
              "      <td>NaN</td>\n",
              "      <td>...</td>\n",
              "      <td>NaN</td>\n",
              "      <td>NaN</td>\n",
              "      <td>NaN</td>\n",
              "      <td>NaN</td>\n",
              "      <td>NaN</td>\n",
              "      <td>NaN</td>\n",
              "      <td>NaN</td>\n",
              "      <td>NaN</td>\n",
              "      <td>NaN</td>\n",
              "      <td>NaN</td>\n",
              "    </tr>\n",
              "    <tr>\n",
              "      <th>4</th>\n",
              "      <td>ALB2021001</td>\n",
              "      <td>ASHTA-I</td>\n",
              "      <td>24.00</td>\n",
              "      <td>hydro</td>\n",
              "      <td>Bushat - Vau i Dejes</td>\n",
              "      <td>Shkoder</td>\n",
              "      <td>ALB</td>\n",
              "      <td>2001.0</td>\n",
              "      <td>52.1</td>\n",
              "      <td>NaN</td>\n",
              "      <td>...</td>\n",
              "      <td>NaN</td>\n",
              "      <td>NaN</td>\n",
              "      <td>NaN</td>\n",
              "      <td>NaN</td>\n",
              "      <td>NaN</td>\n",
              "      <td>NaN</td>\n",
              "      <td>NaN</td>\n",
              "      <td>NaN</td>\n",
              "      <td>NaN</td>\n",
              "      <td>NaN</td>\n",
              "    </tr>\n",
              "  </tbody>\n",
              "</table>\n",
              "<p>5 rows × 23 columns</p>\n",
              "</div>"
            ],
            "text/plain": [
              "    unique_id power_plant_name  installed_capacity primary_fuel  \\\n",
              "0  AGO2021001    CACULO-CABACA             2160.00        hydro   \n",
              "1  AGO2021002     CHIUMBE-DALA               12.42        hydro   \n",
              "2  AGO2021003  RIO LUACHIMO-II               36.00        hydro   \n",
              "3  AGO2021004           SOYO-I              750.00          gas   \n",
              "4  ALB2021001          ASHTA-I               24.00        hydro   \n",
              "\n",
              "                     city      province country_iso3c  debt_investment_year  \\\n",
              "0           Caculo-Cabaca  Kwanza Norte           AGO                2016.0   \n",
              "1                    Dala     Lunda-Sul           AGO                2014.0   \n",
              "2                   Dundo   Lunda Norte           AGO                2013.0   \n",
              "3  Mongo-Soyo - Soyo City         Zaire           AGO                2015.0   \n",
              "4    Bushat - Vau i Dejes       Shkoder           ALB                2001.0   \n",
              "\n",
              "   debt_investment_amount  bank_of_china  ...  china_construction_bank  \\\n",
              "0                  4100.0         1025.0  ...                   1025.0   \n",
              "1                   112.0            NaN  ...                      NaN   \n",
              "2                   180.0            NaN  ...                      NaN   \n",
              "3                   838.0            NaN  ...                      NaN   \n",
              "4                    52.1            NaN  ...                      NaN   \n",
              "\n",
              "   bank_of_communications  agricultural_bank_of_china  china_citic_bank_corp  \\\n",
              "0                     NaN                         NaN                    NaN   \n",
              "1                     NaN                         NaN                    NaN   \n",
              "2                     NaN                         NaN                    NaN   \n",
              "3                     NaN                         NaN                    NaN   \n",
              "4                     NaN                         NaN                    NaN   \n",
              "\n",
              "   china_merchants_bank  china_minsheng_banking_corp  china_zheshang_bank  \\\n",
              "0                   NaN                          NaN                  NaN   \n",
              "1                   NaN                          NaN                  NaN   \n",
              "2                   NaN                          NaN                  NaN   \n",
              "3                   NaN                          NaN                  NaN   \n",
              "4                   NaN                          NaN                  NaN   \n",
              "\n",
              "   china_everbright_bank  silk_road_fund  \\\n",
              "0                    NaN             NaN   \n",
              "1                    NaN             NaN   \n",
              "2                    NaN             NaN   \n",
              "3                    NaN             NaN   \n",
              "4                    NaN             NaN   \n",
              "\n",
              "   china_co-financing_fund_for_latin_america_and_the_caribbean  \n",
              "0                                                NaN            \n",
              "1                                                NaN            \n",
              "2                                                NaN            \n",
              "3                                                NaN            \n",
              "4                                                NaN            \n",
              "\n",
              "[5 rows x 23 columns]"
            ]
          },
          "execution_count": 91,
          "metadata": {},
          "output_type": "execute_result"
        }
      ],
      "source": [
        "cofi = cofi[columns_to_keep_cofi].copy(deep=True)\n",
        "cofi.head()"
      ]
    },
    {
      "cell_type": "code",
      "execution_count": 92,
      "metadata": {
        "id": "3cGmiQY4q-1N",
        "outputId": "50c6a9dc-c2b8-4ab5-93e3-8572a356e3fa"
      },
      "outputs": [
        {
          "data": {
            "text/plain": [
              "(1077, 23)"
            ]
          },
          "execution_count": 92,
          "metadata": {},
          "output_type": "execute_result"
        }
      ],
      "source": [
        "cofi.shape"
      ]
    },
    {
      "cell_type": "markdown",
      "metadata": {
        "id": "2k19u4fuq-1N"
      },
      "source": [
        "## 2. Prepare datasets for matching"
      ]
    },
    {
      "cell_type": "markdown",
      "metadata": {
        "id": "pGG7cW2tq-1N"
      },
      "source": [
        "So, let's have this convention:\n",
        "* for the text columns: if there is no data put \"\"\n",
        "* for the numerical data: if there is no data put np.nan"
      ]
    },
    {
      "cell_type": "code",
      "execution_count": 93,
      "metadata": {
        "id": "5YkW7zGVq-1N",
        "outputId": "51e92c02-8ea5-4a0a-c87d-591c40915aa8"
      },
      "outputs": [
        {
          "data": {
            "text/plain": [
              "country_iso3c           0\n",
              "primary_fuel            0\n",
              "installed_capacity     72\n",
              "power_plant_name       72\n",
              "city                  155\n",
              "province              128\n",
              "dtype: int64"
            ]
          },
          "execution_count": 93,
          "metadata": {},
          "output_type": "execute_result"
        }
      ],
      "source": [
        "cofi[cofi_pp_columns].isna().sum()"
      ]
    },
    {
      "cell_type": "code",
      "execution_count": 94,
      "metadata": {
        "id": "I_iYifTbq-1N"
      },
      "outputs": [],
      "source": [
        "cofi['power_plant_name'] = cofi['power_plant_name'].fillna(\"\")\n",
        "cofi['city'] = cofi['city'].fillna(\"\")\n",
        "cofi['province'] = cofi['province'].fillna(\"\")"
      ]
    },
    {
      "cell_type": "code",
      "execution_count": 95,
      "metadata": {
        "id": "mBRzb4dvq-1N",
        "outputId": "ab084a8b-bade-4552-a1f5-d33ddf922eab"
      },
      "outputs": [
        {
          "data": {
            "text/plain": [
              "country_iso3c          object\n",
              "primary_fuel           object\n",
              "installed_capacity    float64\n",
              "power_plant_name       object\n",
              "city                   object\n",
              "province               object\n",
              "dtype: object"
            ]
          },
          "execution_count": 95,
          "metadata": {},
          "output_type": "execute_result"
        }
      ],
      "source": [
        "cofi[cofi_pp_columns].dtypes"
      ]
    },
    {
      "cell_type": "code",
      "execution_count": 96,
      "metadata": {
        "id": "T8zsNgosq-1N",
        "outputId": "31d87430-5d61-41e6-914b-dea88e783593"
      },
      "outputs": [
        {
          "data": {
            "text/plain": [
              "Recipient ISO-3         1\n",
              "primary_fuel           25\n",
              "installed_capacity     78\n",
              "additional_info       205\n",
              "city                  177\n",
              "province              191\n",
              "dtype: int64"
            ]
          },
          "execution_count": 96,
          "metadata": {},
          "output_type": "execute_result"
        }
      ],
      "source": [
        "aid[aiddata_pp_columns].isna().sum()"
      ]
    },
    {
      "cell_type": "code",
      "execution_count": 97,
      "metadata": {
        "id": "KDjY8Xikq-1O"
      },
      "outputs": [],
      "source": [
        "aid[\"Recipient ISO-3\"] = aid[\"Recipient ISO-3\"].fillna(\"\")\n",
        "aid[\"primary_fuel\"] = aid[\"primary_fuel\"].fillna(\"\")\n",
        "aid[\"additional_info\"] = aid[\"additional_info\"].fillna(\"\")\n",
        "aid['city'] = aid['city'].fillna(\"\")\n",
        "aid['province'] = aid['province'].fillna(\"\")"
      ]
    },
    {
      "cell_type": "code",
      "execution_count": 98,
      "metadata": {
        "id": "nkS-_avNq-1O",
        "outputId": "6bf613fb-1e94-4a58-c399-e945fe001cb6"
      },
      "outputs": [
        {
          "data": {
            "text/plain": [
              "Recipient ISO-3        object\n",
              "primary_fuel           object\n",
              "installed_capacity    float64\n",
              "additional_info        object\n",
              "city                   object\n",
              "province               object\n",
              "dtype: object"
            ]
          },
          "execution_count": 98,
          "metadata": {},
          "output_type": "execute_result"
        }
      ],
      "source": [
        "aid[aiddata_pp_columns].dtypes"
      ]
    },
    {
      "cell_type": "code",
      "execution_count": 99,
      "metadata": {
        "id": "pYbkeERSq-1O",
        "outputId": "90d23301-f6d0-462e-d4a4-d49fc4bbad90"
      },
      "outputs": [
        {
          "data": {
            "text/plain": [
              "dtype('float64')"
            ]
          },
          "execution_count": 99,
          "metadata": {},
          "output_type": "execute_result"
        }
      ],
      "source": [
        "aid['Amount (Nominal USD)'].dtypes"
      ]
    },
    {
      "cell_type": "code",
      "execution_count": 100,
      "metadata": {
        "id": "9kRBSsmgq-1O"
      },
      "outputs": [],
      "source": [
        "aid['Funding Agencies'] = aid['Funding Agencies'].fillna(\"\")"
      ]
    },
    {
      "cell_type": "markdown",
      "metadata": {
        "id": "pUu2A4RVq-1O"
      },
      "source": [
        "## 3. Do matching with power plant"
      ]
    },
    {
      "cell_type": "code",
      "execution_count": 101,
      "metadata": {
        "id": "Je-U5xHOq-1O"
      },
      "outputs": [],
      "source": [
        "def do_match(row, threshold_installed_capacity = 300, use_multiplier = False, multipliers = [2, 3, 4, 5]):\n",
        "    # equal join\n",
        "    potential = cofi.loc[cofi['country_iso3c'] == row['Recipient ISO-3']]\n",
        "    potential = potential.loc[potential['primary_fuel'] == row[\"primary_fuel\"]]\n",
        "\n",
        "    if np.isnan(row['installed_capacity']):\n",
        "        # then we can't do a match\n",
        "        potential = potential.drop(potential.index)\n",
        "\n",
        "    # fuzzy join\n",
        "    if use_multiplier is False and not(np.isnan(row['installed_capacity'])):\n",
        "        # use just the range method\n",
        "        potential = potential.loc[(potential['installed_capacity'] <= row['installed_capacity'] + threshold_installed_capacity) & (potential['installed_capacity'] >= row['installed_capacity'] - threshold_installed_capacity)]\n",
        "    elif use_multiplier is True and not(np.isnan(row['installed_capacity'])):\n",
        "\n",
        "        # also try the multiplier relations\n",
        "        potentials = []\n",
        "        for multiplier in multipliers:\n",
        "            potentials.append(potential.loc[potential['installed_capacity'] == row['installed_capacity'] * multiplier])\n",
        "        # get the ones with the range\n",
        "        potentials.append(potential.loc[(potential['installed_capacity'] <= row['installed_capacity'] + threshold_installed_capacity) & (potential['installed_capacity'] >= row['installed_capacity'] - threshold_installed_capacity)])\n",
        "\n",
        "        potential = pd.concat(potentials)\n",
        "        potential = potential.drop_duplicates()\n",
        "\n",
        "    return potential"
      ]
    },
    {
      "cell_type": "markdown",
      "metadata": {
        "id": "onW-bg2wq-1O"
      },
      "source": [
        "#### Check different thresholds"
      ]
    },
    {
      "cell_type": "code",
      "execution_count": 102,
      "metadata": {
        "id": "8PXfBqyhq-1O"
      },
      "outputs": [],
      "source": [
        "from statistics import mean, stdev"
      ]
    },
    {
      "cell_type": "code",
      "execution_count": 103,
      "metadata": {
        "id": "-7IjWo9hq-1P"
      },
      "outputs": [],
      "source": [
        "thresholds = [300, 200, 100, 0]"
      ]
    },
    {
      "cell_type": "code",
      "execution_count": 104,
      "metadata": {
        "id": "juxX7UHlq-1P",
        "outputId": "9d769986-0858-481e-ef82-3d9cd71199b5"
      },
      "outputs": [
        {
          "name": "stdout",
          "output_type": "stream",
          "text": [
            "0\n",
            "0\n",
            "0\n",
            "0\n"
          ]
        }
      ],
      "source": [
        "# NO MULTIPLIER\n",
        "thr_rows = []\n",
        "for thr in thresholds:\n",
        "    counter = 0\n",
        "    values = []\n",
        "    for i, row in aid.iterrows():\n",
        "        potential = do_match(row, thr, False)\n",
        "        values.append(potential.shape[0])\n",
        "        if potential.shape[0] and np.isnan(row['installed_capacity']):\n",
        "            counter += 1\n",
        "\n",
        "    matches = sum([x > 0 for x in values])\n",
        "    no_matches = sum([x == 0 for x in values])\n",
        "\n",
        "    row = [thr, matches, no_matches, mean(values), stdev(values), max(values), min(values)]\n",
        "    thr_rows.append(row)\n",
        "    print(counter)"
      ]
    },
    {
      "cell_type": "code",
      "execution_count": 105,
      "metadata": {
        "id": "6Dhb8WhZq-1P",
        "outputId": "eeb0b7e6-36ec-49fd-e128-d0c21e686dba"
      },
      "outputs": [
        {
          "data": {
            "text/html": [
              "<div>\n",
              "<style scoped>\n",
              "    .dataframe tbody tr th:only-of-type {\n",
              "        vertical-align: middle;\n",
              "    }\n",
              "\n",
              "    .dataframe tbody tr th {\n",
              "        vertical-align: top;\n",
              "    }\n",
              "\n",
              "    .dataframe thead th {\n",
              "        text-align: right;\n",
              "    }\n",
              "</style>\n",
              "<table border=\"1\" class=\"dataframe\">\n",
              "  <thead>\n",
              "    <tr style=\"text-align: right;\">\n",
              "      <th></th>\n",
              "      <th>Threshold</th>\n",
              "      <th># Matches</th>\n",
              "      <th># No Matches</th>\n",
              "      <th>Mean</th>\n",
              "      <th>Std</th>\n",
              "      <th>Max</th>\n",
              "      <th>Min</th>\n",
              "    </tr>\n",
              "  </thead>\n",
              "  <tbody>\n",
              "    <tr>\n",
              "      <th>0</th>\n",
              "      <td>300</td>\n",
              "      <td>106</td>\n",
              "      <td>552</td>\n",
              "      <td>0.899696</td>\n",
              "      <td>3.638409</td>\n",
              "      <td>26</td>\n",
              "      <td>0</td>\n",
              "    </tr>\n",
              "    <tr>\n",
              "      <th>1</th>\n",
              "      <td>200</td>\n",
              "      <td>103</td>\n",
              "      <td>555</td>\n",
              "      <td>0.846505</td>\n",
              "      <td>3.545636</td>\n",
              "      <td>26</td>\n",
              "      <td>0</td>\n",
              "    </tr>\n",
              "    <tr>\n",
              "      <th>2</th>\n",
              "      <td>100</td>\n",
              "      <td>96</td>\n",
              "      <td>562</td>\n",
              "      <td>0.670213</td>\n",
              "      <td>2.808835</td>\n",
              "      <td>24</td>\n",
              "      <td>0</td>\n",
              "    </tr>\n",
              "    <tr>\n",
              "      <th>3</th>\n",
              "      <td>0</td>\n",
              "      <td>51</td>\n",
              "      <td>607</td>\n",
              "      <td>0.156535</td>\n",
              "      <td>0.771325</td>\n",
              "      <td>6</td>\n",
              "      <td>0</td>\n",
              "    </tr>\n",
              "  </tbody>\n",
              "</table>\n",
              "</div>"
            ],
            "text/plain": [
              "   Threshold  # Matches  # No Matches      Mean       Std  Max  Min\n",
              "0        300        106           552  0.899696  3.638409   26    0\n",
              "1        200        103           555  0.846505  3.545636   26    0\n",
              "2        100         96           562  0.670213  2.808835   24    0\n",
              "3          0         51           607  0.156535  0.771325    6    0"
            ]
          },
          "execution_count": 105,
          "metadata": {},
          "output_type": "execute_result"
        }
      ],
      "source": [
        "pd.DataFrame(thr_rows, columns=[\"Threshold\", \"# Matches\", \"# No Matches\", \"Mean\", \"Std\", \"Max\", \"Min\"])"
      ]
    },
    {
      "cell_type": "code",
      "execution_count": 106,
      "metadata": {
        "id": "Ip1SP2nAq-1P",
        "outputId": "b8fab222-bc2c-44f0-bb5b-5ba5fb10ade6"
      },
      "outputs": [
        {
          "name": "stdout",
          "output_type": "stream",
          "text": [
            "0\n",
            "0\n",
            "0\n",
            "0\n"
          ]
        }
      ],
      "source": [
        "# YES MULTIPLER\n",
        "thr_rows = []\n",
        "for thr in thresholds:\n",
        "    values = []\n",
        "    counter = 0\n",
        "    for i, row in aid.iterrows():\n",
        "        potential = do_match(row, thr, True)\n",
        "        values.append(potential.shape[0])\n",
        "        if potential.shape[0] and np.isnan(row['installed_capacity']):\n",
        "            counter += 1\n",
        "\n",
        "    matches = sum([x > 0 for x in values])\n",
        "    no_matches = sum([x == 0 for x in values])\n",
        "\n",
        "    row = [thr, matches, no_matches, mean(values), stdev(values), max(values), min(values)]\n",
        "    thr_rows.append(row)\n",
        "    print(counter)"
      ]
    },
    {
      "cell_type": "code",
      "execution_count": 107,
      "metadata": {
        "id": "JdjmBNgCq-1P",
        "outputId": "5cad825c-2eca-4b61-fe3f-f8dceb2bf0aa"
      },
      "outputs": [
        {
          "data": {
            "text/html": [
              "<div>\n",
              "<style scoped>\n",
              "    .dataframe tbody tr th:only-of-type {\n",
              "        vertical-align: middle;\n",
              "    }\n",
              "\n",
              "    .dataframe tbody tr th {\n",
              "        vertical-align: top;\n",
              "    }\n",
              "\n",
              "    .dataframe thead th {\n",
              "        text-align: right;\n",
              "    }\n",
              "</style>\n",
              "<table border=\"1\" class=\"dataframe\">\n",
              "  <thead>\n",
              "    <tr style=\"text-align: right;\">\n",
              "      <th></th>\n",
              "      <th>Threshold</th>\n",
              "      <th># Matches</th>\n",
              "      <th># No Matches</th>\n",
              "      <th>Mean</th>\n",
              "      <th>Std</th>\n",
              "      <th>Max</th>\n",
              "      <th>Min</th>\n",
              "    </tr>\n",
              "  </thead>\n",
              "  <tbody>\n",
              "    <tr>\n",
              "      <th>0</th>\n",
              "      <td>300</td>\n",
              "      <td>106</td>\n",
              "      <td>552</td>\n",
              "      <td>0.910334</td>\n",
              "      <td>3.649338</td>\n",
              "      <td>26</td>\n",
              "      <td>0</td>\n",
              "    </tr>\n",
              "    <tr>\n",
              "      <th>1</th>\n",
              "      <td>200</td>\n",
              "      <td>103</td>\n",
              "      <td>555</td>\n",
              "      <td>0.861702</td>\n",
              "      <td>3.557832</td>\n",
              "      <td>26</td>\n",
              "      <td>0</td>\n",
              "    </tr>\n",
              "    <tr>\n",
              "      <th>2</th>\n",
              "      <td>100</td>\n",
              "      <td>96</td>\n",
              "      <td>562</td>\n",
              "      <td>0.694529</td>\n",
              "      <td>2.867866</td>\n",
              "      <td>24</td>\n",
              "      <td>0</td>\n",
              "    </tr>\n",
              "    <tr>\n",
              "      <th>3</th>\n",
              "      <td>0</td>\n",
              "      <td>55</td>\n",
              "      <td>603</td>\n",
              "      <td>0.189970</td>\n",
              "      <td>0.848720</td>\n",
              "      <td>6</td>\n",
              "      <td>0</td>\n",
              "    </tr>\n",
              "  </tbody>\n",
              "</table>\n",
              "</div>"
            ],
            "text/plain": [
              "   Threshold  # Matches  # No Matches      Mean       Std  Max  Min\n",
              "0        300        106           552  0.910334  3.649338   26    0\n",
              "1        200        103           555  0.861702  3.557832   26    0\n",
              "2        100         96           562  0.694529  2.867866   24    0\n",
              "3          0         55           603  0.189970  0.848720    6    0"
            ]
          },
          "execution_count": 107,
          "metadata": {},
          "output_type": "execute_result"
        }
      ],
      "source": [
        "pd.DataFrame(thr_rows, columns=[\"Threshold\", \"# Matches\", \"# No Matches\", \"Mean\", \"Std\", \"Max\", \"Min\"])"
      ]
    },
    {
      "cell_type": "code",
      "execution_count": 108,
      "metadata": {
        "id": "XYbOW1_lq-1P"
      },
      "outputs": [],
      "source": [
        "# YES MULTIPLER\n",
        "values = []\n",
        "for i, row in aid.iterrows():\n",
        "    potential = do_match(row, 0, True)\n",
        "    if potential.shape[0] > 0:\n",
        "        if len([x for x in potential['installed_capacity'].to_list() if x != row['installed_capacity']]) > 0:\n",
        "            values.append(row['primary_fuel'])"
      ]
    },
    {
      "cell_type": "code",
      "execution_count": 109,
      "metadata": {
        "id": "O-bepOCeq-1Q",
        "outputId": "93c88a7a-4dbe-4357-f00b-9e86d0e77ef9"
      },
      "outputs": [
        {
          "data": {
            "text/plain": [
              "{'coal', 'hydro', 'solar pv'}"
            ]
          },
          "execution_count": 109,
          "metadata": {},
          "output_type": "execute_result"
        }
      ],
      "source": [
        "set(values)"
      ]
    },
    {
      "cell_type": "markdown",
      "metadata": {
        "id": "zlnU7qMLq-1Q"
      },
      "source": [
        "#### Check the similarity between additional_info and power_plant_name, between city columns, between province columns"
      ]
    },
    {
      "cell_type": "code",
      "execution_count": 110,
      "metadata": {
        "id": "s_PWc6YPq-1Q"
      },
      "outputs": [],
      "source": [
        "from thefuzz import fuzz"
      ]
    },
    {
      "cell_type": "code",
      "execution_count": 111,
      "metadata": {
        "id": "etdH4MPRq-1Q"
      },
      "outputs": [],
      "source": [
        "aid['additional_info'] = aid['additional_info'].apply(preprocess_text)\n",
        "aid['city'] = aid['city'].apply(preprocess_text)\n",
        "aid['province'] = aid['province'].apply(preprocess_text)\n",
        "cofi['power_plant_name'] = cofi['power_plant_name'].apply(preprocess_text)\n",
        "cofi['city'] = cofi['city'].apply(preprocess_text)\n",
        "cofi['province'] = cofi['province'].apply(preprocess_text)"
      ]
    },
    {
      "cell_type": "code",
      "execution_count": 112,
      "metadata": {
        "id": "N77o2oZTq-1Q",
        "outputId": "4a90479e-e98e-438c-c725-b69b3ddd4f4c"
      },
      "outputs": [
        {
          "data": {
            "text/html": [
              "<div>\n",
              "<style scoped>\n",
              "    .dataframe tbody tr th:only-of-type {\n",
              "        vertical-align: middle;\n",
              "    }\n",
              "\n",
              "    .dataframe tbody tr th {\n",
              "        vertical-align: top;\n",
              "    }\n",
              "\n",
              "    .dataframe thead th {\n",
              "        text-align: right;\n",
              "    }\n",
              "</style>\n",
              "<table border=\"1\" class=\"dataframe\">\n",
              "  <thead>\n",
              "    <tr style=\"text-align: right;\">\n",
              "      <th></th>\n",
              "      <th>city</th>\n",
              "      <th>province</th>\n",
              "    </tr>\n",
              "  </thead>\n",
              "  <tbody>\n",
              "    <tr>\n",
              "      <th>0</th>\n",
              "      <td>palapye</td>\n",
              "      <td></td>\n",
              "    </tr>\n",
              "    <tr>\n",
              "      <th>1</th>\n",
              "      <td>franceville</td>\n",
              "      <td>haut-ogooué</td>\n",
              "    </tr>\n",
              "  </tbody>\n",
              "</table>\n",
              "</div>"
            ],
            "text/plain": [
              "          city     province\n",
              "0      palapye             \n",
              "1  franceville  haut-ogooué"
            ]
          },
          "execution_count": 112,
          "metadata": {},
          "output_type": "execute_result"
        }
      ],
      "source": [
        "aid[['city', \"province\"]].head(2)"
      ]
    },
    {
      "cell_type": "code",
      "execution_count": 113,
      "metadata": {
        "id": "63z0Dbznq-1R"
      },
      "outputs": [],
      "source": [
        "def compute_similarity(text_1, text_2):\n",
        "    if text_1 == \"\" and text_2 == \"\":\n",
        "        return 0\n",
        "    else:\n",
        "        return fuzz.partial_ratio(text_1, text_2)"
      ]
    },
    {
      "cell_type": "code",
      "execution_count": 114,
      "metadata": {
        "id": "V9DZ-fTkq-1R"
      },
      "outputs": [],
      "source": [
        "thr = 0\n",
        "rows = []\n",
        "for i, row in aid.iterrows():\n",
        "    potential = do_match(row, thr, False)\n",
        "        # since there are multiple results, we compute the matching for all the results\n",
        "        # and then get the best score for the three columns we are comparning (name, city and province)\n",
        "    if potential.shape[0] == 0:\n",
        "        continue\n",
        "    potential = potential.reset_index()\n",
        "    name_sims = []\n",
        "    city_sims = []\n",
        "    province_sims = []\n",
        "    for _, row_potential in potential.iterrows():\n",
        "        name_sims.append(compute_similarity(row['additional_info'], row_potential['power_plant_name']))\n",
        "        # name_sims.append(compute_similarity(row['name'], row_potential['power_plant_name']))\n",
        "        city_sims.append(compute_similarity(row['city'], row_potential['city']))\n",
        "        province_sims.append(compute_similarity(row['province'], row_potential['province']))\n",
        "\n",
        "    sim_name = max(name_sims)\n",
        "    sim_city = max(city_sims)\n",
        "    sim_province = max(province_sims)\n",
        "\n",
        "    sims = [sim_name, sim_city, sim_province]\n",
        "\n",
        "    new_row = [i, sim_name, sim_city, sim_province, max(sims), min(sims)]\n",
        "    rows.append(new_row)\n"
      ]
    },
    {
      "cell_type": "code",
      "execution_count": 116,
      "metadata": {},
      "outputs": [
        {
          "data": {
            "text/html": [
              "<div>\n",
              "<style scoped>\n",
              "    .dataframe tbody tr th:only-of-type {\n",
              "        vertical-align: middle;\n",
              "    }\n",
              "\n",
              "    .dataframe tbody tr th {\n",
              "        vertical-align: top;\n",
              "    }\n",
              "\n",
              "    .dataframe thead th {\n",
              "        text-align: right;\n",
              "    }\n",
              "</style>\n",
              "<table border=\"1\" class=\"dataframe\">\n",
              "  <thead>\n",
              "    <tr style=\"text-align: right;\">\n",
              "      <th></th>\n",
              "      <th>AidData row</th>\n",
              "      <th>Name</th>\n",
              "      <th>City</th>\n",
              "      <th>Province</th>\n",
              "      <th>Max</th>\n",
              "      <th>Min</th>\n",
              "    </tr>\n",
              "  </thead>\n",
              "  <tbody>\n",
              "    <tr>\n",
              "      <th>0</th>\n",
              "      <td>1</td>\n",
              "      <td>100</td>\n",
              "      <td>20</td>\n",
              "      <td>95</td>\n",
              "      <td>100</td>\n",
              "      <td>20</td>\n",
              "    </tr>\n",
              "    <tr>\n",
              "      <th>1</th>\n",
              "      <td>8</td>\n",
              "      <td>0</td>\n",
              "      <td>100</td>\n",
              "      <td>0</td>\n",
              "      <td>100</td>\n",
              "      <td>0</td>\n",
              "    </tr>\n",
              "    <tr>\n",
              "      <th>2</th>\n",
              "      <td>11</td>\n",
              "      <td>89</td>\n",
              "      <td>100</td>\n",
              "      <td>26</td>\n",
              "      <td>100</td>\n",
              "      <td>26</td>\n",
              "    </tr>\n",
              "    <tr>\n",
              "      <th>3</th>\n",
              "      <td>13</td>\n",
              "      <td>88</td>\n",
              "      <td>0</td>\n",
              "      <td>0</td>\n",
              "      <td>88</td>\n",
              "      <td>0</td>\n",
              "    </tr>\n",
              "    <tr>\n",
              "      <th>4</th>\n",
              "      <td>16</td>\n",
              "      <td>0</td>\n",
              "      <td>57</td>\n",
              "      <td>67</td>\n",
              "      <td>67</td>\n",
              "      <td>0</td>\n",
              "    </tr>\n",
              "  </tbody>\n",
              "</table>\n",
              "</div>"
            ],
            "text/plain": [
              "   AidData row  Name  City  Province  Max  Min\n",
              "0            1   100    20        95  100   20\n",
              "1            8     0   100         0  100    0\n",
              "2           11    89   100        26  100   26\n",
              "3           13    88     0         0   88    0\n",
              "4           16     0    57        67   67    0"
            ]
          },
          "execution_count": 116,
          "metadata": {},
          "output_type": "execute_result"
        }
      ],
      "source": [
        "matching_on_additional_info.head()"
      ]
    },
    {
      "cell_type": "code",
      "execution_count": 117,
      "metadata": {},
      "outputs": [
        {
          "data": {
            "text/plain": [
              "AidData row    51\n",
              "Name           12\n",
              "City           15\n",
              "Province       13\n",
              "Max            12\n",
              "Min            14\n",
              "dtype: int64"
            ]
          },
          "execution_count": 117,
          "metadata": {},
          "output_type": "execute_result"
        }
      ],
      "source": [
        "matching_on_additional_info.nunique()"
      ]
    },
    {
      "cell_type": "code",
      "execution_count": null,
      "metadata": {},
      "outputs": [],
      "source": []
    },
    {
      "cell_type": "code",
      "execution_count": 79,
      "metadata": {
        "id": "q4Ngs8_Yq-1R",
        "outputId": "b1b30d3c-78ca-4353-dfeb-81b845a289c1"
      },
      "outputs": [
        {
          "ename": "ValueError",
          "evalue": "6 columns passed, passed data had 7 columns",
          "output_type": "error",
          "traceback": [
            "\u001b[0;31m---------------------------------------------------------------------------\u001b[0m",
            "\u001b[0;31mAssertionError\u001b[0m                            Traceback (most recent call last)",
            "File \u001b[0;32m~/Vs code projects/WRi-COFI-streamlit/env/lib/python3.12/site-packages/pandas/core/internals/construction.py:939\u001b[0m, in \u001b[0;36m_finalize_columns_and_data\u001b[0;34m(content, columns, dtype)\u001b[0m\n\u001b[1;32m    938\u001b[0m \u001b[38;5;28;01mtry\u001b[39;00m:\n\u001b[0;32m--> 939\u001b[0m     columns \u001b[38;5;241m=\u001b[39m \u001b[43m_validate_or_indexify_columns\u001b[49m\u001b[43m(\u001b[49m\u001b[43mcontents\u001b[49m\u001b[43m,\u001b[49m\u001b[43m \u001b[49m\u001b[43mcolumns\u001b[49m\u001b[43m)\u001b[49m\n\u001b[1;32m    940\u001b[0m \u001b[38;5;28;01mexcept\u001b[39;00m \u001b[38;5;167;01mAssertionError\u001b[39;00m \u001b[38;5;28;01mas\u001b[39;00m err:\n\u001b[1;32m    941\u001b[0m     \u001b[38;5;66;03m# GH#26429 do not raise user-facing AssertionError\u001b[39;00m\n",
            "File \u001b[0;32m~/Vs code projects/WRi-COFI-streamlit/env/lib/python3.12/site-packages/pandas/core/internals/construction.py:986\u001b[0m, in \u001b[0;36m_validate_or_indexify_columns\u001b[0;34m(content, columns)\u001b[0m\n\u001b[1;32m    984\u001b[0m \u001b[38;5;28;01mif\u001b[39;00m \u001b[38;5;129;01mnot\u001b[39;00m is_mi_list \u001b[38;5;129;01mand\u001b[39;00m \u001b[38;5;28mlen\u001b[39m(columns) \u001b[38;5;241m!=\u001b[39m \u001b[38;5;28mlen\u001b[39m(content):  \u001b[38;5;66;03m# pragma: no cover\u001b[39;00m\n\u001b[1;32m    985\u001b[0m     \u001b[38;5;66;03m# caller's responsibility to check for this...\u001b[39;00m\n\u001b[0;32m--> 986\u001b[0m     \u001b[38;5;28;01mraise\u001b[39;00m \u001b[38;5;167;01mAssertionError\u001b[39;00m(\n\u001b[1;32m    987\u001b[0m         \u001b[38;5;124mf\u001b[39m\u001b[38;5;124m\"\u001b[39m\u001b[38;5;132;01m{\u001b[39;00m\u001b[38;5;28mlen\u001b[39m(columns)\u001b[38;5;132;01m}\u001b[39;00m\u001b[38;5;124m columns passed, passed data had \u001b[39m\u001b[38;5;124m\"\u001b[39m\n\u001b[1;32m    988\u001b[0m         \u001b[38;5;124mf\u001b[39m\u001b[38;5;124m\"\u001b[39m\u001b[38;5;132;01m{\u001b[39;00m\u001b[38;5;28mlen\u001b[39m(content)\u001b[38;5;132;01m}\u001b[39;00m\u001b[38;5;124m columns\u001b[39m\u001b[38;5;124m\"\u001b[39m\n\u001b[1;32m    989\u001b[0m     )\n\u001b[1;32m    990\u001b[0m \u001b[38;5;28;01mif\u001b[39;00m is_mi_list:\n\u001b[1;32m    991\u001b[0m     \u001b[38;5;66;03m# check if nested list column, length of each sub-list should be equal\u001b[39;00m\n",
            "\u001b[0;31mAssertionError\u001b[0m: 6 columns passed, passed data had 7 columns",
            "\nThe above exception was the direct cause of the following exception:\n",
            "\u001b[0;31mValueError\u001b[0m                                Traceback (most recent call last)",
            "Cell \u001b[0;32mIn[79], line 1\u001b[0m\n\u001b[0;32m----> 1\u001b[0m matching_on_additional_info \u001b[38;5;241m=\u001b[39m \u001b[43mpd\u001b[49m\u001b[38;5;241;43m.\u001b[39;49m\u001b[43mDataFrame\u001b[49m\u001b[43m(\u001b[49m\u001b[43mrows\u001b[49m\u001b[43m,\u001b[49m\u001b[43m \u001b[49m\u001b[43mcolumns\u001b[49m\u001b[38;5;241;43m=\u001b[39;49m\u001b[43m[\u001b[49m\u001b[38;5;124;43m\"\u001b[39;49m\u001b[38;5;124;43mAidData row\u001b[39;49m\u001b[38;5;124;43m\"\u001b[39;49m\u001b[43m,\u001b[49m\u001b[43m \u001b[49m\u001b[38;5;124;43m\"\u001b[39;49m\u001b[38;5;124;43mName\u001b[39;49m\u001b[38;5;124;43m\"\u001b[39;49m\u001b[43m,\u001b[49m\u001b[43m \u001b[49m\u001b[38;5;124;43m\"\u001b[39;49m\u001b[38;5;124;43mCity\u001b[39;49m\u001b[38;5;124;43m\"\u001b[39;49m\u001b[43m,\u001b[49m\u001b[43m \u001b[49m\u001b[38;5;124;43m\"\u001b[39;49m\u001b[38;5;124;43mProvince\u001b[39;49m\u001b[38;5;124;43m\"\u001b[39;49m\u001b[43m,\u001b[49m\u001b[43m \u001b[49m\u001b[38;5;124;43m\"\u001b[39;49m\u001b[38;5;124;43mMax\u001b[39;49m\u001b[38;5;124;43m\"\u001b[39;49m\u001b[43m,\u001b[49m\u001b[43m \u001b[49m\u001b[38;5;124;43m\"\u001b[39;49m\u001b[38;5;124;43mMin\u001b[39;49m\u001b[38;5;124;43m\"\u001b[39;49m\u001b[43m]\u001b[49m\u001b[43m)\u001b[49m\n\u001b[1;32m      2\u001b[0m matching_on_additional_info\n",
            "File \u001b[0;32m~/Vs code projects/WRi-COFI-streamlit/env/lib/python3.12/site-packages/pandas/core/frame.py:851\u001b[0m, in \u001b[0;36mDataFrame.__init__\u001b[0;34m(self, data, index, columns, dtype, copy)\u001b[0m\n\u001b[1;32m    849\u001b[0m     \u001b[38;5;28;01mif\u001b[39;00m columns \u001b[38;5;129;01mis\u001b[39;00m \u001b[38;5;129;01mnot\u001b[39;00m \u001b[38;5;28;01mNone\u001b[39;00m:\n\u001b[1;32m    850\u001b[0m         columns \u001b[38;5;241m=\u001b[39m ensure_index(columns)\n\u001b[0;32m--> 851\u001b[0m     arrays, columns, index \u001b[38;5;241m=\u001b[39m \u001b[43mnested_data_to_arrays\u001b[49m\u001b[43m(\u001b[49m\n\u001b[1;32m    852\u001b[0m \u001b[43m        \u001b[49m\u001b[38;5;66;43;03m# error: Argument 3 to \"nested_data_to_arrays\" has incompatible\u001b[39;49;00m\n\u001b[1;32m    853\u001b[0m \u001b[43m        \u001b[49m\u001b[38;5;66;43;03m# type \"Optional[Collection[Any]]\"; expected \"Optional[Index]\"\u001b[39;49;00m\n\u001b[1;32m    854\u001b[0m \u001b[43m        \u001b[49m\u001b[43mdata\u001b[49m\u001b[43m,\u001b[49m\n\u001b[1;32m    855\u001b[0m \u001b[43m        \u001b[49m\u001b[43mcolumns\u001b[49m\u001b[43m,\u001b[49m\n\u001b[1;32m    856\u001b[0m \u001b[43m        \u001b[49m\u001b[43mindex\u001b[49m\u001b[43m,\u001b[49m\u001b[43m  \u001b[49m\u001b[38;5;66;43;03m# type: ignore[arg-type]\u001b[39;49;00m\n\u001b[1;32m    857\u001b[0m \u001b[43m        \u001b[49m\u001b[43mdtype\u001b[49m\u001b[43m,\u001b[49m\n\u001b[1;32m    858\u001b[0m \u001b[43m    \u001b[49m\u001b[43m)\u001b[49m\n\u001b[1;32m    859\u001b[0m     mgr \u001b[38;5;241m=\u001b[39m arrays_to_mgr(\n\u001b[1;32m    860\u001b[0m         arrays,\n\u001b[1;32m    861\u001b[0m         columns,\n\u001b[0;32m   (...)\u001b[0m\n\u001b[1;32m    864\u001b[0m         typ\u001b[38;5;241m=\u001b[39mmanager,\n\u001b[1;32m    865\u001b[0m     )\n\u001b[1;32m    866\u001b[0m \u001b[38;5;28;01melse\u001b[39;00m:\n",
            "File \u001b[0;32m~/Vs code projects/WRi-COFI-streamlit/env/lib/python3.12/site-packages/pandas/core/internals/construction.py:520\u001b[0m, in \u001b[0;36mnested_data_to_arrays\u001b[0;34m(data, columns, index, dtype)\u001b[0m\n\u001b[1;32m    517\u001b[0m \u001b[38;5;28;01mif\u001b[39;00m is_named_tuple(data[\u001b[38;5;241m0\u001b[39m]) \u001b[38;5;129;01mand\u001b[39;00m columns \u001b[38;5;129;01mis\u001b[39;00m \u001b[38;5;28;01mNone\u001b[39;00m:\n\u001b[1;32m    518\u001b[0m     columns \u001b[38;5;241m=\u001b[39m ensure_index(data[\u001b[38;5;241m0\u001b[39m]\u001b[38;5;241m.\u001b[39m_fields)\n\u001b[0;32m--> 520\u001b[0m arrays, columns \u001b[38;5;241m=\u001b[39m \u001b[43mto_arrays\u001b[49m\u001b[43m(\u001b[49m\u001b[43mdata\u001b[49m\u001b[43m,\u001b[49m\u001b[43m \u001b[49m\u001b[43mcolumns\u001b[49m\u001b[43m,\u001b[49m\u001b[43m \u001b[49m\u001b[43mdtype\u001b[49m\u001b[38;5;241;43m=\u001b[39;49m\u001b[43mdtype\u001b[49m\u001b[43m)\u001b[49m\n\u001b[1;32m    521\u001b[0m columns \u001b[38;5;241m=\u001b[39m ensure_index(columns)\n\u001b[1;32m    523\u001b[0m \u001b[38;5;28;01mif\u001b[39;00m index \u001b[38;5;129;01mis\u001b[39;00m \u001b[38;5;28;01mNone\u001b[39;00m:\n",
            "File \u001b[0;32m~/Vs code projects/WRi-COFI-streamlit/env/lib/python3.12/site-packages/pandas/core/internals/construction.py:845\u001b[0m, in \u001b[0;36mto_arrays\u001b[0;34m(data, columns, dtype)\u001b[0m\n\u001b[1;32m    842\u001b[0m     data \u001b[38;5;241m=\u001b[39m [\u001b[38;5;28mtuple\u001b[39m(x) \u001b[38;5;28;01mfor\u001b[39;00m x \u001b[38;5;129;01min\u001b[39;00m data]\n\u001b[1;32m    843\u001b[0m     arr \u001b[38;5;241m=\u001b[39m _list_to_arrays(data)\n\u001b[0;32m--> 845\u001b[0m content, columns \u001b[38;5;241m=\u001b[39m \u001b[43m_finalize_columns_and_data\u001b[49m\u001b[43m(\u001b[49m\u001b[43marr\u001b[49m\u001b[43m,\u001b[49m\u001b[43m \u001b[49m\u001b[43mcolumns\u001b[49m\u001b[43m,\u001b[49m\u001b[43m \u001b[49m\u001b[43mdtype\u001b[49m\u001b[43m)\u001b[49m\n\u001b[1;32m    846\u001b[0m \u001b[38;5;28;01mreturn\u001b[39;00m content, columns\n",
            "File \u001b[0;32m~/Vs code projects/WRi-COFI-streamlit/env/lib/python3.12/site-packages/pandas/core/internals/construction.py:942\u001b[0m, in \u001b[0;36m_finalize_columns_and_data\u001b[0;34m(content, columns, dtype)\u001b[0m\n\u001b[1;32m    939\u001b[0m     columns \u001b[38;5;241m=\u001b[39m _validate_or_indexify_columns(contents, columns)\n\u001b[1;32m    940\u001b[0m \u001b[38;5;28;01mexcept\u001b[39;00m \u001b[38;5;167;01mAssertionError\u001b[39;00m \u001b[38;5;28;01mas\u001b[39;00m err:\n\u001b[1;32m    941\u001b[0m     \u001b[38;5;66;03m# GH#26429 do not raise user-facing AssertionError\u001b[39;00m\n\u001b[0;32m--> 942\u001b[0m     \u001b[38;5;28;01mraise\u001b[39;00m \u001b[38;5;167;01mValueError\u001b[39;00m(err) \u001b[38;5;28;01mfrom\u001b[39;00m \u001b[38;5;21;01merr\u001b[39;00m\n\u001b[1;32m    944\u001b[0m \u001b[38;5;28;01mif\u001b[39;00m \u001b[38;5;28mlen\u001b[39m(contents) \u001b[38;5;129;01mand\u001b[39;00m contents[\u001b[38;5;241m0\u001b[39m]\u001b[38;5;241m.\u001b[39mdtype \u001b[38;5;241m==\u001b[39m np\u001b[38;5;241m.\u001b[39mobject_:\n\u001b[1;32m    945\u001b[0m     contents \u001b[38;5;241m=\u001b[39m convert_object_array(contents, dtype\u001b[38;5;241m=\u001b[39mdtype)\n",
            "\u001b[0;31mValueError\u001b[0m: 6 columns passed, passed data had 7 columns"
          ]
        }
      ],
      "source": [
        "matching_on_additional_info = pd.DataFrame(rows, columns=[\"AidData row\", \"Name\", \"City\", \"Province\", \"Max\", \"Min\"])\n",
        "matching_on_additional_info"
      ]
    },
    {
      "cell_type": "code",
      "execution_count": 39,
      "metadata": {},
      "outputs": [
        {
          "data": {
            "text/plain": [
              "(51, 6)"
            ]
          },
          "execution_count": 39,
          "metadata": {},
          "output_type": "execute_result"
        }
      ],
      "source": [
        "matching_on_additional_info.shape"
      ]
    },
    {
      "cell_type": "code",
      "execution_count": 40,
      "metadata": {
        "id": "A4puyKyhq-1R",
        "outputId": "f917debc-1100-426a-fc48-77ba63c7dcc3"
      },
      "outputs": [
        {
          "name": "stdout",
          "output_type": "stream",
          "text": [
            "Name\n",
            "mean: 51.27450980392157\n",
            "std: 43.55138502108632\n",
            "% > 70: 19.42\n",
            "% > 80: 19.42\n",
            "% > 90: 12.62\n",
            "% > 95: 10.68\n",
            "\n",
            "City\n",
            "mean: 57.470588235294116\n",
            "std: 40.12697493765334\n",
            "% > 70: 23.30\n",
            "% > 80: 22.33\n",
            "% > 90: 18.45\n",
            "% > 95: 17.48\n",
            "\n",
            "Province\n",
            "mean: 56.68627450980392\n",
            "std: 44.57420338988839\n",
            "% > 70: 24.27\n",
            "% > 80: 24.27\n",
            "% > 90: 24.27\n",
            "% > 95: 22.33\n",
            "\n"
          ]
        }
      ],
      "source": [
        "for col in ['Name', 'City', 'Province']:\n",
        "    values = matching_on_additional_info[col].to_list()\n",
        "    count = 103\n",
        "    print(col)\n",
        "    print(f\"mean: {mean(values)}\")\n",
        "    print(f\"std: {stdev(values)}\")\n",
        "    for sim_thr in [70, 80, 90, 95]:\n",
        "        print(f\"% > {sim_thr}: {sum([x > sim_thr for x in values]) / count * 100:.2f}\")\n",
        "\n",
        "    print(\"\")"
      ]
    },
    {
      "cell_type": "markdown",
      "metadata": {
        "id": "YUu6EoXcq-1R"
      },
      "source": [
        "#### Compute how many rows in AidData have multiple matches in COFI"
      ]
    },
    {
      "cell_type": "code",
      "execution_count": 41,
      "metadata": {
        "id": "6M4EHtKGq-1R"
      },
      "outputs": [],
      "source": [
        "# compute for how many rows there are multiple matches: for these rows we do neet to know how to pick one best match\n",
        "thr = 0\n",
        "sizes = []\n",
        "for i, row in aid.iterrows():\n",
        "    potential = do_match(row, thr, False)\n",
        "    sizes.append(potential.shape[0])"
      ]
    },
    {
      "cell_type": "code",
      "execution_count": 42,
      "metadata": {
        "id": "BPULMO-gq-1R",
        "outputId": "0fa772f6-7cfd-446a-d3e1-9bc5c3f76eaf"
      },
      "outputs": [
        {
          "data": {
            "text/plain": [
              "12"
            ]
          },
          "execution_count": 42,
          "metadata": {},
          "output_type": "execute_result"
        }
      ],
      "source": [
        "len([x for x in sizes if x > 1])"
      ]
    },
    {
      "cell_type": "markdown",
      "metadata": {
        "id": "76SPjkWfq-1S"
      },
      "source": [
        "#### Use different functions to compute similarities"
      ]
    },
    {
      "cell_type": "code",
      "execution_count": 43,
      "metadata": {
        "id": "QH6jiqmRq-1S"
      },
      "outputs": [],
      "source": [
        "def compute_similarity_v2(text_1, text_2, func = fuzz.partial_token_set_ratio):\n",
        "    if text_1 == \"\" and text_2 == \"\":\n",
        "        return 0\n",
        "    else:\n",
        "        return func(text_1, text_2)"
      ]
    },
    {
      "cell_type": "code",
      "execution_count": 44,
      "metadata": {
        "id": "2R2H5eVMq-1S"
      },
      "outputs": [],
      "source": [
        "thr = 0\n",
        "datasets = {}\n",
        "for func in [fuzz.partial_ratio, fuzz.partial_token_set_ratio, fuzz.partial_token_sort_ratio, fuzz.ratio]:\n",
        "    rows = []\n",
        "    for i, row in aid.iterrows():\n",
        "        potential = do_match(row, thr, False)\n",
        "            # since there are multiple results, we compute the matching for all the results\n",
        "            # and then get the best score for the three columns we are comparning (name, city and province)\n",
        "        if potential.shape[0] == 0:\n",
        "            continue\n",
        "        potential = potential.reset_index()\n",
        "        name_sims = []\n",
        "        city_sims = []\n",
        "        province_sims = []\n",
        "        for _, row_potential in potential.iterrows():\n",
        "            name_sims.append(compute_similarity_v2(row['additional_info'], row_potential['power_plant_name'], func))\n",
        "            # name_sims.append(compute_similarity_v2(row['name'], row_potential['power_plant_name'], func))\n",
        "            city_sims.append(compute_similarity_v2(row['city'], row_potential['city'], func))\n",
        "            province_sims.append(compute_similarity_v2(row['province'], row_potential['province'], func))\n",
        "\n",
        "        sim_name = max(name_sims)\n",
        "        sim_city = max(city_sims)\n",
        "        sim_province = max(province_sims)\n",
        "\n",
        "        sims = [sim_name, sim_city, sim_province]\n",
        "\n",
        "        new_row = [i, sim_name, sim_city, sim_province, max(sims), min(sims)]\n",
        "        rows.append(new_row)\n",
        "\n",
        "    # save the information for this function\n",
        "    datasets[func] = pd.DataFrame(rows, columns=[\"AidData row\", \"Name\", \"City\", \"Province\", \"Max\", \"Min\"])"
      ]
    },
    {
      "cell_type": "code",
      "execution_count": 45,
      "metadata": {
        "id": "hOuoRbhhq-1S",
        "outputId": "447a8251-b290-4835-b85e-8039778be8c2"
      },
      "outputs": [
        {
          "data": {
            "text/html": [
              "<div>\n",
              "<style scoped>\n",
              "    .dataframe tbody tr th:only-of-type {\n",
              "        vertical-align: middle;\n",
              "    }\n",
              "\n",
              "    .dataframe tbody tr th {\n",
              "        vertical-align: top;\n",
              "    }\n",
              "\n",
              "    .dataframe thead th {\n",
              "        text-align: right;\n",
              "    }\n",
              "</style>\n",
              "<table border=\"1\" class=\"dataframe\">\n",
              "  <thead>\n",
              "    <tr style=\"text-align: right;\">\n",
              "      <th></th>\n",
              "      <th>AidData row</th>\n",
              "      <th>Name</th>\n",
              "      <th>City</th>\n",
              "      <th>Province</th>\n",
              "      <th>Max</th>\n",
              "      <th>Min</th>\n",
              "    </tr>\n",
              "  </thead>\n",
              "  <tbody>\n",
              "    <tr>\n",
              "      <th>0</th>\n",
              "      <td>1</td>\n",
              "      <td>100</td>\n",
              "      <td>20</td>\n",
              "      <td>95</td>\n",
              "      <td>100</td>\n",
              "      <td>20</td>\n",
              "    </tr>\n",
              "    <tr>\n",
              "      <th>1</th>\n",
              "      <td>8</td>\n",
              "      <td>0</td>\n",
              "      <td>100</td>\n",
              "      <td>0</td>\n",
              "      <td>100</td>\n",
              "      <td>0</td>\n",
              "    </tr>\n",
              "    <tr>\n",
              "      <th>2</th>\n",
              "      <td>11</td>\n",
              "      <td>89</td>\n",
              "      <td>100</td>\n",
              "      <td>26</td>\n",
              "      <td>100</td>\n",
              "      <td>26</td>\n",
              "    </tr>\n",
              "    <tr>\n",
              "      <th>3</th>\n",
              "      <td>13</td>\n",
              "      <td>88</td>\n",
              "      <td>0</td>\n",
              "      <td>0</td>\n",
              "      <td>88</td>\n",
              "      <td>0</td>\n",
              "    </tr>\n",
              "    <tr>\n",
              "      <th>4</th>\n",
              "      <td>16</td>\n",
              "      <td>0</td>\n",
              "      <td>57</td>\n",
              "      <td>67</td>\n",
              "      <td>67</td>\n",
              "      <td>0</td>\n",
              "    </tr>\n",
              "    <tr>\n",
              "      <th>5</th>\n",
              "      <td>17</td>\n",
              "      <td>0</td>\n",
              "      <td>33</td>\n",
              "      <td>18</td>\n",
              "      <td>33</td>\n",
              "      <td>0</td>\n",
              "    </tr>\n",
              "    <tr>\n",
              "      <th>6</th>\n",
              "      <td>41</td>\n",
              "      <td>100</td>\n",
              "      <td>100</td>\n",
              "      <td>0</td>\n",
              "      <td>100</td>\n",
              "      <td>0</td>\n",
              "    </tr>\n",
              "    <tr>\n",
              "      <th>7</th>\n",
              "      <td>42</td>\n",
              "      <td>83</td>\n",
              "      <td>91</td>\n",
              "      <td>32</td>\n",
              "      <td>91</td>\n",
              "      <td>32</td>\n",
              "    </tr>\n",
              "    <tr>\n",
              "      <th>8</th>\n",
              "      <td>51</td>\n",
              "      <td>0</td>\n",
              "      <td>36</td>\n",
              "      <td>25</td>\n",
              "      <td>36</td>\n",
              "      <td>0</td>\n",
              "    </tr>\n",
              "    <tr>\n",
              "      <th>9</th>\n",
              "      <td>52</td>\n",
              "      <td>0</td>\n",
              "      <td>100</td>\n",
              "      <td>0</td>\n",
              "      <td>100</td>\n",
              "      <td>0</td>\n",
              "    </tr>\n",
              "    <tr>\n",
              "      <th>10</th>\n",
              "      <td>54</td>\n",
              "      <td>0</td>\n",
              "      <td>36</td>\n",
              "      <td>25</td>\n",
              "      <td>36</td>\n",
              "      <td>0</td>\n",
              "    </tr>\n",
              "    <tr>\n",
              "      <th>11</th>\n",
              "      <td>55</td>\n",
              "      <td>0</td>\n",
              "      <td>43</td>\n",
              "      <td>0</td>\n",
              "      <td>43</td>\n",
              "      <td>0</td>\n",
              "    </tr>\n",
              "    <tr>\n",
              "      <th>12</th>\n",
              "      <td>56</td>\n",
              "      <td>0</td>\n",
              "      <td>46</td>\n",
              "      <td>0</td>\n",
              "      <td>46</td>\n",
              "      <td>0</td>\n",
              "    </tr>\n",
              "    <tr>\n",
              "      <th>13</th>\n",
              "      <td>57</td>\n",
              "      <td>0</td>\n",
              "      <td>100</td>\n",
              "      <td>100</td>\n",
              "      <td>100</td>\n",
              "      <td>0</td>\n",
              "    </tr>\n",
              "    <tr>\n",
              "      <th>14</th>\n",
              "      <td>65</td>\n",
              "      <td>0</td>\n",
              "      <td>0</td>\n",
              "      <td>0</td>\n",
              "      <td>0</td>\n",
              "      <td>0</td>\n",
              "    </tr>\n",
              "    <tr>\n",
              "      <th>15</th>\n",
              "      <td>78</td>\n",
              "      <td>0</td>\n",
              "      <td>100</td>\n",
              "      <td>36</td>\n",
              "      <td>100</td>\n",
              "      <td>0</td>\n",
              "    </tr>\n",
              "    <tr>\n",
              "      <th>16</th>\n",
              "      <td>86</td>\n",
              "      <td>100</td>\n",
              "      <td>100</td>\n",
              "      <td>0</td>\n",
              "      <td>100</td>\n",
              "      <td>0</td>\n",
              "    </tr>\n",
              "    <tr>\n",
              "      <th>17</th>\n",
              "      <td>94</td>\n",
              "      <td>0</td>\n",
              "      <td>33</td>\n",
              "      <td>33</td>\n",
              "      <td>33</td>\n",
              "      <td>0</td>\n",
              "    </tr>\n",
              "    <tr>\n",
              "      <th>18</th>\n",
              "      <td>109</td>\n",
              "      <td>100</td>\n",
              "      <td>100</td>\n",
              "      <td>100</td>\n",
              "      <td>100</td>\n",
              "      <td>100</td>\n",
              "    </tr>\n",
              "    <tr>\n",
              "      <th>19</th>\n",
              "      <td>175</td>\n",
              "      <td>0</td>\n",
              "      <td>0</td>\n",
              "      <td>0</td>\n",
              "      <td>0</td>\n",
              "      <td>0</td>\n",
              "    </tr>\n",
              "    <tr>\n",
              "      <th>20</th>\n",
              "      <td>179</td>\n",
              "      <td>50</td>\n",
              "      <td>100</td>\n",
              "      <td>100</td>\n",
              "      <td>100</td>\n",
              "      <td>50</td>\n",
              "    </tr>\n",
              "    <tr>\n",
              "      <th>21</th>\n",
              "      <td>199</td>\n",
              "      <td>0</td>\n",
              "      <td>0</td>\n",
              "      <td>100</td>\n",
              "      <td>100</td>\n",
              "      <td>0</td>\n",
              "    </tr>\n",
              "    <tr>\n",
              "      <th>22</th>\n",
              "      <td>227</td>\n",
              "      <td>70</td>\n",
              "      <td>36</td>\n",
              "      <td>100</td>\n",
              "      <td>100</td>\n",
              "      <td>36</td>\n",
              "    </tr>\n",
              "    <tr>\n",
              "      <th>23</th>\n",
              "      <td>330</td>\n",
              "      <td>0</td>\n",
              "      <td>0</td>\n",
              "      <td>43</td>\n",
              "      <td>43</td>\n",
              "      <td>0</td>\n",
              "    </tr>\n",
              "    <tr>\n",
              "      <th>24</th>\n",
              "      <td>331</td>\n",
              "      <td>90</td>\n",
              "      <td>33</td>\n",
              "      <td>0</td>\n",
              "      <td>90</td>\n",
              "      <td>0</td>\n",
              "    </tr>\n",
              "    <tr>\n",
              "      <th>25</th>\n",
              "      <td>332</td>\n",
              "      <td>90</td>\n",
              "      <td>0</td>\n",
              "      <td>0</td>\n",
              "      <td>90</td>\n",
              "      <td>0</td>\n",
              "    </tr>\n",
              "    <tr>\n",
              "      <th>26</th>\n",
              "      <td>340</td>\n",
              "      <td>93</td>\n",
              "      <td>100</td>\n",
              "      <td>100</td>\n",
              "      <td>100</td>\n",
              "      <td>93</td>\n",
              "    </tr>\n",
              "    <tr>\n",
              "      <th>27</th>\n",
              "      <td>345</td>\n",
              "      <td>0</td>\n",
              "      <td>52</td>\n",
              "      <td>30</td>\n",
              "      <td>52</td>\n",
              "      <td>0</td>\n",
              "    </tr>\n",
              "    <tr>\n",
              "      <th>28</th>\n",
              "      <td>347</td>\n",
              "      <td>89</td>\n",
              "      <td>89</td>\n",
              "      <td>100</td>\n",
              "      <td>100</td>\n",
              "      <td>89</td>\n",
              "    </tr>\n",
              "    <tr>\n",
              "      <th>29</th>\n",
              "      <td>415</td>\n",
              "      <td>38</td>\n",
              "      <td>25</td>\n",
              "      <td>40</td>\n",
              "      <td>40</td>\n",
              "      <td>25</td>\n",
              "    </tr>\n",
              "    <tr>\n",
              "      <th>30</th>\n",
              "      <td>443</td>\n",
              "      <td>100</td>\n",
              "      <td>90</td>\n",
              "      <td>100</td>\n",
              "      <td>100</td>\n",
              "      <td>90</td>\n",
              "    </tr>\n",
              "    <tr>\n",
              "      <th>31</th>\n",
              "      <td>455</td>\n",
              "      <td>100</td>\n",
              "      <td>0</td>\n",
              "      <td>0</td>\n",
              "      <td>100</td>\n",
              "      <td>0</td>\n",
              "    </tr>\n",
              "    <tr>\n",
              "      <th>32</th>\n",
              "      <td>456</td>\n",
              "      <td>100</td>\n",
              "      <td>0</td>\n",
              "      <td>0</td>\n",
              "      <td>100</td>\n",
              "      <td>0</td>\n",
              "    </tr>\n",
              "    <tr>\n",
              "      <th>33</th>\n",
              "      <td>493</td>\n",
              "      <td>100</td>\n",
              "      <td>76</td>\n",
              "      <td>100</td>\n",
              "      <td>100</td>\n",
              "      <td>76</td>\n",
              "    </tr>\n",
              "    <tr>\n",
              "      <th>34</th>\n",
              "      <td>506</td>\n",
              "      <td>100</td>\n",
              "      <td>20</td>\n",
              "      <td>95</td>\n",
              "      <td>100</td>\n",
              "      <td>20</td>\n",
              "    </tr>\n",
              "    <tr>\n",
              "      <th>35</th>\n",
              "      <td>510</td>\n",
              "      <td>89</td>\n",
              "      <td>100</td>\n",
              "      <td>26</td>\n",
              "      <td>100</td>\n",
              "      <td>26</td>\n",
              "    </tr>\n",
              "    <tr>\n",
              "      <th>36</th>\n",
              "      <td>549</td>\n",
              "      <td>69</td>\n",
              "      <td>100</td>\n",
              "      <td>100</td>\n",
              "      <td>100</td>\n",
              "      <td>69</td>\n",
              "    </tr>\n",
              "    <tr>\n",
              "      <th>37</th>\n",
              "      <td>558</td>\n",
              "      <td>69</td>\n",
              "      <td>100</td>\n",
              "      <td>100</td>\n",
              "      <td>100</td>\n",
              "      <td>69</td>\n",
              "    </tr>\n",
              "    <tr>\n",
              "      <th>38</th>\n",
              "      <td>559</td>\n",
              "      <td>69</td>\n",
              "      <td>100</td>\n",
              "      <td>100</td>\n",
              "      <td>100</td>\n",
              "      <td>69</td>\n",
              "    </tr>\n",
              "    <tr>\n",
              "      <th>39</th>\n",
              "      <td>560</td>\n",
              "      <td>69</td>\n",
              "      <td>100</td>\n",
              "      <td>100</td>\n",
              "      <td>100</td>\n",
              "      <td>69</td>\n",
              "    </tr>\n",
              "    <tr>\n",
              "      <th>40</th>\n",
              "      <td>574</td>\n",
              "      <td>100</td>\n",
              "      <td>90</td>\n",
              "      <td>100</td>\n",
              "      <td>100</td>\n",
              "      <td>90</td>\n",
              "    </tr>\n",
              "    <tr>\n",
              "      <th>41</th>\n",
              "      <td>575</td>\n",
              "      <td>100</td>\n",
              "      <td>90</td>\n",
              "      <td>100</td>\n",
              "      <td>100</td>\n",
              "      <td>90</td>\n",
              "    </tr>\n",
              "    <tr>\n",
              "      <th>42</th>\n",
              "      <td>581</td>\n",
              "      <td>70</td>\n",
              "      <td>36</td>\n",
              "      <td>100</td>\n",
              "      <td>100</td>\n",
              "      <td>36</td>\n",
              "    </tr>\n",
              "    <tr>\n",
              "      <th>43</th>\n",
              "      <td>582</td>\n",
              "      <td>70</td>\n",
              "      <td>36</td>\n",
              "      <td>100</td>\n",
              "      <td>100</td>\n",
              "      <td>36</td>\n",
              "    </tr>\n",
              "    <tr>\n",
              "      <th>44</th>\n",
              "      <td>591</td>\n",
              "      <td>69</td>\n",
              "      <td>100</td>\n",
              "      <td>100</td>\n",
              "      <td>100</td>\n",
              "      <td>69</td>\n",
              "    </tr>\n",
              "    <tr>\n",
              "      <th>45</th>\n",
              "      <td>592</td>\n",
              "      <td>69</td>\n",
              "      <td>100</td>\n",
              "      <td>100</td>\n",
              "      <td>100</td>\n",
              "      <td>69</td>\n",
              "    </tr>\n",
              "    <tr>\n",
              "      <th>46</th>\n",
              "      <td>601</td>\n",
              "      <td>0</td>\n",
              "      <td>33</td>\n",
              "      <td>100</td>\n",
              "      <td>100</td>\n",
              "      <td>0</td>\n",
              "    </tr>\n",
              "    <tr>\n",
              "      <th>47</th>\n",
              "      <td>602</td>\n",
              "      <td>0</td>\n",
              "      <td>33</td>\n",
              "      <td>0</td>\n",
              "      <td>33</td>\n",
              "      <td>0</td>\n",
              "    </tr>\n",
              "    <tr>\n",
              "      <th>48</th>\n",
              "      <td>615</td>\n",
              "      <td>0</td>\n",
              "      <td>0</td>\n",
              "      <td>100</td>\n",
              "      <td>100</td>\n",
              "      <td>0</td>\n",
              "    </tr>\n",
              "    <tr>\n",
              "      <th>49</th>\n",
              "      <td>616</td>\n",
              "      <td>0</td>\n",
              "      <td>0</td>\n",
              "      <td>100</td>\n",
              "      <td>100</td>\n",
              "      <td>0</td>\n",
              "    </tr>\n",
              "    <tr>\n",
              "      <th>50</th>\n",
              "      <td>630</td>\n",
              "      <td>92</td>\n",
              "      <td>97</td>\n",
              "      <td>100</td>\n",
              "      <td>100</td>\n",
              "      <td>92</td>\n",
              "    </tr>\n",
              "  </tbody>\n",
              "</table>\n",
              "</div>"
            ],
            "text/plain": [
              "    AidData row  Name  City  Province  Max  Min\n",
              "0             1   100    20        95  100   20\n",
              "1             8     0   100         0  100    0\n",
              "2            11    89   100        26  100   26\n",
              "3            13    88     0         0   88    0\n",
              "4            16     0    57        67   67    0\n",
              "5            17     0    33        18   33    0\n",
              "6            41   100   100         0  100    0\n",
              "7            42    83    91        32   91   32\n",
              "8            51     0    36        25   36    0\n",
              "9            52     0   100         0  100    0\n",
              "10           54     0    36        25   36    0\n",
              "11           55     0    43         0   43    0\n",
              "12           56     0    46         0   46    0\n",
              "13           57     0   100       100  100    0\n",
              "14           65     0     0         0    0    0\n",
              "15           78     0   100        36  100    0\n",
              "16           86   100   100         0  100    0\n",
              "17           94     0    33        33   33    0\n",
              "18          109   100   100       100  100  100\n",
              "19          175     0     0         0    0    0\n",
              "20          179    50   100       100  100   50\n",
              "21          199     0     0       100  100    0\n",
              "22          227    70    36       100  100   36\n",
              "23          330     0     0        43   43    0\n",
              "24          331    90    33         0   90    0\n",
              "25          332    90     0         0   90    0\n",
              "26          340    93   100       100  100   93\n",
              "27          345     0    52        30   52    0\n",
              "28          347    89    89       100  100   89\n",
              "29          415    38    25        40   40   25\n",
              "30          443   100    90       100  100   90\n",
              "31          455   100     0         0  100    0\n",
              "32          456   100     0         0  100    0\n",
              "33          493   100    76       100  100   76\n",
              "34          506   100    20        95  100   20\n",
              "35          510    89   100        26  100   26\n",
              "36          549    69   100       100  100   69\n",
              "37          558    69   100       100  100   69\n",
              "38          559    69   100       100  100   69\n",
              "39          560    69   100       100  100   69\n",
              "40          574   100    90       100  100   90\n",
              "41          575   100    90       100  100   90\n",
              "42          581    70    36       100  100   36\n",
              "43          582    70    36       100  100   36\n",
              "44          591    69   100       100  100   69\n",
              "45          592    69   100       100  100   69\n",
              "46          601     0    33       100  100    0\n",
              "47          602     0    33         0   33    0\n",
              "48          615     0     0       100  100    0\n",
              "49          616     0     0       100  100    0\n",
              "50          630    92    97       100  100   92"
            ]
          },
          "execution_count": 45,
          "metadata": {},
          "output_type": "execute_result"
        }
      ],
      "source": [
        "datasets[fuzz.partial_ratio]"
      ]
    },
    {
      "cell_type": "code",
      "execution_count": 46,
      "metadata": {
        "id": "ow4kVLliq-1S"
      },
      "outputs": [],
      "source": [
        "rows = []\n",
        "count = 103\n",
        "for func in [fuzz.partial_ratio, fuzz.partial_token_set_ratio, fuzz.partial_token_sort_ratio, fuzz.ratio]:\n",
        "    row = [str(func).split(\" \")[1]]\n",
        "    db = datasets[func]\n",
        "\n",
        "    for col in [\"Name\", \"City\", \"Province\"]:\n",
        "        values = db[col].to_list()\n",
        "        row.append(mean(values))\n",
        "        row.append(stdev(values))\n",
        "\n",
        "    rows.append(row)"
      ]
    },
    {
      "cell_type": "code",
      "execution_count": 47,
      "metadata": {
        "id": "SRbJZQjeq-1S",
        "outputId": "c46ed3a3-8dad-4dfa-cc56-e9679ea4f6ce"
      },
      "outputs": [
        {
          "data": {
            "text/html": [
              "<div>\n",
              "<style scoped>\n",
              "    .dataframe tbody tr th:only-of-type {\n",
              "        vertical-align: middle;\n",
              "    }\n",
              "\n",
              "    .dataframe tbody tr th {\n",
              "        vertical-align: top;\n",
              "    }\n",
              "\n",
              "    .dataframe thead th {\n",
              "        text-align: right;\n",
              "    }\n",
              "</style>\n",
              "<table border=\"1\" class=\"dataframe\">\n",
              "  <thead>\n",
              "    <tr style=\"text-align: right;\">\n",
              "      <th></th>\n",
              "      <th>Function</th>\n",
              "      <th>Name: mean</th>\n",
              "      <th>Name: std</th>\n",
              "      <th>City: mean</th>\n",
              "      <th>City: std</th>\n",
              "      <th>Province: mean</th>\n",
              "      <th>Province: std</th>\n",
              "    </tr>\n",
              "  </thead>\n",
              "  <tbody>\n",
              "    <tr>\n",
              "      <th>0</th>\n",
              "      <td>partial_ratio</td>\n",
              "      <td>51.274510</td>\n",
              "      <td>43.551385</td>\n",
              "      <td>57.470588</td>\n",
              "      <td>40.126975</td>\n",
              "      <td>56.686275</td>\n",
              "      <td>44.574203</td>\n",
              "    </tr>\n",
              "    <tr>\n",
              "      <th>1</th>\n",
              "      <td>partial_token_set_ratio</td>\n",
              "      <td>59.254902</td>\n",
              "      <td>49.025236</td>\n",
              "      <td>57.686275</td>\n",
              "      <td>41.343677</td>\n",
              "      <td>57.313725</td>\n",
              "      <td>44.478979</td>\n",
              "    </tr>\n",
              "    <tr>\n",
              "      <th>2</th>\n",
              "      <td>partial_token_sort_ratio</td>\n",
              "      <td>47.941176</td>\n",
              "      <td>41.615580</td>\n",
              "      <td>57.196078</td>\n",
              "      <td>40.916999</td>\n",
              "      <td>57.313725</td>\n",
              "      <td>44.478979</td>\n",
              "    </tr>\n",
              "    <tr>\n",
              "      <th>3</th>\n",
              "      <td>ratio</td>\n",
              "      <td>36.019608</td>\n",
              "      <td>33.270101</td>\n",
              "      <td>37.509804</td>\n",
              "      <td>33.066825</td>\n",
              "      <td>51.078431</td>\n",
              "      <td>44.265943</td>\n",
              "    </tr>\n",
              "  </tbody>\n",
              "</table>\n",
              "</div>"
            ],
            "text/plain": [
              "                   Function  Name: mean  Name: std  City: mean  City: std  \\\n",
              "0             partial_ratio   51.274510  43.551385   57.470588  40.126975   \n",
              "1   partial_token_set_ratio   59.254902  49.025236   57.686275  41.343677   \n",
              "2  partial_token_sort_ratio   47.941176  41.615580   57.196078  40.916999   \n",
              "3                     ratio   36.019608  33.270101   37.509804  33.066825   \n",
              "\n",
              "   Province: mean  Province: std  \n",
              "0       56.686275      44.574203  \n",
              "1       57.313725      44.478979  \n",
              "2       57.313725      44.478979  \n",
              "3       51.078431      44.265943  "
            ]
          },
          "execution_count": 47,
          "metadata": {},
          "output_type": "execute_result"
        }
      ],
      "source": [
        "sim_res = pd.DataFrame(rows, columns=['Function', \"Name: mean\", \"Name: std\", \"City: mean\", \"City: std\", \"Province: mean\", \"Province: std\"])\n",
        "sim_res"
      ]
    },
    {
      "cell_type": "code",
      "execution_count": 48,
      "metadata": {
        "id": "e4g_IP-Kq-1S",
        "outputId": "ecbdcc0a-5e47-4745-91de-86c355c59448"
      },
      "outputs": [
        {
          "name": "stdout",
          "output_type": "stream",
          "text": [
            "Name: mean: partial_token_set_ratio\n",
            "City: mean: partial_token_set_ratio\n",
            "Province: mean: partial_token_set_ratio\n"
          ]
        }
      ],
      "source": [
        "for col in ['Name: mean', \"City: mean\", \"Province: mean\"]:\n",
        "    id = sim_res[col].idxmax()\n",
        "    print(f\"{col}: {sim_res.iloc[id][\"Function\"]}\")"
      ]
    },
    {
      "cell_type": "markdown",
      "metadata": {
        "id": "7gL5EFznq-1S"
      },
      "source": [
        "#### Manually check the matching"
      ]
    },
    {
      "cell_type": "code",
      "execution_count": 49,
      "metadata": {
        "id": "4L5AMYl4q-1S"
      },
      "outputs": [],
      "source": [
        "aid = aid.rename(columns={\"additional_info\": \"name\"})"
      ]
    },
    {
      "cell_type": "code",
      "execution_count": 50,
      "metadata": {
        "id": "5B0N3xxBq-1S"
      },
      "outputs": [],
      "source": [
        "thr = 0\n",
        "to_print = []\n",
        "#for i in samples:\n",
        "for i in matching_on_additional_info['AidData row'].to_list():\n",
        "    row = aid.iloc[i]\n",
        "    potential = do_match(row, thr, False)\n",
        "    potential = potential.reset_index()\n",
        "    potential = potential.drop(columns=\"index\")\n",
        "    for i_potential, row_potential in potential.iterrows():\n",
        "            potential.at[i_potential, \"Sim Name\"] = compute_similarity_v2(row['name'], row_potential['power_plant_name'])\n",
        "            potential.at[i_potential, \"Sim City\"] = compute_similarity_v2(row['city'], row_potential['city'])\n",
        "            potential.at[i_potential, \"Sim Province\"] = compute_similarity_v2(row['province'], row_potential['province'])\n",
        "\n",
        "\n",
        "    potential = potential.sort_values(by=['Sim Name', \"Sim Province\", \"Sim City\"], ascending=False)\n",
        "    len()\n",
        "\n",
        "    to_print.append([row, potential, row['AidData Record ID']])\n"
      ]
    },
    {
      "cell_type": "code",
      "execution_count": 51,
      "metadata": {
        "id": "dy4fazubq-1S"
      },
      "outputs": [],
      "source": [
        "columns_cofi_to_print = list(cofi.columns[0:4]) + [\"province\", \"city\", \"country_iso3c\"] + ['Sim Name', \"Sim Province\", \"Sim City\"] + list(cofi.columns[7:])"
      ]
    },
    {
      "cell_type": "code",
      "execution_count": 52,
      "metadata": {
        "id": "duglr7IXq-1S"
      },
      "outputs": [],
      "source": [
        "aid_columns_to_print = ['AidData Record ID', 'name', 'installed_capacity', \"primary_fuel\", \"province\", \"city\", 'Recipient ISO-3', \"Title\"] + list(aid.columns[3: 5]) + list(aid.columns[6: 8]) + ['Description']"
      ]
    },
    {
      "cell_type": "code",
      "execution_count": 53,
      "metadata": {
        "id": "hhwihSalq-1S",
        "outputId": "c872bfe3-441f-4eba-b2ed-8788ce90634b"
      },
      "outputs": [
        {
          "data": {
            "text/plain": [
              "51"
            ]
          },
          "execution_count": 53,
          "metadata": {},
          "output_type": "execute_result"
        }
      ],
      "source": [
        "len(to_print)"
      ]
    },
    {
      "cell_type": "code",
      "execution_count": 54,
      "metadata": {
        "id": "076Flbmjq-1T"
      },
      "outputs": [],
      "source": [
        "# Create an ExcelWriter object\n",
        "writer = pd.ExcelWriter('All matches - Power Plant v3.xlsx', engine='xlsxwriter')\n",
        "\n",
        "for i in range(len(to_print)):\n",
        "    # Write the first DataFrame to a specific sheet name and starting row\n",
        "    df1 = pd.DataFrame(to_print[i][0]).transpose()[aid_columns_to_print]\n",
        "    df1.to_excel(writer, sheet_name='AidData ID ' + str(to_print[i][2]), startrow=0, index=False)\n",
        "\n",
        "    # Write the second DataFrame to the same sheet but starting from a new row below the first DataFrame\n",
        "    startrow_for_df2 = len(df1) + 2  # Add 2 for spacing between DataFrames\n",
        "    df2 = to_print[i][1][columns_cofi_to_print]\n",
        "    df2.to_excel(writer, sheet_name='AidData ID ' + str(to_print[i][2]), startrow=startrow_for_df2, index=False)\n",
        "\n",
        "# Save the Excel file\n",
        "writer.close()"
      ]
    },
    {
      "cell_type": "code",
      "execution_count": 55,
      "metadata": {
        "id": "mWan7KhCq-1T",
        "outputId": "6949e255-5ed3-4eff-ea32-c380ecb1156b"
      },
      "outputs": [
        {
          "data": {
            "text/plain": [
              "51"
            ]
          },
          "execution_count": 55,
          "metadata": {},
          "output_type": "execute_result"
        }
      ],
      "source": [
        "# check\n",
        "temp = pd.read_excel('All matches - Power Plant v3.xlsx', sheet_name=None)\n",
        "len(temp)"
      ]
    },
    {
      "cell_type": "markdown",
      "metadata": {
        "id": "sTSADknWq-1T"
      },
      "source": [
        "#### Get the unique IDs in COFI not matched in AidData"
      ]
    },
    {
      "cell_type": "code",
      "execution_count": 56,
      "metadata": {
        "id": "8EK2Y_i1q-1T",
        "outputId": "a87dd94b-b0f3-49cf-fe48-62d356ddb736"
      },
      "outputs": [
        {
          "data": {
            "text/plain": [
              "['SEN2021001']"
            ]
          },
          "execution_count": 56,
          "metadata": {},
          "output_type": "execute_result"
        }
      ],
      "source": [
        "to_print[1][1]['unique_id'].to_list()"
      ]
    },
    {
      "cell_type": "code",
      "execution_count": 57,
      "metadata": {
        "id": "03yuRzLzq-1T"
      },
      "outputs": [],
      "source": [
        "unique_ids_pp = []\n",
        "for i in range(len(to_print)):\n",
        "    unique_ids_pp.extend(to_print[i][1]['unique_id'].to_list())"
      ]
    },
    {
      "cell_type": "code",
      "execution_count": 58,
      "metadata": {
        "id": "_XHm-7daq-1T",
        "outputId": "6f1f107b-5819-400e-eb7d-550d05f0646b"
      },
      "outputs": [
        {
          "data": {
            "text/plain": [
              "42"
            ]
          },
          "execution_count": 58,
          "metadata": {},
          "output_type": "execute_result"
        }
      ],
      "source": [
        "len(set(unique_ids_pp))"
      ]
    },
    {
      "cell_type": "code",
      "execution_count": 59,
      "metadata": {
        "id": "n4O63OSkq-1T",
        "outputId": "081e6120-7341-441d-d8c3-1636284825b6"
      },
      "outputs": [
        {
          "data": {
            "text/plain": [
              "42"
            ]
          },
          "execution_count": 59,
          "metadata": {},
          "output_type": "execute_result"
        }
      ],
      "source": [
        "matched_pp_list = list(list(set(unique_ids_pp)))\n",
        "matched_pp_list.sort()\n",
        "len(matched_pp_list)"
      ]
    },
    {
      "cell_type": "code",
      "execution_count": 60,
      "metadata": {
        "id": "E5tCRg8Gq-1T"
      },
      "outputs": [],
      "source": [
        "not_matched_pp = []\n",
        "for cofi_id in cofi['unique_id'].unique():\n",
        "    if cofi_id not in set(unique_ids_pp):\n",
        "        not_matched_pp.append(cofi_id)"
      ]
    },
    {
      "cell_type": "code",
      "execution_count": 61,
      "metadata": {
        "id": "2cLhJ4cmq-1T"
      },
      "outputs": [],
      "source": [
        "not_matched_pp_list = list(set(not_matched_pp))\n",
        "not_matched_pp_list.sort()"
      ]
    },
    {
      "cell_type": "code",
      "execution_count": null,
      "metadata": {},
      "outputs": [],
      "source": []
    },
    {
      "cell_type": "code",
      "execution_count": 78,
      "metadata": {
        "id": "ZmVspANOq-1T"
      },
      "outputs": [
        {
          "data": {
            "text/plain": [
              "(1035, 1)"
            ]
          },
          "execution_count": 78,
          "metadata": {},
          "output_type": "execute_result"
        }
      ],
      "source": [
        "pd.DataFrame(not_matched_pp_list, columns=['Not matched PP']).shape"
      ]
    },
    {
      "cell_type": "code",
      "execution_count": 63,
      "metadata": {
        "id": "Tnv0ewWJq-1T"
      },
      "outputs": [],
      "source": [
        "pd.DataFrame(matched_pp_list, columns=['Matched PP']).to_excel(\"COFI - matched in AidData Power Plant.xlsx\")"
      ]
    },
    {
      "cell_type": "code",
      "execution_count": 64,
      "metadata": {
        "id": "Jmm8prKYq-1T",
        "outputId": "121f74b3-2187-41cd-df09-1ea62c6e0321"
      },
      "outputs": [
        {
          "name": "stdout",
          "output_type": "stream",
          "text": [
            "True\n",
            "True\n"
          ]
        }
      ],
      "source": [
        "print(set(not_matched_pp_list) & set(matched_pp_list) == set())\n",
        "print(len(not_matched_pp_list) + len(matched_pp_list) == len(cofi))"
      ]
    },
    {
      "cell_type": "markdown",
      "metadata": {
        "id": "fQNXBP1eq-1T"
      },
      "source": [
        "## 4. Do matching of the investments"
      ]
    },
    {
      "cell_type": "markdown",
      "metadata": {
        "id": "hxfk-Q8-q-1T"
      },
      "source": [
        "Of the ones that I found matching with the power plant, I need to see if they match the data for the investment:\n",
        "* so, they usually discuss loans in the Funding Agencies, so we should match with the columns\n",
        "* we could check if the investors in the cofi dataset is in the description of the row.\n",
        "\n",
        "So, from what I see:\n",
        "* there are matches on the matches on the power plant (since we have a 100+ matches using thr=0)\n",
        "* there is shared info but something differes (e.g. the amounts and the year)"
      ]
    },
    {
      "cell_type": "markdown",
      "metadata": {
        "id": "3S81DtUNq-1T"
      },
      "source": [
        "Strategy for matching and finding the same investment info:\n",
        "* match first for the power plant\n",
        "* fuzzy join:\n",
        "    * \"Commitment Year\"\n",
        "    * \"Funding Agencies\" and \"Co-financing Agencies\"\n"
      ]
    },
    {
      "cell_type": "code",
      "execution_count": 65,
      "metadata": {
        "id": "vqxqg_Ucq-1T"
      },
      "outputs": [],
      "source": [
        "aid['Funding Agencies'] = aid['Funding Agencies'].apply(lambda x: x.lower())"
      ]
    },
    {
      "cell_type": "code",
      "execution_count": 66,
      "metadata": {
        "id": "53fipVPRq-1U",
        "outputId": "ed372d65-72f2-42e3-8c3c-08fca604c85e"
      },
      "outputs": [
        {
          "name": "stderr",
          "output_type": "stream",
          "text": [
            "<>:2: SyntaxWarning: invalid escape sequence '\\|'\n",
            "<>:2: SyntaxWarning: invalid escape sequence '\\|'\n",
            "/var/folders/dg/vdl14l_55rd0kz0p36g3v5fw0000gn/T/ipykernel_53936/3708842555.py:2: SyntaxWarning: invalid escape sequence '\\|'\n",
            "  temp.loc[temp['Funding Agencies'].str.contains(\"\\|\")].shape[0]\n"
          ]
        },
        {
          "data": {
            "text/plain": [
              "0"
            ]
          },
          "execution_count": 66,
          "metadata": {},
          "output_type": "execute_result"
        }
      ],
      "source": [
        "temp = aid.iloc[matching_on_additional_info['AidData row'].to_list()]\n",
        "temp.loc[temp['Funding Agencies'].str.contains(\"\\|\")].shape[0]"
      ]
    },
    {
      "cell_type": "code",
      "execution_count": 67,
      "metadata": {
        "id": "rIr2bVeUq-1U",
        "outputId": "cea2735c-2997-4cf1-f9fd-4c4ba0441876"
      },
      "outputs": [
        {
          "data": {
            "text/plain": [
              "'china construction bank corporation (ccb)|industrial and commercial bank of china (icbc)'"
            ]
          },
          "execution_count": 67,
          "metadata": {},
          "output_type": "execute_result"
        }
      ],
      "source": [
        "aid.loc[aid['AidData Record ID'] == 96123]['Funding Agencies'].values[0]"
      ]
    },
    {
      "cell_type": "markdown",
      "metadata": {
        "id": "yDOy7netq-1U"
      },
      "source": [
        "#### Do the match"
      ]
    },
    {
      "cell_type": "markdown",
      "metadata": {
        "id": "z3SSE0CFq-1U"
      },
      "source": [
        "We can use a dictionary to convert the names of the banks in the Aid data to the banks in the cofi database(these are in the names of the columns)."
      ]
    },
    {
      "cell_type": "code",
      "execution_count": 68,
      "metadata": {
        "id": "jojYGd4oq-1U",
        "outputId": "f60ff051-9fb8-41d9-87d9-25b0a8962aa2"
      },
      "outputs": [
        {
          "ename": "FileNotFoundError",
          "evalue": "[Errno 2] No such file or directory: '../Round 1/Funding Acengies dictionary.xlsx'",
          "output_type": "error",
          "traceback": [
            "\u001b[0;31m---------------------------------------------------------------------------\u001b[0m",
            "\u001b[0;31mFileNotFoundError\u001b[0m                         Traceback (most recent call last)",
            "Cell \u001b[0;32mIn[68], line 1\u001b[0m\n\u001b[0;32m----> 1\u001b[0m company_dict_df \u001b[38;5;241m=\u001b[39m \u001b[43mpd\u001b[49m\u001b[38;5;241;43m.\u001b[39;49m\u001b[43mread_excel\u001b[49m\u001b[43m(\u001b[49m\u001b[38;5;124;43m\"\u001b[39;49m\u001b[38;5;124;43m../Round 1/Funding Acengies dictionary.xlsx\u001b[39;49m\u001b[38;5;124;43m\"\u001b[39;49m\u001b[43m)\u001b[49m\n\u001b[1;32m      2\u001b[0m company_dict \u001b[38;5;241m=\u001b[39m {}\n\u001b[1;32m      3\u001b[0m \u001b[38;5;28;01mfor\u001b[39;00m i, row \u001b[38;5;129;01min\u001b[39;00m company_dict_df\u001b[38;5;241m.\u001b[39miterrows():\n",
            "File \u001b[0;32m~/Vs code projects/WRi-COFI-streamlit/env/lib/python3.12/site-packages/pandas/io/excel/_base.py:495\u001b[0m, in \u001b[0;36mread_excel\u001b[0;34m(io, sheet_name, header, names, index_col, usecols, dtype, engine, converters, true_values, false_values, skiprows, nrows, na_values, keep_default_na, na_filter, verbose, parse_dates, date_parser, date_format, thousands, decimal, comment, skipfooter, storage_options, dtype_backend, engine_kwargs)\u001b[0m\n\u001b[1;32m    493\u001b[0m \u001b[38;5;28;01mif\u001b[39;00m \u001b[38;5;129;01mnot\u001b[39;00m \u001b[38;5;28misinstance\u001b[39m(io, ExcelFile):\n\u001b[1;32m    494\u001b[0m     should_close \u001b[38;5;241m=\u001b[39m \u001b[38;5;28;01mTrue\u001b[39;00m\n\u001b[0;32m--> 495\u001b[0m     io \u001b[38;5;241m=\u001b[39m \u001b[43mExcelFile\u001b[49m\u001b[43m(\u001b[49m\n\u001b[1;32m    496\u001b[0m \u001b[43m        \u001b[49m\u001b[43mio\u001b[49m\u001b[43m,\u001b[49m\n\u001b[1;32m    497\u001b[0m \u001b[43m        \u001b[49m\u001b[43mstorage_options\u001b[49m\u001b[38;5;241;43m=\u001b[39;49m\u001b[43mstorage_options\u001b[49m\u001b[43m,\u001b[49m\n\u001b[1;32m    498\u001b[0m \u001b[43m        \u001b[49m\u001b[43mengine\u001b[49m\u001b[38;5;241;43m=\u001b[39;49m\u001b[43mengine\u001b[49m\u001b[43m,\u001b[49m\n\u001b[1;32m    499\u001b[0m \u001b[43m        \u001b[49m\u001b[43mengine_kwargs\u001b[49m\u001b[38;5;241;43m=\u001b[39;49m\u001b[43mengine_kwargs\u001b[49m\u001b[43m,\u001b[49m\n\u001b[1;32m    500\u001b[0m \u001b[43m    \u001b[49m\u001b[43m)\u001b[49m\n\u001b[1;32m    501\u001b[0m \u001b[38;5;28;01melif\u001b[39;00m engine \u001b[38;5;129;01mand\u001b[39;00m engine \u001b[38;5;241m!=\u001b[39m io\u001b[38;5;241m.\u001b[39mengine:\n\u001b[1;32m    502\u001b[0m     \u001b[38;5;28;01mraise\u001b[39;00m \u001b[38;5;167;01mValueError\u001b[39;00m(\n\u001b[1;32m    503\u001b[0m         \u001b[38;5;124m\"\u001b[39m\u001b[38;5;124mEngine should not be specified when passing \u001b[39m\u001b[38;5;124m\"\u001b[39m\n\u001b[1;32m    504\u001b[0m         \u001b[38;5;124m\"\u001b[39m\u001b[38;5;124man ExcelFile - ExcelFile already has the engine set\u001b[39m\u001b[38;5;124m\"\u001b[39m\n\u001b[1;32m    505\u001b[0m     )\n",
            "File \u001b[0;32m~/Vs code projects/WRi-COFI-streamlit/env/lib/python3.12/site-packages/pandas/io/excel/_base.py:1550\u001b[0m, in \u001b[0;36mExcelFile.__init__\u001b[0;34m(self, path_or_buffer, engine, storage_options, engine_kwargs)\u001b[0m\n\u001b[1;32m   1548\u001b[0m     ext \u001b[38;5;241m=\u001b[39m \u001b[38;5;124m\"\u001b[39m\u001b[38;5;124mxls\u001b[39m\u001b[38;5;124m\"\u001b[39m\n\u001b[1;32m   1549\u001b[0m \u001b[38;5;28;01melse\u001b[39;00m:\n\u001b[0;32m-> 1550\u001b[0m     ext \u001b[38;5;241m=\u001b[39m \u001b[43minspect_excel_format\u001b[49m\u001b[43m(\u001b[49m\n\u001b[1;32m   1551\u001b[0m \u001b[43m        \u001b[49m\u001b[43mcontent_or_path\u001b[49m\u001b[38;5;241;43m=\u001b[39;49m\u001b[43mpath_or_buffer\u001b[49m\u001b[43m,\u001b[49m\u001b[43m \u001b[49m\u001b[43mstorage_options\u001b[49m\u001b[38;5;241;43m=\u001b[39;49m\u001b[43mstorage_options\u001b[49m\n\u001b[1;32m   1552\u001b[0m \u001b[43m    \u001b[49m\u001b[43m)\u001b[49m\n\u001b[1;32m   1553\u001b[0m     \u001b[38;5;28;01mif\u001b[39;00m ext \u001b[38;5;129;01mis\u001b[39;00m \u001b[38;5;28;01mNone\u001b[39;00m:\n\u001b[1;32m   1554\u001b[0m         \u001b[38;5;28;01mraise\u001b[39;00m \u001b[38;5;167;01mValueError\u001b[39;00m(\n\u001b[1;32m   1555\u001b[0m             \u001b[38;5;124m\"\u001b[39m\u001b[38;5;124mExcel file format cannot be determined, you must specify \u001b[39m\u001b[38;5;124m\"\u001b[39m\n\u001b[1;32m   1556\u001b[0m             \u001b[38;5;124m\"\u001b[39m\u001b[38;5;124man engine manually.\u001b[39m\u001b[38;5;124m\"\u001b[39m\n\u001b[1;32m   1557\u001b[0m         )\n",
            "File \u001b[0;32m~/Vs code projects/WRi-COFI-streamlit/env/lib/python3.12/site-packages/pandas/io/excel/_base.py:1402\u001b[0m, in \u001b[0;36minspect_excel_format\u001b[0;34m(content_or_path, storage_options)\u001b[0m\n\u001b[1;32m   1399\u001b[0m \u001b[38;5;28;01mif\u001b[39;00m \u001b[38;5;28misinstance\u001b[39m(content_or_path, \u001b[38;5;28mbytes\u001b[39m):\n\u001b[1;32m   1400\u001b[0m     content_or_path \u001b[38;5;241m=\u001b[39m BytesIO(content_or_path)\n\u001b[0;32m-> 1402\u001b[0m \u001b[38;5;28;01mwith\u001b[39;00m \u001b[43mget_handle\u001b[49m\u001b[43m(\u001b[49m\n\u001b[1;32m   1403\u001b[0m \u001b[43m    \u001b[49m\u001b[43mcontent_or_path\u001b[49m\u001b[43m,\u001b[49m\u001b[43m \u001b[49m\u001b[38;5;124;43m\"\u001b[39;49m\u001b[38;5;124;43mrb\u001b[39;49m\u001b[38;5;124;43m\"\u001b[39;49m\u001b[43m,\u001b[49m\u001b[43m \u001b[49m\u001b[43mstorage_options\u001b[49m\u001b[38;5;241;43m=\u001b[39;49m\u001b[43mstorage_options\u001b[49m\u001b[43m,\u001b[49m\u001b[43m \u001b[49m\u001b[43mis_text\u001b[49m\u001b[38;5;241;43m=\u001b[39;49m\u001b[38;5;28;43;01mFalse\u001b[39;49;00m\n\u001b[1;32m   1404\u001b[0m \u001b[43m\u001b[49m\u001b[43m)\u001b[49m \u001b[38;5;28;01mas\u001b[39;00m handle:\n\u001b[1;32m   1405\u001b[0m     stream \u001b[38;5;241m=\u001b[39m handle\u001b[38;5;241m.\u001b[39mhandle\n\u001b[1;32m   1406\u001b[0m     stream\u001b[38;5;241m.\u001b[39mseek(\u001b[38;5;241m0\u001b[39m)\n",
            "File \u001b[0;32m~/Vs code projects/WRi-COFI-streamlit/env/lib/python3.12/site-packages/pandas/io/common.py:882\u001b[0m, in \u001b[0;36mget_handle\u001b[0;34m(path_or_buf, mode, encoding, compression, memory_map, is_text, errors, storage_options)\u001b[0m\n\u001b[1;32m    873\u001b[0m         handle \u001b[38;5;241m=\u001b[39m \u001b[38;5;28mopen\u001b[39m(\n\u001b[1;32m    874\u001b[0m             handle,\n\u001b[1;32m    875\u001b[0m             ioargs\u001b[38;5;241m.\u001b[39mmode,\n\u001b[0;32m   (...)\u001b[0m\n\u001b[1;32m    878\u001b[0m             newline\u001b[38;5;241m=\u001b[39m\u001b[38;5;124m\"\u001b[39m\u001b[38;5;124m\"\u001b[39m,\n\u001b[1;32m    879\u001b[0m         )\n\u001b[1;32m    880\u001b[0m     \u001b[38;5;28;01melse\u001b[39;00m:\n\u001b[1;32m    881\u001b[0m         \u001b[38;5;66;03m# Binary mode\u001b[39;00m\n\u001b[0;32m--> 882\u001b[0m         handle \u001b[38;5;241m=\u001b[39m \u001b[38;5;28;43mopen\u001b[39;49m\u001b[43m(\u001b[49m\u001b[43mhandle\u001b[49m\u001b[43m,\u001b[49m\u001b[43m \u001b[49m\u001b[43mioargs\u001b[49m\u001b[38;5;241;43m.\u001b[39;49m\u001b[43mmode\u001b[49m\u001b[43m)\u001b[49m\n\u001b[1;32m    883\u001b[0m     handles\u001b[38;5;241m.\u001b[39mappend(handle)\n\u001b[1;32m    885\u001b[0m \u001b[38;5;66;03m# Convert BytesIO or file objects passed with an encoding\u001b[39;00m\n",
            "\u001b[0;31mFileNotFoundError\u001b[0m: [Errno 2] No such file or directory: '../Round 1/Funding Acengies dictionary.xlsx'"
          ]
        }
      ],
      "source": [
        "company_dict_df = pd.read_excel(\"../Round 1/Funding Acengies dictionary.xlsx\")\n",
        "company_dict = {}\n",
        "for i, row in company_dict_df.iterrows():\n",
        "    company_dict[row['Old']] = row['New']\n",
        "company_dict"
      ]
    },
    {
      "cell_type": "code",
      "execution_count": 69,
      "metadata": {
        "id": "p8zIdRrYq-1U"
      },
      "outputs": [],
      "source": [
        "# Only apply the computing the investments on the rows that were matched at the power plant level (no multiplier)\n",
        "index_to_study = matching_on_additional_info['AidData row'].to_list()"
      ]
    },
    {
      "cell_type": "code",
      "execution_count": 77,
      "metadata": {},
      "outputs": [
        {
          "data": {
            "text/plain": [
              "AidData row    51\n",
              "Name           12\n",
              "City           15\n",
              "Province       13\n",
              "Max            12\n",
              "Min            14\n",
              "dtype: int64"
            ]
          },
          "execution_count": 77,
          "metadata": {},
          "output_type": "execute_result"
        }
      ],
      "source": [
        "matching_on_additional_info.nunique()"
      ]
    },
    {
      "cell_type": "code",
      "execution_count": 70,
      "metadata": {
        "id": "xZCdr4JTq-1U",
        "outputId": "3f7eaa74-859f-4bd9-8d13-03b4ac28a6f2"
      },
      "outputs": [
        {
          "data": {
            "text/plain": [
              "51"
            ]
          },
          "execution_count": 70,
          "metadata": {},
          "output_type": "execute_result"
        }
      ],
      "source": [
        "len(index_to_study)"
      ]
    },
    {
      "cell_type": "code",
      "execution_count": null,
      "metadata": {
        "id": "RflMPU42q-1U"
      },
      "outputs": [],
      "source": [
        "rows = []\n",
        "counter = 0\n",
        "threshold_year = 1\n",
        "for index in index_to_study:\n",
        "    row = aid.iloc[index]\n",
        "    potential = do_match(row, 0, False)\n",
        "\n",
        "    # fuzzy join on year\n",
        "    potential = potential.loc[(potential['debt_investment_year'] <= row['Commitment Year'] + threshold_year) & (potential['debt_investment_year'] >= row['Commitment Year'] - threshold_year)]\n",
        "\n",
        "    # compute similarity scores on the equity names\n",
        "    # check similarity between the \"Funding Agencies\" and \"equity_investor_name\"\n",
        "    potential = potential.reset_index()\n",
        "    potential = potential.drop(columns=['index'])\n",
        "\n",
        "    banks_present_in_cofi = 0\n",
        "    counter_2 = 0\n",
        "    for agency in row['Funding Agencies'].split(\"|\"):\n",
        "        if agency in company_dict:\n",
        "            banks_present_in_cofi += 1\n",
        "    values = [0]\n",
        "    for i_p, row_p in potential.iterrows():\n",
        "        values_present_in_cofi = 0\n",
        "        for agency in row['Funding Agencies'].split(\"|\"):\n",
        "            if agency in company_dict:\n",
        "                if not (np.isnan(row_p[company_dict[agency]])):\n",
        "                    values_present_in_cofi += 1\n",
        "        values.append(values_present_in_cofi)\n",
        "\n",
        "    agencies_no = len(row['Funding Agencies'].split(\"|\"))\n",
        "    matches_bank_no = max(values)\n",
        "\n",
        "\n",
        "    rows.append([index, potential.shape[0], banks_present_in_cofi, matches_bank_no, matches_bank_no / agencies_no * 100])"
      ]
    },
    {
      "cell_type": "code",
      "execution_count": null,
      "metadata": {
        "id": "aNQ2GGylq-1U",
        "outputId": "48c0d173-497b-4e70-baf6-166394bd4f44"
      },
      "outputs": [
        {
          "data": {
            "text/html": [
              "<div>\n",
              "<style scoped>\n",
              "    .dataframe tbody tr th:only-of-type {\n",
              "        vertical-align: middle;\n",
              "    }\n",
              "\n",
              "    .dataframe tbody tr th {\n",
              "        vertical-align: top;\n",
              "    }\n",
              "\n",
              "    .dataframe thead th {\n",
              "        text-align: right;\n",
              "    }\n",
              "</style>\n",
              "<table border=\"1\" class=\"dataframe\">\n",
              "  <thead>\n",
              "    <tr style=\"text-align: right;\">\n",
              "      <th></th>\n",
              "      <th>AidData row</th>\n",
              "      <th>Year</th>\n",
              "      <th># bank matches</th>\n",
              "      <th># of values in row</th>\n",
              "      <th>% over agencies</th>\n",
              "    </tr>\n",
              "  </thead>\n",
              "  <tbody>\n",
              "    <tr>\n",
              "      <th>0</th>\n",
              "      <td>0</td>\n",
              "      <td>1</td>\n",
              "      <td>1</td>\n",
              "      <td>1</td>\n",
              "      <td>100.0</td>\n",
              "    </tr>\n",
              "    <tr>\n",
              "      <th>1</th>\n",
              "      <td>1</td>\n",
              "      <td>1</td>\n",
              "      <td>1</td>\n",
              "      <td>1</td>\n",
              "      <td>100.0</td>\n",
              "    </tr>\n",
              "    <tr>\n",
              "      <th>2</th>\n",
              "      <td>4</td>\n",
              "      <td>1</td>\n",
              "      <td>1</td>\n",
              "      <td>1</td>\n",
              "      <td>100.0</td>\n",
              "    </tr>\n",
              "    <tr>\n",
              "      <th>3</th>\n",
              "      <td>6</td>\n",
              "      <td>1</td>\n",
              "      <td>1</td>\n",
              "      <td>1</td>\n",
              "      <td>100.0</td>\n",
              "    </tr>\n",
              "    <tr>\n",
              "      <th>4</th>\n",
              "      <td>9</td>\n",
              "      <td>0</td>\n",
              "      <td>1</td>\n",
              "      <td>0</td>\n",
              "      <td>0.0</td>\n",
              "    </tr>\n",
              "    <tr>\n",
              "      <th>...</th>\n",
              "      <td>...</td>\n",
              "      <td>...</td>\n",
              "      <td>...</td>\n",
              "      <td>...</td>\n",
              "      <td>...</td>\n",
              "    </tr>\n",
              "    <tr>\n",
              "      <th>194</th>\n",
              "      <td>602</td>\n",
              "      <td>0</td>\n",
              "      <td>2</td>\n",
              "      <td>0</td>\n",
              "      <td>0.0</td>\n",
              "    </tr>\n",
              "    <tr>\n",
              "      <th>195</th>\n",
              "      <td>610</td>\n",
              "      <td>1</td>\n",
              "      <td>1</td>\n",
              "      <td>1</td>\n",
              "      <td>100.0</td>\n",
              "    </tr>\n",
              "    <tr>\n",
              "      <th>196</th>\n",
              "      <td>614</td>\n",
              "      <td>2</td>\n",
              "      <td>1</td>\n",
              "      <td>0</td>\n",
              "      <td>0.0</td>\n",
              "    </tr>\n",
              "    <tr>\n",
              "      <th>197</th>\n",
              "      <td>616</td>\n",
              "      <td>2</td>\n",
              "      <td>1</td>\n",
              "      <td>0</td>\n",
              "      <td>0.0</td>\n",
              "    </tr>\n",
              "    <tr>\n",
              "      <th>198</th>\n",
              "      <td>617</td>\n",
              "      <td>2</td>\n",
              "      <td>1</td>\n",
              "      <td>0</td>\n",
              "      <td>0.0</td>\n",
              "    </tr>\n",
              "  </tbody>\n",
              "</table>\n",
              "<p>199 rows × 5 columns</p>\n",
              "</div>"
            ],
            "text/plain": [
              "     AidData row  Year  # bank matches  # of values in row  % over agencies\n",
              "0              0     1               1                   1            100.0\n",
              "1              1     1               1                   1            100.0\n",
              "2              4     1               1                   1            100.0\n",
              "3              6     1               1                   1            100.0\n",
              "4              9     0               1                   0              0.0\n",
              "..           ...   ...             ...                 ...              ...\n",
              "194          602     0               2                   0              0.0\n",
              "195          610     1               1                   1            100.0\n",
              "196          614     2               1                   0              0.0\n",
              "197          616     2               1                   0              0.0\n",
              "198          617     2               1                   0              0.0\n",
              "\n",
              "[199 rows x 5 columns]"
            ]
          },
          "execution_count": 79,
          "metadata": {},
          "output_type": "execute_result"
        }
      ],
      "source": [
        "banks_matches = pd.DataFrame(rows, columns=['AidData row', \"Year\", \"# bank matches\", \"# of values in row\", \"% over agencies\"])\n",
        "banks_matches"
      ]
    },
    {
      "cell_type": "code",
      "execution_count": null,
      "metadata": {
        "id": "4oKHcLccq-1U",
        "outputId": "1cd0d88a-be2c-449d-a344-f2681b7f4ba1"
      },
      "outputs": [
        {
          "data": {
            "text/plain": [
              "143"
            ]
          },
          "execution_count": 80,
          "metadata": {},
          "output_type": "execute_result"
        }
      ],
      "source": [
        "banks_matches.loc[banks_matches['Year'] > 0].shape[0]"
      ]
    },
    {
      "cell_type": "code",
      "execution_count": null,
      "metadata": {
        "id": "9AGt4Ajrq-1U",
        "outputId": "4013066c-cfb7-47a1-e0fe-553526e3c195"
      },
      "outputs": [
        {
          "data": {
            "text/plain": [
              "# bank matches\n",
              "1    183\n",
              "0      8\n",
              "5      3\n",
              "3      2\n",
              "2      2\n",
              "4      1\n",
              "Name: count, dtype: int64"
            ]
          },
          "execution_count": 81,
          "metadata": {},
          "output_type": "execute_result"
        }
      ],
      "source": [
        "banks_matches['# bank matches'].value_counts()"
      ]
    },
    {
      "cell_type": "code",
      "execution_count": null,
      "metadata": {
        "id": "e1-pwZEfq-1U",
        "outputId": "ede5f741-51ad-4cd4-ff6e-e13c19d316a2"
      },
      "outputs": [
        {
          "data": {
            "text/plain": [
              "8"
            ]
          },
          "execution_count": 82,
          "metadata": {},
          "output_type": "execute_result"
        }
      ],
      "source": [
        "banks_matches.shape[0] - banks_matches.loc[banks_matches['# bank matches'] > 0].shape[0]"
      ]
    },
    {
      "cell_type": "code",
      "execution_count": null,
      "metadata": {
        "id": "bZmTarXyq-1U",
        "outputId": "b98d9ccf-5c28-449a-bcd5-f29d4f289693"
      },
      "outputs": [
        {
          "data": {
            "text/plain": [
              "122"
            ]
          },
          "execution_count": 83,
          "metadata": {},
          "output_type": "execute_result"
        }
      ],
      "source": [
        "banks_matches.loc[banks_matches[\"# of values in row\"] > 0].shape[0]"
      ]
    },
    {
      "cell_type": "code",
      "execution_count": null,
      "metadata": {
        "id": "LgcA7q8fq-1U",
        "outputId": "d8b03d0f-1edb-48e6-cbe4-4af815d347ee"
      },
      "outputs": [
        {
          "data": {
            "text/plain": [
              "% over agencies\n",
              "100.000000    118\n",
              "0.000000       77\n",
              "33.333333       2\n",
              "60.000000       1\n",
              "50.000000       1\n",
              "Name: count, dtype: int64"
            ]
          },
          "execution_count": 84,
          "metadata": {},
          "output_type": "execute_result"
        }
      ],
      "source": [
        "banks_matches[\"% over agencies\"].value_counts()"
      ]
    },
    {
      "cell_type": "code",
      "execution_count": null,
      "metadata": {
        "id": "vfA8Xl1Dq-1U",
        "outputId": "5772622e-34ba-4053-bc09-923a87a424e9"
      },
      "outputs": [
        {
          "data": {
            "text/plain": [
              "118"
            ]
          },
          "execution_count": 85,
          "metadata": {},
          "output_type": "execute_result"
        }
      ],
      "source": [
        "banks_matches.loc[banks_matches[\"% over agencies\"] == 100].shape[0]"
      ]
    },
    {
      "cell_type": "markdown",
      "metadata": {
        "id": "oWod_htyq-1V"
      },
      "source": [
        "#### Create results to be manually checked (old)"
      ]
    },
    {
      "cell_type": "code",
      "execution_count": null,
      "metadata": {
        "id": "TvaolGeLq-1V"
      },
      "outputs": [],
      "source": [
        "# len(matching_on_additional_info['AidData row'].to_list())"
      ]
    },
    {
      "cell_type": "code",
      "execution_count": null,
      "metadata": {
        "id": "e7WKyb1Vq-1V"
      },
      "outputs": [],
      "source": [
        "# thr = 0\n",
        "# threshold_year = 1\n",
        "# to_print_2 = []\n",
        "# #for i in samples:\n",
        "# for i in matching_on_additional_info['AidData row'].to_list():\n",
        "#     row = aid.iloc[i]\n",
        "#     potential = do_match(row, thr, True)\n",
        "#     potential = potential.reset_index()\n",
        "#     potential = potential.drop(columns=\"index\")\n",
        "#     for i_potential, row_potential in potential.iterrows():\n",
        "#             #potential.at[i_potential, \"Sim Name\"] = fuzz.partial_ratio(row['additional_info'], row_potential['power_plant_name'])\n",
        "#             potential.at[i_potential, \"Sim Name\"] = fuzz.partial_ratio(row['name'], row_potential['power_plant_name'])\n",
        "#             potential.at[i_potential, \"Sim City\"] = fuzz.partial_ratio(row['city'], row_potential['city'])\n",
        "#             potential.at[i_potential, \"Sim Province\"] = fuzz.partial_ratio(row['province'], row_potential['province'])\n",
        "\n",
        "#     # fuzzy join on year\n",
        "#     potential = potential.loc[(potential['debt_investment_year'] <= row['Commitment Year'] + threshold_year) & (potential['debt_investment_year'] >= row['Commitment Year'] - threshold_year)]\n",
        "\n",
        "#     # compute the similarity score on the \"equity_investor_1\"\n",
        "#     potential = potential.reset_index()\n",
        "#     potential = potential.drop(columns=['index'])\n",
        "\n",
        "#     for i_p, row_p in potential.iterrows():\n",
        "#         values_present_in_cofi = 0\n",
        "#         for agency in row['Funding Agencies'].split(\"|\"):\n",
        "#             if agency in company_dict:\n",
        "#                 if not (np.isnan(row_p[company_dict[agency]])):\n",
        "#                     values_present_in_cofi += 1\n",
        "#         potential.at[i_p, \"Shared banks #\"] = values_present_in_cofi\n",
        "#         potential.at[i_p, \"Shared banks %\"] = values_present_in_cofi / len(row['Funding Agencies'].split(\"|\")) * 100\n",
        "#     if potential.shape[0] == 0:\n",
        "#         # needed to make sure that the printing mechanism is smooth\n",
        "#         potential.at[i_p, \"Shared banks #\"] = \"\"\n",
        "#         potential.at[i_p, \"Shared banks %\"] = \"\"\n",
        "#         # the previous two rows added a row in the potential df which is supposed to be empty to begin with\n",
        "#         potential = potential.drop(potential.index)\n",
        "\n",
        "#     potential = potential.sort_values(by=['Sim Name', \"Sim Province\", \"Shared banks %\"], ascending=False)\n",
        "\n",
        "#     to_print_2.append([row, potential, i])"
      ]
    },
    {
      "cell_type": "code",
      "execution_count": null,
      "metadata": {
        "id": "T668uwzNq-1V"
      },
      "outputs": [],
      "source": [
        "# sum([x > 0 for x in [x.shape[0] for row, x, i in to_print_2]])"
      ]
    },
    {
      "cell_type": "code",
      "execution_count": null,
      "metadata": {
        "id": "AjyAKZSHq-1V"
      },
      "outputs": [],
      "source": [
        "# len(to_print_2)"
      ]
    },
    {
      "cell_type": "code",
      "execution_count": null,
      "metadata": {
        "id": "KGNRxkAyq-1V"
      },
      "outputs": [],
      "source": [
        "# columns_cofi_to_print[0:9] + [\"Shared banks #\", \"Shared banks %\"] + columns_cofi_to_print[9:]"
      ]
    },
    {
      "cell_type": "code",
      "execution_count": null,
      "metadata": {
        "id": "n7R_EBncq-1V"
      },
      "outputs": [],
      "source": [
        "# # Create an ExcelWriter object\n",
        "# writer = pd.ExcelWriter('All matches - Investments v3.xlsx', engine='xlsxwriter')\n",
        "\n",
        "# for i in range(len(to_print_2)):\n",
        "#     # Write the first DataFrame to a specific sheet name and starting row\n",
        "#     df1 = pd.DataFrame(to_print_2[i][0]).transpose()[aid_columns_to_print]\n",
        "#     df1.to_excel(writer, sheet_name='AidData row ' + str(to_print_2[i][2]), startrow=0, index=False)\n",
        "\n",
        "#     # Write the second DataFrame to the same sheet but starting from a new row below the first DataFrame\n",
        "#     startrow_for_df2 = len(df1) + 2  # Add 2 for spacing between DataFrames\n",
        "#     #df2 = to_print[i][1][printing_cols]\n",
        "#     df2 = to_print_2[i][1][columns_cofi_to_print[0:9] + [\"Shared banks #\", \"Shared banks %\"] + columns_cofi_to_print[9:]]\n",
        "#     df2.to_excel(writer, sheet_name='AidData row ' + str(to_print_2[i][2]), startrow=startrow_for_df2, index=False)\n",
        "\n",
        "# # Save the Excel file\n",
        "# writer.close()"
      ]
    },
    {
      "cell_type": "code",
      "execution_count": null,
      "metadata": {
        "id": "v-iGtgpKq-1V"
      },
      "outputs": [],
      "source": [
        "# to_print_2[-1][1]"
      ]
    },
    {
      "cell_type": "code",
      "execution_count": null,
      "metadata": {
        "id": "vebERgHMq-1V"
      },
      "outputs": [],
      "source": [
        "# lines = 0\n",
        "# counter = 0\n",
        "# multiplier_worked = 0\n",
        "# ids_multiplier = []\n",
        "# for i in range(len(to_print_2)):\n",
        "#     if to_print_2[i][1].shape[0] > 1:\n",
        "#         # print(to_print[i][1].head(1)['Sim Name'].values[0])\n",
        "#         # if to_print[i][1].head(1)['Sim Name'].values[0] != 100:\n",
        "#         #     print(to_print[i][1].head(1)['Sim Province'].values[0])\n",
        "#         lines += 1\n",
        "#         if to_print_2[i][1].head(1)['Shared banks %'].values[0] == 100:\n",
        "#             counter += 1\n"
      ]
    },
    {
      "cell_type": "code",
      "execution_count": null,
      "metadata": {
        "id": "tudvUl7Mq-1V"
      },
      "outputs": [],
      "source": [
        "# counter/lines*100"
      ]
    },
    {
      "cell_type": "code",
      "execution_count": null,
      "metadata": {
        "id": "QP4MjdeEq-1V"
      },
      "outputs": [],
      "source": [
        "# counter"
      ]
    },
    {
      "cell_type": "code",
      "execution_count": null,
      "metadata": {
        "id": "x2TIXWRCq-1V"
      },
      "outputs": [],
      "source": [
        "# lines"
      ]
    },
    {
      "cell_type": "code",
      "execution_count": null,
      "metadata": {
        "id": "TPX40vllq-1V"
      },
      "outputs": [],
      "source": [
        "# aid[\"Amount (Nominal USD)\"]"
      ]
    },
    {
      "cell_type": "markdown",
      "metadata": {
        "id": "e1NHV9Pyq-1V"
      },
      "source": [
        "#### Check the difference in the amounts"
      ]
    },
    {
      "cell_type": "markdown",
      "metadata": {
        "id": "fMd6gePXq-1V"
      },
      "source": [
        "Assumptions:\n",
        "* the amount refers to the main funding agency in \"Funding Agencies\"\n",
        "\n",
        "So, let's disregard for a moment these entries where the are multiple funding agencies."
      ]
    },
    {
      "cell_type": "code",
      "execution_count": null,
      "metadata": {
        "id": "O0X9rfVoq-1V",
        "outputId": "9fa21544-5435-4e34-ad03-aec82f675955"
      },
      "outputs": [
        {
          "name": "stdout",
          "output_type": "stream",
          "text": [
            "73: China Eximbank, Bank of China, China Construction Bank, and China Communications Bank provide $143 million syndicated buyer’s credit loan for 100MW An Khanh 1 Coal-Fired Power Plant Construction Project\n",
            "bank of china (boc)|china bank of communications (bocom or bocomm)|china construction bank corporation (ccb)|export-import bank of china (china eximbank)\n",
            "\n",
            "98: BOC, ICBC, CDB, CCB, China Citic contribute $423 million to syndicated buyer’s credit loan for 990MW Jabar Indramayu Power Plant Construction Project\n",
            "bank of china (boc)|china citic bank corporation limited|china construction bank corporation (ccb)|china development bank (cdb)|industrial and commercial bank of china (icbc)\n",
            "\n",
            "109: China Eximbank, CDB, ICBC, CCB, and BOC provide $1.404 billion syndicated loan for 1200MW Vinh Tan 1 Coal-Fired Power Plant Construction Project (Linked to Project ID#39152, #38902)\n",
            "bank of china (boc)|china construction bank corporation (ccb)|china development bank (cdb)|export-import bank of china (china eximbank)|industrial and commercial bank of china (icbc)\n",
            "\n",
            "361: China Eximbank, BoC, and ICBC contribute to $1.08 billion syndicated buyer’s credit loan to 1244MW Duyen Hai 1 Coal-Fired Power Plant Construction Project (Linked to Project ID#65791, #72770, #65794)\n",
            "bank of china (boc)|export-import bank of china (china eximbank)|industrial and commercial bank of china (icbc)\n",
            "\n",
            "375: CDB, ICBC, and BoC provide $1 billion syndicated loan for 1245MW Duyen Hai 3 Coal-Fired Power Plant Construction Project (Linked to Project ID#65148, #65791, #72770)\n",
            "bank of china (boc)|china development bank (cdb)|industrial and commercial bank of china (icbc)\n",
            "\n",
            "413: CDB and ICBC provide $625.2 million loan for 660MW Adipala Power Plant Construction Project\n",
            "china development bank (cdb)|industrial and commercial bank of china (icbc)\n",
            "\n",
            "453: Chinese banks pledge to provide USD 1.6 billion syndicated loan for 1200 MW MW Quynh Lap 1 Power Plant Construction Project\n",
            "bank of china (boc)|china construction bank corporation (ccb)|china development bank (cdb)|export-import bank of china (china eximbank)|industrial and commercial bank of china (icbc)\n",
            "\n",
            "602: ICBC and China Construction Bank contribute to $523 million syndicated loan for 1.35 GW Kalyon Karapınar Solar Power Plant Project\n",
            "china construction bank corporation (ccb)|industrial and commercial bank of china (icbc)\n",
            "\n"
          ]
        }
      ],
      "source": [
        "indexes = []\n",
        "for i in matching_on_additional_info['AidData row'].to_list():\n",
        "    row = aid.iloc[i]\n",
        "    if \"|\" in row['Funding Agencies']:\n",
        "        print(f\"{i}: {row['Title']}\")\n",
        "        print(f\"{row['Funding Agencies']}\\n\")\n",
        "        indexes.append(i)"
      ]
    },
    {
      "cell_type": "code",
      "execution_count": null,
      "metadata": {
        "id": "epFQOjdjq-1W",
        "outputId": "a9db0125-fa4b-4428-c696-a9ee80a4a41e"
      },
      "outputs": [
        {
          "data": {
            "text/plain": [
              "[73, 98, 109, 361, 375, 413, 453, 602]"
            ]
          },
          "execution_count": 99,
          "metadata": {},
          "output_type": "execute_result"
        }
      ],
      "source": [
        "indexes"
      ]
    },
    {
      "cell_type": "markdown",
      "metadata": {
        "id": "RSuo4ZLvq-1W"
      },
      "source": [
        "\n",
        "This is important for when computing the difference:\n",
        "* COFI values: are in million of dollars (so 1 million is \"1\")\n",
        "* AidData: values are directly in normal values (so 1 million is \"1000000\")</br>"
      ]
    },
    {
      "cell_type": "code",
      "execution_count": null,
      "metadata": {
        "id": "yVM4mYvOq-1W",
        "outputId": "c3631015-053b-4972-90ff-b8be059d74bb"
      },
      "outputs": [
        {
          "data": {
            "text/html": [
              "<div>\n",
              "<style scoped>\n",
              "    .dataframe tbody tr th:only-of-type {\n",
              "        vertical-align: middle;\n",
              "    }\n",
              "\n",
              "    .dataframe tbody tr th {\n",
              "        vertical-align: top;\n",
              "    }\n",
              "\n",
              "    .dataframe thead th {\n",
              "        text-align: right;\n",
              "    }\n",
              "</style>\n",
              "<table border=\"1\" class=\"dataframe\">\n",
              "  <thead>\n",
              "    <tr style=\"text-align: right;\">\n",
              "      <th></th>\n",
              "      <th>AidData row</th>\n",
              "      <th>Year</th>\n",
              "      <th># bank matches</th>\n",
              "      <th># of values in row</th>\n",
              "      <th>% over agencies</th>\n",
              "    </tr>\n",
              "  </thead>\n",
              "  <tbody>\n",
              "    <tr>\n",
              "      <th>0</th>\n",
              "      <td>0</td>\n",
              "      <td>1</td>\n",
              "      <td>1</td>\n",
              "      <td>1</td>\n",
              "      <td>100.0</td>\n",
              "    </tr>\n",
              "    <tr>\n",
              "      <th>1</th>\n",
              "      <td>1</td>\n",
              "      <td>1</td>\n",
              "      <td>1</td>\n",
              "      <td>1</td>\n",
              "      <td>100.0</td>\n",
              "    </tr>\n",
              "    <tr>\n",
              "      <th>2</th>\n",
              "      <td>4</td>\n",
              "      <td>1</td>\n",
              "      <td>1</td>\n",
              "      <td>1</td>\n",
              "      <td>100.0</td>\n",
              "    </tr>\n",
              "    <tr>\n",
              "      <th>3</th>\n",
              "      <td>6</td>\n",
              "      <td>1</td>\n",
              "      <td>1</td>\n",
              "      <td>1</td>\n",
              "      <td>100.0</td>\n",
              "    </tr>\n",
              "    <tr>\n",
              "      <th>4</th>\n",
              "      <td>9</td>\n",
              "      <td>0</td>\n",
              "      <td>1</td>\n",
              "      <td>0</td>\n",
              "      <td>0.0</td>\n",
              "    </tr>\n",
              "    <tr>\n",
              "      <th>...</th>\n",
              "      <td>...</td>\n",
              "      <td>...</td>\n",
              "      <td>...</td>\n",
              "      <td>...</td>\n",
              "      <td>...</td>\n",
              "    </tr>\n",
              "    <tr>\n",
              "      <th>194</th>\n",
              "      <td>602</td>\n",
              "      <td>0</td>\n",
              "      <td>2</td>\n",
              "      <td>0</td>\n",
              "      <td>0.0</td>\n",
              "    </tr>\n",
              "    <tr>\n",
              "      <th>195</th>\n",
              "      <td>610</td>\n",
              "      <td>1</td>\n",
              "      <td>1</td>\n",
              "      <td>1</td>\n",
              "      <td>100.0</td>\n",
              "    </tr>\n",
              "    <tr>\n",
              "      <th>196</th>\n",
              "      <td>614</td>\n",
              "      <td>2</td>\n",
              "      <td>1</td>\n",
              "      <td>0</td>\n",
              "      <td>0.0</td>\n",
              "    </tr>\n",
              "    <tr>\n",
              "      <th>197</th>\n",
              "      <td>616</td>\n",
              "      <td>2</td>\n",
              "      <td>1</td>\n",
              "      <td>0</td>\n",
              "      <td>0.0</td>\n",
              "    </tr>\n",
              "    <tr>\n",
              "      <th>198</th>\n",
              "      <td>617</td>\n",
              "      <td>2</td>\n",
              "      <td>1</td>\n",
              "      <td>0</td>\n",
              "      <td>0.0</td>\n",
              "    </tr>\n",
              "  </tbody>\n",
              "</table>\n",
              "<p>199 rows × 5 columns</p>\n",
              "</div>"
            ],
            "text/plain": [
              "     AidData row  Year  # bank matches  # of values in row  % over agencies\n",
              "0              0     1               1                   1            100.0\n",
              "1              1     1               1                   1            100.0\n",
              "2              4     1               1                   1            100.0\n",
              "3              6     1               1                   1            100.0\n",
              "4              9     0               1                   0              0.0\n",
              "..           ...   ...             ...                 ...              ...\n",
              "194          602     0               2                   0              0.0\n",
              "195          610     1               1                   1            100.0\n",
              "196          614     2               1                   0              0.0\n",
              "197          616     2               1                   0              0.0\n",
              "198          617     2               1                   0              0.0\n",
              "\n",
              "[199 rows x 5 columns]"
            ]
          },
          "execution_count": 100,
          "metadata": {},
          "output_type": "execute_result"
        }
      ],
      "source": [
        "banks_matches"
      ]
    },
    {
      "cell_type": "markdown",
      "metadata": {
        "id": "RDrZGbcTq-1W"
      },
      "source": [
        "##### Compute the differences amount for all those entries that present only one bank in \"Funding Agencies\"."
      ]
    },
    {
      "cell_type": "code",
      "execution_count": null,
      "metadata": {
        "id": "UA8W6gh5q-1W"
      },
      "outputs": [],
      "source": [
        "thr = 0\n",
        "threshold_year = 1\n",
        "to_print_2 = []\n",
        "amount_column_aid = \"Amount (Nominal USD)\"\n",
        "rows = []\n",
        "#for i in samples:\n",
        "for i in list(banks_matches.loc[banks_matches['# of values in row'] > 0]['AidData row']):\n",
        "    row = aid.iloc[i]\n",
        "\n",
        "    if \"|\" in row['Funding Agencies']:\n",
        "        continue\n",
        "\n",
        "    potential = do_match(row, thr, False)\n",
        "    potential = potential.reset_index()\n",
        "    potential = potential.drop(columns=\"index\")\n",
        "    for i_potential, row_potential in potential.iterrows():\n",
        "            #potential.at[i_potential, \"Sim Name\"] = fuzz.partial_ratio(row['additional_info'], row_potential['power_plant_name'])\n",
        "            potential.at[i_potential, \"Sim Name\"] = compute_similarity_v2(row['name'], row_potential['power_plant_name'])\n",
        "            potential.at[i_potential, \"Sim City\"] = compute_similarity_v2(row['city'], row_potential['city'])\n",
        "            potential.at[i_potential, \"Sim Province\"] = compute_similarity_v2(row['province'], row_potential['province'])\n",
        "\n",
        "    # fuzzy join on year\n",
        "    potential = potential.loc[(potential['debt_investment_year'] <= row['Commitment Year'] + threshold_year) & (potential['debt_investment_year'] >= row['Commitment Year'] - threshold_year)]\n",
        "\n",
        "    # compute the similarity score on the \"equity_investor_1\"\n",
        "    potential = potential.reset_index()\n",
        "    potential = potential.drop(columns=['index'])\n",
        "\n",
        "\n",
        "    if \"|\" not in row['Funding Agencies']:\n",
        "        for i_p, row_p in potential.iterrows():\n",
        "            # values_present_in_cofi = 0\n",
        "            # for agency in row['Funding Agencies'].split(\"|\"):\n",
        "            #     if agency in company_dict:\n",
        "            #         if not (np.isnan(row_p[company_dict[agency]])):\n",
        "            #             values_present_in_cofi += 1\n",
        "            # potential.at[i_p, \"Shared banks #\"] = values_present_in_cofi\n",
        "            # potential.at[i_p, \"Shared banks %\"] = values_present_in_cofi / len(row['Funding Agencies'].split(\"|\")) * 100\n",
        "\n",
        "            # since there is only one agency per row, we can save the information directly in one value\n",
        "            potential.at[i_p, \"difference\"] = -1 # default value in case there are is no value in potential to compare it to\n",
        "            if row['Funding Agencies'].strip() in company_dict:\n",
        "                if not (np.isnan(row_p[company_dict[row['Funding Agencies'].strip()]])):\n",
        "                    potential.at[i_p, \"difference\"] = abs(row[amount_column_aid] - row_p[company_dict[row['Funding Agencies'].strip()]] * 1000000)\n",
        "\n",
        "    if potential.shape[0] > 0:\n",
        "        potential = potential.sort_values(by=['Sim Name', \"Sim Province\", \"Sim City\", \"difference\"], ascending=False)\n",
        "        to_compare = [x for x in list(potential['difference']) if x != -1 and not(np.isnan(x))]\n",
        "        if len(to_compare) > 0:\n",
        "            min_diff = min(to_compare)\n",
        "        else:\n",
        "            min_diff = -1\n",
        "\n",
        "    if potential.shape[0] == 0:\n",
        "        min_diff = -1\n",
        "\n",
        "    to_print_2.append([row, potential, row['AidData Record ID'], min_diff])\n",
        "    rows.append([i, min_diff])\n"
      ]
    },
    {
      "cell_type": "code",
      "execution_count": null,
      "metadata": {
        "id": "iB0gHKD5q-1W",
        "outputId": "1a286e12-f9c4-4791-baf4-659a2538f3d1"
      },
      "outputs": [
        {
          "data": {
            "text/html": [
              "<div>\n",
              "<style scoped>\n",
              "    .dataframe tbody tr th:only-of-type {\n",
              "        vertical-align: middle;\n",
              "    }\n",
              "\n",
              "    .dataframe tbody tr th {\n",
              "        vertical-align: top;\n",
              "    }\n",
              "\n",
              "    .dataframe thead th {\n",
              "        text-align: right;\n",
              "    }\n",
              "</style>\n",
              "<table border=\"1\" class=\"dataframe\">\n",
              "  <thead>\n",
              "    <tr style=\"text-align: right;\">\n",
              "      <th></th>\n",
              "      <th>AidData row</th>\n",
              "      <th>Least difference</th>\n",
              "    </tr>\n",
              "  </thead>\n",
              "  <tbody>\n",
              "    <tr>\n",
              "      <th>0</th>\n",
              "      <td>0</td>\n",
              "      <td>48559.4</td>\n",
              "    </tr>\n",
              "    <tr>\n",
              "      <th>1</th>\n",
              "      <td>1</td>\n",
              "      <td>266000000.0</td>\n",
              "    </tr>\n",
              "    <tr>\n",
              "      <th>2</th>\n",
              "      <td>4</td>\n",
              "      <td>0.0</td>\n",
              "    </tr>\n",
              "    <tr>\n",
              "      <th>3</th>\n",
              "      <td>6</td>\n",
              "      <td>468700.0</td>\n",
              "    </tr>\n",
              "    <tr>\n",
              "      <th>4</th>\n",
              "      <td>12</td>\n",
              "      <td>7000000.0</td>\n",
              "    </tr>\n",
              "    <tr>\n",
              "      <th>...</th>\n",
              "      <td>...</td>\n",
              "      <td>...</td>\n",
              "    </tr>\n",
              "    <tr>\n",
              "      <th>111</th>\n",
              "      <td>579</td>\n",
              "      <td>78230000.0</td>\n",
              "    </tr>\n",
              "    <tr>\n",
              "      <th>112</th>\n",
              "      <td>580</td>\n",
              "      <td>0.0</td>\n",
              "    </tr>\n",
              "    <tr>\n",
              "      <th>113</th>\n",
              "      <td>581</td>\n",
              "      <td>0.0</td>\n",
              "    </tr>\n",
              "    <tr>\n",
              "      <th>114</th>\n",
              "      <td>582</td>\n",
              "      <td>26000000.0</td>\n",
              "    </tr>\n",
              "    <tr>\n",
              "      <th>115</th>\n",
              "      <td>610</td>\n",
              "      <td>685000000.0</td>\n",
              "    </tr>\n",
              "  </tbody>\n",
              "</table>\n",
              "<p>116 rows × 2 columns</p>\n",
              "</div>"
            ],
            "text/plain": [
              "     AidData row  Least difference\n",
              "0              0           48559.4\n",
              "1              1       266000000.0\n",
              "2              4               0.0\n",
              "3              6          468700.0\n",
              "4             12         7000000.0\n",
              "..           ...               ...\n",
              "111          579        78230000.0\n",
              "112          580               0.0\n",
              "113          581               0.0\n",
              "114          582        26000000.0\n",
              "115          610       685000000.0\n",
              "\n",
              "[116 rows x 2 columns]"
            ]
          },
          "execution_count": 102,
          "metadata": {},
          "output_type": "execute_result"
        }
      ],
      "source": [
        "diff_df = pd.DataFrame(rows, columns=[\"AidData row\", \"Least difference\"])\n",
        "diff_df"
      ]
    },
    {
      "cell_type": "code",
      "execution_count": null,
      "metadata": {
        "id": "tdYDQ4JQq-1W",
        "outputId": "e6533a90-dddb-4e8d-ab08-add318270744"
      },
      "outputs": [
        {
          "name": "stdout",
          "output_type": "stream",
          "text": [
            "No match with COFI #: 1\n",
            "No match with COFI %: 0.8620689655172413\n",
            "Indexes: [273]\n"
          ]
        }
      ],
      "source": [
        "missing = diff_df.loc[diff_df['Least difference'] == -1].shape[0]\n",
        "print(f\"No match with COFI #: {missing}\")\n",
        "print(f\"No match with COFI %: {missing / diff_df.shape[0] * 100}\")\n",
        "print(f\"Indexes: {diff_df.loc[diff_df['Least difference'] == -1]['AidData row'].to_list()}\")\n",
        "# this row 273: there is no nominal amount"
      ]
    },
    {
      "cell_type": "code",
      "execution_count": null,
      "metadata": {
        "id": "fc_qFhojq-1W",
        "outputId": "ae11d099-f97c-4550-edec-79d802358add"
      },
      "outputs": [
        {
          "data": {
            "text/plain": [
              "AidData Record ID                                                    59855\n",
              "Title                    China Eximbank provides loan for 84MW Impératr...\n",
              "Recipient ISO-3                                                        GAB\n",
              "Commitment Year                                                       2017\n",
              "Funding Agencies              export-import bank of china (china eximbank)\n",
              "Co-financing Agencies                                                  NaN\n",
              "Amount (Nominal USD)                                                   NaN\n",
              "Flow Type                                                             Loan\n",
              "M&A                                                                    NaN\n",
              "Description              In 2017, the Government of Gabon came close to...\n",
              "primary_fuel                                                         hydro\n",
              "installed_capacity                                                    84.0\n",
              "name                                                     impératrice falls\n",
              "city                                                                      \n",
              "province                                                  ngounié province\n",
              "Name: 273, dtype: object"
            ]
          },
          "execution_count": 104,
          "metadata": {},
          "output_type": "execute_result"
        }
      ],
      "source": [
        "aid.iloc[273]"
      ]
    },
    {
      "cell_type": "code",
      "execution_count": null,
      "metadata": {
        "id": "8498e6Jyq-1W",
        "outputId": "fe58ca67-8d82-4b0f-f3f1-85c9d35affcd"
      },
      "outputs": [
        {
          "name": "stdout",
          "output_type": "stream",
          "text": [
            "mean: 103521050.28562182\n",
            "std: 231359361.82270885\n"
          ]
        }
      ],
      "source": [
        "values = list(diff_df.loc[diff_df['Least difference'] != -1]['Least difference'])\n",
        "print(f\"mean: {mean(values)}\")\n",
        "print(f\"std: {stdev(values)}\")"
      ]
    },
    {
      "cell_type": "markdown",
      "metadata": {
        "id": "q2R14UDCq-1W"
      },
      "source": [
        "##### Compute the differences amount for all those entries that present MULTIPLE banks in \"Funding Agencies\"."
      ]
    },
    {
      "cell_type": "markdown",
      "metadata": {
        "id": "BJAMoALJq-1W"
      },
      "source": [
        "Here we compute the difference for those entries that have multiple banks in \"Funding Agencies\"\n",
        "* for these we equally distribute the investment value in the row in AidData among the investors in \"Funding Agencies\";\n",
        "* we then compute the difference for each investor with their correspoding values in the COFI entries;\n",
        "* we then take the lowest of these differences and we use it to represent the least difference for the AidData column (these values are used above when computing the distribution of the differences)."
      ]
    },
    {
      "cell_type": "code",
      "execution_count": null,
      "metadata": {
        "id": "icSB4zeUq-1W"
      },
      "outputs": [],
      "source": [
        "cofi[\"differences per bank\"] = \"\""
      ]
    },
    {
      "cell_type": "code",
      "execution_count": null,
      "metadata": {
        "id": "OlVOqQ95q-1W",
        "outputId": "1fb11fdc-5aed-4a6a-8840-0d8e6ff95882"
      },
      "outputs": [
        {
          "name": "stdout",
          "output_type": "stream",
          "text": [
            "0\n",
            "1\n",
            "2\n",
            "1\n",
            "2\n",
            "2\n",
            "2\n",
            "0\n"
          ]
        }
      ],
      "source": [
        "thr = 0\n",
        "threshold_year = 1\n",
        "to_print_2_special = []\n",
        "amount_column_aid = \"Amount (Nominal USD)\"\n",
        "averages = []\n",
        "rows = []\n",
        "#for i in samples:\n",
        "for i in indexes:\n",
        "    row = aid.iloc[i]\n",
        "\n",
        "    potential = do_match(row, thr, True)\n",
        "    potential = potential.reset_index()\n",
        "    potential = potential.drop(columns=\"index\")\n",
        "    for i_potential, row_potential in potential.iterrows():\n",
        "            #potential.at[i_potential, \"Sim Name\"] = fuzz.partial_ratio(row['additional_info'], row_potential['power_plant_name'])\n",
        "            potential.at[i_potential, \"Sim Name\"] = compute_similarity_v2(row['name'], row_potential['power_plant_name'])\n",
        "            potential.at[i_potential, \"Sim City\"] = compute_similarity_v2(row['city'], row_potential['city'])\n",
        "            potential.at[i_potential, \"Sim Province\"] = compute_similarity_v2(['province'], row_potential['province'])\n",
        "\n",
        "    # fuzzy join on year\n",
        "    potential = potential.loc[(potential['debt_investment_year'] <= row['Commitment Year'] + threshold_year) & (potential['debt_investment_year'] >= row['Commitment Year'] - threshold_year)]\n",
        "\n",
        "    # compute the similarity score on the \"equity_investor_1\"\n",
        "    potential = potential.reset_index()\n",
        "    potential = potential.drop(columns=['index'])\n",
        "\n",
        "\n",
        "    print(potential.shape[0])\n",
        "    tmp = []\n",
        "    for i_p, row_p in potential.iterrows():\n",
        "            # values_present_in_cofi = 0\n",
        "            # for agency in row['Funding Agencies'].split(\"|\"):\n",
        "            #     if agency in company_dict:\n",
        "            #         if not (np.isnan(row_p[company_dict[agency]])):\n",
        "            #             values_present_in_cofi += 1\n",
        "            # potential.at[i_p, \"Shared banks #\"] = values_present_in_cofi\n",
        "            # potential.at[i_p, \"Shared banks %\"] = values_present_in_cofi / len(row['Funding Agencies'].split(\"|\")) * 100\n",
        "\n",
        "            # since there is only one agency per row, we can save the information directly in one value\n",
        "            potential.at[i_p, \"difference\"] = \"None\" # default value in case there are is no value in potential to compare it to\n",
        "            diff_dict = {}\n",
        "            investors_no = len(row['Funding Agencies'].split(\"|\"))\n",
        "            for agency in row['Funding Agencies'].split(\"|\"):\n",
        "                if agency.strip() in company_dict:\n",
        "                        if not (np.isnan(row_p[company_dict[agency.strip()]])):\n",
        "                               diff_dict[company_dict[agency.strip()]] = abs(row[amount_column_aid] / investors_no - row_p[company_dict[agency.strip()]] * 1000000)\n",
        "                        else:\n",
        "                               diff_dict[company_dict[agency.strip()]] = -1\n",
        "            potential.at[i_p, \"differences per bank\"] = diff_dict\n",
        "            if len(diff_dict) > 0:\n",
        "                        vals  = [x for x in list(diff_dict.values()) if x != -1 and not(np.isnan(x))]\n",
        "                        if len(vals) > 0:\n",
        "                                tmp.append(mean(vals))\n",
        "                                potential.at[i_p, \"difference\"] = mean(vals)\n",
        "\n",
        "\n",
        "\n",
        "    min_diff = -1\n",
        "    if len(tmp) > 0:\n",
        "            min_diff = min(tmp)\n",
        "            averages.append(min_diff)\n",
        "    if potential.shape[0] > 0:\n",
        "        potential = potential.sort_values(by=['Sim Name', \"Sim Province\", \"Sim City\", \"difference\"], ascending=[False, False, False, True])\n",
        "        to_print_2_special.append([row, potential, row['AidData Record ID'], min_diff])\n"
      ]
    },
    {
      "cell_type": "code",
      "execution_count": null,
      "metadata": {
        "id": "u1W1hG9dq-1W",
        "outputId": "af177b96-de99-4b1d-dd38-d0f790eefae6"
      },
      "outputs": [
        {
          "data": {
            "text/plain": [
              "122"
            ]
          },
          "execution_count": 108,
          "metadata": {},
          "output_type": "execute_result"
        }
      ],
      "source": [
        "len(to_print_2_special) + len(to_print_2)"
      ]
    },
    {
      "cell_type": "code",
      "execution_count": null,
      "metadata": {
        "id": "CY74gMRhq-1W",
        "outputId": "85f26770-9615-421c-c58b-583e538a08f2"
      },
      "outputs": [
        {
          "data": {
            "text/plain": [
              "[46386200.0,\n",
              " 186530000.0,\n",
              " 83260901.66666666,\n",
              " 667367333.0,\n",
              " 312371598.5,\n",
              " 260000000.0]"
            ]
          },
          "execution_count": 109,
          "metadata": {},
          "output_type": "execute_result"
        }
      ],
      "source": [
        "averages"
      ]
    },
    {
      "cell_type": "code",
      "execution_count": null,
      "metadata": {
        "id": "vstROKVCq-1W"
      },
      "outputs": [],
      "source": [
        "# # save these values\n",
        "# to_print_2 = to_print_2_special\n",
        "# # Create an ExcelWriter object\n",
        "# writer = pd.ExcelWriter('All matches - Investments v3 - special values.xlsx', engine='xlsxwriter')\n",
        "\n",
        "# for i in range(len(to_print_2)):\n",
        "#     # Write the first DataFrame to a specific sheet name and starting row\n",
        "#     df1 = pd.DataFrame(to_print_2[i][0]).transpose()[aid_columns_to_print[0:10] + [\"Amount (Nominal USD)\"] + aid_columns_to_print[10:] ]\n",
        "#     df1.to_excel(writer, sheet_name='AidData row ' + str(to_print_2[i][2]), startrow=0, index=False)\n",
        "\n",
        "#     # Write the second DataFrame to the same sheet but starting from a new row below the first DataFrame\n",
        "#     startrow_for_df2 = len(df1) + 2  # Add 2 for spacing between DataFrames\n",
        "#     #df2 = to_print[i][1][printing_cols]\n",
        "#     if to_print_2[i][1].shape[0] == 0:\n",
        "#         continue\n",
        "#     df2 = to_print_2[i][1][columns_cofi_to_print[0:9] + [\"difference\", \"differences per bank\"] + columns_cofi_to_print[9:]]\n",
        "#     df2.to_excel(writer, sheet_name='AidData row ' + str(to_print_2[i][2]), startrow=startrow_for_df2, index=False)\n",
        "\n",
        "#     startrow_for_df3 = len(df1) + 2 + len(df2) + 2\n",
        "#     df3 = pd.DataFrame([to_print_2[i][3]], columns=['Difference'])\n",
        "#     df3.to_excel(writer, sheet_name='AidData row ' + str(to_print_2[i][2]), startrow=startrow_for_df3, index=False)\n",
        "\n",
        "# # Save the Excel file\n",
        "# writer.close()"
      ]
    },
    {
      "cell_type": "markdown",
      "metadata": {
        "id": "BbvzAmenq-1W"
      },
      "source": [
        "##### Check the distribution of the values"
      ]
    },
    {
      "cell_type": "markdown",
      "metadata": {
        "id": "kAIsr3Ziq-1X"
      },
      "source": [
        "Note: \"averages\" is the difference values for the entries that have multiple banks in \"Funding Agencies\", it is computed below."
      ]
    },
    {
      "cell_type": "code",
      "execution_count": null,
      "metadata": {
        "id": "a1QvwpEmq-1X"
      },
      "outputs": [],
      "source": [
        "new_diff_df = pd.concat([diff_df, pd.DataFrame([[-1, x] for x in averages], columns=['AidData row', \"Least difference\"])])"
      ]
    },
    {
      "cell_type": "code",
      "execution_count": null,
      "metadata": {
        "id": "_8tLmEOcq-1X",
        "outputId": "5f50fac7-3c24-4189-b78b-9e19599ddf19"
      },
      "outputs": [
        {
          "data": {
            "text/plain": [
              "122"
            ]
          },
          "execution_count": 112,
          "metadata": {},
          "output_type": "execute_result"
        }
      ],
      "source": [
        "len(new_diff_df)"
      ]
    },
    {
      "cell_type": "markdown",
      "metadata": {
        "id": "_iEza5xlq-1X"
      },
      "source": [
        "Now, look at the distribution of the differences values."
      ]
    },
    {
      "cell_type": "code",
      "execution_count": null,
      "metadata": {
        "id": "kCH-j4Z6q-1X",
        "outputId": "5f027692-22f6-4c91-a2d1-3095b235f61d"
      },
      "outputs": [
        {
          "name": "stderr",
          "output_type": "stream",
          "text": [
            "No artists with labels found to put in legend.  Note that artists whose label start with an underscore are ignored when legend() is called with no argument.\n"
          ]
        },
        {
          "data": {
            "image/png": "[encoded data removed]",
            "text/plain": [
              "<Figure size 640x480 with 1 Axes>"
            ]
          },
          "metadata": {},
          "output_type": "display_data"
        }
      ],
      "source": [
        "import seaborn as sns\n",
        "import numpy as np\n",
        "import matplotlib.pyplot as plt\n",
        "\n",
        "\n",
        "# Create a KDE plot\n",
        "colors = [\"purple\", \"blue\", \"red\", \"green\", \"black\", \"orange\", \"magenta\"]\n",
        "\n",
        "#sns.kdeplot(values, color=colors[0])\n",
        "plt.hist(new_diff_df['Least difference'])\n",
        "\n",
        "plt.xlim([0, max(values)])\n",
        "\n",
        "# Customize the plot (optional)\n",
        "plt.legend()\n",
        "plt.xlabel('Difference')\n",
        "plt.ylabel('Quantity')\n",
        "plt.title('Difference distribution')\n",
        "plt.show()"
      ]
    },
    {
      "cell_type": "code",
      "execution_count": null,
      "metadata": {
        "id": "sGf_yHpCq-1X"
      },
      "outputs": [],
      "source": [
        "valid = new_diff_df.loc[(new_diff_df['Least difference'] != -1)]"
      ]
    },
    {
      "cell_type": "code",
      "execution_count": null,
      "metadata": {
        "id": "WRNyjIjDq-1X",
        "outputId": "87b5191b-86eb-4820-d7a5-997e04f4b06c"
      },
      "outputs": [
        {
          "data": {
            "text/plain": [
              "121"
            ]
          },
          "execution_count": 115,
          "metadata": {},
          "output_type": "execute_result"
        }
      ],
      "source": [
        "valid.shape[0]"
      ]
    },
    {
      "cell_type": "code",
      "execution_count": null,
      "metadata": {
        "id": "49gApYH2q-1X",
        "outputId": "727ecb26-f8c9-487c-8bfd-57bc9ca2c260"
      },
      "outputs": [
        {
          "name": "stdout",
          "output_type": "stream",
          "text": [
            "below 10 #: 31\n",
            "below 10 % 25.6198347107438\n",
            "\n",
            "below 100 #: 31\n",
            "below 100 % 25.6198347107438\n",
            "\n",
            "below 1000 #: 32\n",
            "below 1000 % 26.446280991735538\n",
            "\n",
            "below 10000 #: 34\n",
            "below 10000 % 28.09917355371901\n",
            "\n",
            "below 100000 #: 35\n",
            "below 100000 % 28.92561983471074\n",
            "\n",
            "below 1000000 #: 47\n",
            "below 1000000 % 38.84297520661157\n",
            "\n",
            "below 10000000 #: 59\n",
            "below 10000000 % 48.760330578512395\n",
            "\n",
            "below 100000000 #: 91\n",
            "below 100000000 % 75.20661157024794\n",
            "\n",
            "below 1000000000 #: 119\n",
            "below 1000000000 % 98.34710743801654\n",
            "\n"
          ]
        }
      ],
      "source": [
        "rows = []\n",
        "for thr in [pow(10, i) for i in [1, 2, 3, 4, 5, 6, 7, 8, 9]]:\n",
        "    below =  valid.loc[(valid['Least difference'] < thr) & (valid['Least difference'] != -1)].shape[0]\n",
        "    print(f\"below {thr} #: {below}\")\n",
        "    print(f\"below {thr} % {below / valid.shape[0] * 100}\\n\")\n",
        "    rows.append([f\"< {thr}\", below, below / valid.shape[0] * 100])"
      ]
    },
    {
      "cell_type": "code",
      "execution_count": null,
      "metadata": {
        "id": "jG_NjaUyq-1X",
        "outputId": "a607015d-fa45-45ea-adae-4af244fdcd0b"
      },
      "outputs": [
        {
          "data": {
            "text/html": [
              "<div>\n",
              "<style scoped>\n",
              "    .dataframe tbody tr th:only-of-type {\n",
              "        vertical-align: middle;\n",
              "    }\n",
              "\n",
              "    .dataframe tbody tr th {\n",
              "        vertical-align: top;\n",
              "    }\n",
              "\n",
              "    .dataframe thead th {\n",
              "        text-align: right;\n",
              "    }\n",
              "</style>\n",
              "<table border=\"1\" class=\"dataframe\">\n",
              "  <thead>\n",
              "    <tr style=\"text-align: right;\">\n",
              "      <th></th>\n",
              "      <th></th>\n",
              "      <th>&lt; 10</th>\n",
              "      <th>&lt; 100</th>\n",
              "      <th>&lt;1k</th>\n",
              "      <th>&lt;10k</th>\n",
              "      <th>&lt;100k</th>\n",
              "      <th>&lt; 1M</th>\n",
              "      <th>&lt; 10M</th>\n",
              "      <th>&lt;100M</th>\n",
              "      <th>&lt; 1G</th>\n",
              "    </tr>\n",
              "  </thead>\n",
              "  <tbody>\n",
              "    <tr>\n",
              "      <th>1</th>\n",
              "      <td>#</td>\n",
              "      <td>31</td>\n",
              "      <td>31</td>\n",
              "      <td>32</td>\n",
              "      <td>34</td>\n",
              "      <td>35</td>\n",
              "      <td>47</td>\n",
              "      <td>59</td>\n",
              "      <td>91</td>\n",
              "      <td>119</td>\n",
              "    </tr>\n",
              "    <tr>\n",
              "      <th>2</th>\n",
              "      <td>%</td>\n",
              "      <td>25.619835</td>\n",
              "      <td>25.619835</td>\n",
              "      <td>26.446281</td>\n",
              "      <td>28.099174</td>\n",
              "      <td>28.92562</td>\n",
              "      <td>38.842975</td>\n",
              "      <td>48.760331</td>\n",
              "      <td>75.206612</td>\n",
              "      <td>98.347107</td>\n",
              "    </tr>\n",
              "  </tbody>\n",
              "</table>\n",
              "</div>"
            ],
            "text/plain": [
              "0          < 10      < 100        <1k       <10k     <100k       < 1M  \\\n",
              "1  #         31         31         32         34        35         47   \n",
              "2  %  25.619835  25.619835  26.446281  28.099174  28.92562  38.842975   \n",
              "\n",
              "0      < 10M      <100M       < 1G  \n",
              "1         59         91        119  \n",
              "2  48.760331  75.206612  98.347107  "
            ]
          },
          "execution_count": 117,
          "metadata": {},
          "output_type": "execute_result"
        }
      ],
      "source": [
        "t = pd.DataFrame(rows).transpose()\n",
        "t.columns = t.iloc[0]\n",
        "t = t.drop(0)\n",
        "t[''] = ['#', \"%\"]\n",
        "t = t[[\"\"] + list(t.columns[0:-1])]\n",
        "t = t.rename(columns={\"< 1000\": \"<1k\", \"< 10000\": \"<10k\",\t\"< 100000\":\t\"<100k\", \"< 1000000\": \"< 1M\",\t\"< 10000000\": \"< 10M\",\t\"< 100000000\": \"<100M\", \"< 1000000000\": \"< 1G\"})\n",
        "t"
      ]
    },
    {
      "cell_type": "code",
      "execution_count": null,
      "metadata": {
        "id": "gr2TeQVUq-1X",
        "outputId": "9bdc49fe-774b-41ad-a13b-13c35dfd6cb3"
      },
      "outputs": [
        {
          "data": {
            "text/plain": [
              "116"
            ]
          },
          "execution_count": 118,
          "metadata": {},
          "output_type": "execute_result"
        }
      ],
      "source": [
        "len(to_print_2)"
      ]
    },
    {
      "cell_type": "code",
      "execution_count": null,
      "metadata": {
        "id": "ZwjJZBiBq-1X"
      },
      "outputs": [],
      "source": [
        "# # save these values\n",
        "\n",
        "# # Create an ExcelWriter object\n",
        "# writer = pd.ExcelWriter('All matches - Investments v3 - with difference in amounts.xlsx', engine='xlsxwriter')\n",
        "\n",
        "# for i in range(len(to_print_2)):\n",
        "#     # Write the first DataFrame to a specific sheet name and starting row\n",
        "#     df1 = pd.DataFrame(to_print_2[i][0]).transpose()[aid_columns_to_print[0:10] + [\"Amount (Nominal USD)\"] + aid_columns_to_print[10:] ]\n",
        "#     df1.to_excel(writer, sheet_name='AidData row ' + str(to_print_2[i][2]), startrow=0, index=False)\n",
        "\n",
        "#     # Write the second DataFrame to the same sheet but starting from a new row below the first DataFrame\n",
        "#     startrow_for_df2 = len(df1) + 2  # Add 2 for spacing between DataFrames\n",
        "#     #df2 = to_print[i][1][printing_cols]\n",
        "#     if to_print_2[i][1].shape[0] == 0:\n",
        "#         continue\n",
        "#     df2 = to_print_2[i][1][columns_cofi_to_print[0:9] + [\"difference\"] + columns_cofi_to_print[9:]]\n",
        "#     df2.to_excel(writer, sheet_name='AidData row ' + str(to_print_2[i][2]), startrow=startrow_for_df2, index=False)\n",
        "\n",
        "#     startrow_for_df3 = len(df1) + 2 + len(df2) + 2\n",
        "#     df3 = pd.DataFrame([to_print_2[i][3]], columns=['Difference'])\n",
        "#     df3.to_excel(writer, sheet_name='AidData row ' + str(to_print_2[i][2]), startrow=startrow_for_df3, index=False)\n",
        "\n",
        "# # Save the Excel file\n",
        "# writer.close()"
      ]
    },
    {
      "cell_type": "markdown",
      "metadata": {
        "id": "QhCn8cPdq-1X"
      },
      "source": [
        "#### Check how many rows do have multiple matches in COFI"
      ]
    },
    {
      "cell_type": "code",
      "execution_count": null,
      "metadata": {
        "id": "XuhysBW-q-1X",
        "outputId": "003746f4-4bd9-4d80-a5d0-20b630a42a05"
      },
      "outputs": [
        {
          "data": {
            "text/plain": [
              "25"
            ]
          },
          "execution_count": 120,
          "metadata": {},
          "output_type": "execute_result"
        }
      ],
      "source": [
        "len([x for x in to_print_2 if x[1].shape[0] > 1]) + len([x for x in to_print_2_special if x[1].shape[0] > 1])"
      ]
    },
    {
      "cell_type": "markdown",
      "metadata": {
        "id": "Q3KQkx4sq-1X"
      },
      "source": [
        "#### Get all the IDs in COFI that are not matched with any value in COFI"
      ]
    },
    {
      "cell_type": "code",
      "execution_count": null,
      "metadata": {
        "id": "JdFC-AQDq-1X",
        "outputId": "6c483955-a148-461c-e7eb-1c1d2d4e6e5a"
      },
      "outputs": [
        {
          "data": {
            "text/plain": [
              "122"
            ]
          },
          "execution_count": 121,
          "metadata": {},
          "output_type": "execute_result"
        }
      ],
      "source": [
        "len(to_print_2) + len(to_print_2_special)"
      ]
    },
    {
      "cell_type": "code",
      "execution_count": null,
      "metadata": {
        "id": "mjOp3I1Rq-1X",
        "outputId": "e89a2e7c-54cc-4edb-db77-57d7d4d66219"
      },
      "outputs": [
        {
          "data": {
            "text/plain": [
              "['IDN2021012']"
            ]
          },
          "execution_count": 122,
          "metadata": {},
          "output_type": "execute_result"
        }
      ],
      "source": [
        "to_print_2_special[0][1]['unique_id'].to_list()"
      ]
    },
    {
      "cell_type": "code",
      "execution_count": null,
      "metadata": {
        "id": "oz6CpQ8uq-1X"
      },
      "outputs": [],
      "source": [
        "cofi_ids_investment = []\n",
        "for i in range(len(to_print_2)):\n",
        "    cofi_ids_investment.extend(to_print_2[i][1]['unique_id'].to_list())\n",
        "\n",
        "for i in range(len(to_print_2_special)):\n",
        "    cofi_ids_investment.extend(to_print_2_special[i][1]['unique_id'].to_list())"
      ]
    },
    {
      "cell_type": "code",
      "execution_count": null,
      "metadata": {
        "id": "4G3VoIVLq-1X"
      },
      "outputs": [],
      "source": [
        "cofi_ids_investment_list = list(set(cofi_ids_investment))\n",
        "cofi_ids_investment_list.sort()"
      ]
    },
    {
      "cell_type": "code",
      "execution_count": null,
      "metadata": {
        "id": "MgjsfRwYq-1X"
      },
      "outputs": [],
      "source": [
        "pd.DataFrame(cofi_ids_investment_list, columns=['Matched in investment']).to_excel(\"COFI - matched in AidData investment.xlsx\")"
      ]
    },
    {
      "cell_type": "code",
      "execution_count": null,
      "metadata": {
        "id": "HKd-5Xoyq-1X"
      },
      "outputs": [],
      "source": [
        "not_matched_investment = []\n",
        "for cofi_id in set(cofi['unique_id'].to_list()):\n",
        "    if cofi_id not in cofi_ids_investment_list:\n",
        "        not_matched_investment.append(cofi_id)"
      ]
    },
    {
      "cell_type": "code",
      "execution_count": null,
      "metadata": {
        "id": "saGu3CKXq-1Y"
      },
      "outputs": [],
      "source": [
        "not_matched_investment_list = list(set(not_matched_investment))\n",
        "not_matched_investment_list.sort()"
      ]
    },
    {
      "cell_type": "code",
      "execution_count": null,
      "metadata": {
        "id": "b1LARVoaq-1Y"
      },
      "outputs": [],
      "source": [
        "pd.DataFrame(not_matched_investment_list, columns=['Not matched in investment']).to_excel(\"COFI - not matched in AidData investment.xlsx\")"
      ]
    },
    {
      "cell_type": "code",
      "execution_count": null,
      "metadata": {
        "id": "9JJRjQEVq-1Y",
        "outputId": "22e09e03-b1fe-4edc-ca9a-88b65502eb98"
      },
      "outputs": [
        {
          "name": "stdout",
          "output_type": "stream",
          "text": [
            "True\n",
            "True\n"
          ]
        }
      ],
      "source": [
        "print(set(not_matched_investment_list) & set(cofi_ids_investment_list) == set())\n",
        "print(len(not_matched_investment_list) + len(cofi_ids_investment_list) == len(cofi))"
      ]
    },
    {
      "cell_type": "code",
      "execution_count": null,
      "metadata": {
        "id": "5yQdxhgWq-1Y",
        "outputId": "942de338-0874-41bd-eb89-3a16fbc99a71"
      },
      "outputs": [
        {
          "data": {
            "text/plain": [
              "155"
            ]
          },
          "execution_count": 150,
          "metadata": {},
          "output_type": "execute_result"
        }
      ],
      "source": [
        "len(matched_pp_list)"
      ]
    },
    {
      "cell_type": "code",
      "execution_count": null,
      "metadata": {
        "id": "V3YPZVKsq-1Y",
        "outputId": "3ff665fb-b893-45a4-b95c-3e2e2dfa2a33"
      },
      "outputs": [
        {
          "data": {
            "text/plain": [
              "92"
            ]
          },
          "execution_count": 151,
          "metadata": {},
          "output_type": "execute_result"
        }
      ],
      "source": [
        "len(cofi_ids_investment_list)"
      ]
    },
    {
      "cell_type": "markdown",
      "metadata": {
        "id": "eWnVfdkzq-1Y"
      },
      "source": [
        "#### Save all results"
      ]
    },
    {
      "cell_type": "markdown",
      "metadata": {
        "id": "bJCypvV7q-1Y"
      },
      "source": [
        "We print both the entries that have one bank in \"Funding Agencies\" and those that have multiples in one file."
      ]
    },
    {
      "cell_type": "code",
      "execution_count": null,
      "metadata": {
        "id": "KOlQjnlSq-1Y"
      },
      "outputs": [],
      "source": [
        "# Create an ExcelWriter object\n",
        "writer = pd.ExcelWriter('All matches - Investments v3.xlsx', engine='xlsxwriter')\n",
        "\n",
        "for i in range(len(to_print_2)):\n",
        "    # Write the first DataFrame to a specific sheet name and starting row\n",
        "    df1 = pd.DataFrame(to_print_2[i][0]).transpose()[aid_columns_to_print[0:11] + [\"Amount (Nominal USD)\"] + aid_columns_to_print[11:] ]\n",
        "    df1.to_excel(writer, sheet_name='AidData ID ' + str(to_print_2[i][2]), startrow=0, index=False)\n",
        "\n",
        "    # Write the second DataFrame to the same sheet but starting from a new row below the first DataFrame\n",
        "    startrow_for_df2 = len(df1) + 2  # Add 2 for spacing between DataFrames\n",
        "    #df2 = to_print[i][1][printing_cols]\n",
        "    if to_print_2[i][1].shape[0] == 0:\n",
        "        print(\"hello\")\n",
        "        continue\n",
        "    df2 = to_print_2[i][1][columns_cofi_to_print[0:10] + [\"difference\"] + columns_cofi_to_print[10:]]\n",
        "    df2.to_excel(writer, sheet_name='AidData ID ' + str(to_print_2[i][2]), startrow=startrow_for_df2, index=False)\n",
        "\n",
        "    startrow_for_df3 = len(df1) + 2 + len(df2) + 2\n",
        "    df3 = pd.DataFrame([to_print_2[i][3]], columns=['Least difference'])\n",
        "    df3.to_excel(writer, sheet_name='AidData ID ' + str(to_print_2[i][2]), startrow=startrow_for_df3, index=False)\n",
        "\n",
        "to_print_2 = to_print_2_special\n",
        "\n",
        "for i in range(len(to_print_2)):\n",
        "    # Write the first DataFrame to a specific sheet name and starting row\n",
        "    df1 = pd.DataFrame(to_print_2[i][0]).transpose()[aid_columns_to_print[0:11] + [\"Amount (Nominal USD)\"] + aid_columns_to_print[11:]  ]\n",
        "    df1.to_excel(writer, sheet_name='AidData ID ' + str(to_print_2[i][2]), startrow=0, index=False)\n",
        "\n",
        "    # Write the second DataFrame to the same sheet but starting from a new row below the first DataFrame\n",
        "    startrow_for_df2 = len(df1) + 2  # Add 2 for spacing between DataFrames\n",
        "    #df2 = to_print[i][1][printing_cols]\n",
        "    if to_print_2[i][1].shape[0] == 0:\n",
        "        continue\n",
        "    df2 = to_print_2[i][1][columns_cofi_to_print[0:10] + [\"difference\", \"differences per bank\"] + columns_cofi_to_print[10:]]\n",
        "    df2.to_excel(writer, sheet_name='AidData ID ' + str(to_print_2[i][2]), startrow=startrow_for_df2, index=False)\n",
        "\n",
        "    startrow_for_df3 = len(df1) + 2 + len(df2) + 2\n",
        "    df3 = pd.DataFrame([to_print_2[i][3]], columns=['Least difference'])\n",
        "    df3.to_excel(writer, sheet_name='AidData ID ' + str(to_print_2[i][2]), startrow=startrow_for_df3, index=False)\n",
        "\n",
        "# Save the Excel file\n",
        "writer.close()"
      ]
    },
    {
      "cell_type": "code",
      "execution_count": null,
      "metadata": {
        "id": "pt_89Ogpq-1Y"
      },
      "outputs": [],
      "source": [
        "# check\n",
        "temp= pd.read_excel(\"All matches - Investments v3.xlsx\", sheet_name=None)"
      ]
    },
    {
      "cell_type": "code",
      "execution_count": null,
      "metadata": {
        "id": "H-vE05zpq-1Y",
        "outputId": "23ea4ea9-21e1-4722-d213-280406ef87a2"
      },
      "outputs": [
        {
          "data": {
            "text/plain": [
              "122"
            ]
          },
          "execution_count": 107,
          "metadata": {},
          "output_type": "execute_result"
        }
      ],
      "source": [
        "len(temp)"
      ]
    },
    {
      "cell_type": "markdown",
      "metadata": {
        "id": "M4qjLWCkq-1Y"
      },
      "source": [
        "Note: in COFI there are some results that have explicitly 0, so when we do the difference these are included (the difference is the value in Aid - 0 = the value in Aid): I thought this would distort the analysis of the differences but that doesn't happen, the distribution of the values (below \"< 10\", \"< 100\", etc.) isn't affected."
      ]
    }
  ],
  "metadata": {
    "colab": {
      "provenance": []
    },
    "kernelspec": {
      "display_name": "env",
      "language": "python",
      "name": "python3"
    },
    "language_info": {
      "codemirror_mode": {
        "name": "ipython",
        "version": 3
      },
      "file_extension": ".py",
      "mimetype": "text/x-python",
      "name": "python",
      "nbconvert_exporter": "python",
      "pygments_lexer": "ipython3",
      "version": "3.12.6"
    }
  },
  "nbformat": 4,
  "nbformat_minor": 0
}
