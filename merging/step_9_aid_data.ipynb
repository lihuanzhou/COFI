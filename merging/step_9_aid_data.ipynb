{
 "cells": [
  {
   "cell_type": "code",
   "execution_count": null,
   "metadata": {},
   "outputs": [],
   "source": [
    "#@TODO check which of the following is relevant\n",
    "#@TODO: get _country = provience maybe? relevant\n",
    "#@TODO: get _city relevant \n",
    "#@TODO: get _poweer_plant relevant\n",
    "#@TODO: get invistor, transaction and debt "
   ]
  },
  {
   "cell_type": "markdown",
   "metadata": {},
   "source": [
    "# Imports & Global Variables"
   ]
  },
  {
   "cell_type": "code",
   "execution_count": 5,
   "metadata": {},
   "outputs": [],
   "source": [
    "import pandas as pd\n",
    "import numpy as np\n",
    "\n",
    "# import custom-made functions\n",
    "from functions.cleaning import get_variables, create_placeholder, create_unique_id, get_variables_advanced, preprocess_text\n",
    "from functions.cleaning import  check_if_new_country_names, update_country_names\n",
    "from functions.joining import join_pp_until_country, join_equity_transaction, join_debt_transaction\n",
    "from functions.final_tables_creation import get_tables_to_create_empty\n",
    "\n",
    "# other useful libraries\n",
    "import itertools\n",
    "from statistics import mean, stdev\n",
    "import statistics\n",
    "\n",
    "# for the matching of power plant names\n",
    "from thefuzz import process\n",
    "from thefuzz import fuzz\n",
    "\n",
    "from functions.joining import join_pp_full_debt_full_equity_full\n",
    "from functions.cleaning import my_read_excel, my_reset_index\n",
    "from functions.cleaning import get_thresholds_methods_dicts\n",
    "from functions.matching import find_matches_equity_and_debt_complete\n",
    "from functions.matching import find_matches_power_plant_or_fill_PP_key\n",
    "from functions.cleaning import extract_between_outside_underscores\n",
    "from functions.cleaning import print_final_statistics, fix_investor_names, clean_primary_fuel_column\n",
    "from functions.cleaning import count_sources_in_id\n",
    "from functions.matching import prepare_pp_full_for_matching_commissioning_year\n",
    "from functions.cleaning import fix_duplicated_power_plants_keys"
   ]
  },
  {
   "cell_type": "code",
   "execution_count": 6,
   "metadata": {
    "vscode": {
     "languageId": "markdown"
    }
   },
   "outputs": [],
   "source": [
    "# needed folder paths\n",
    "input_folder = \"Cleaned Data/\" # or we can put this info in the \"files name\" sheet\n",
    "intermediate_folder = \"Intermediate Results/\" # to save some intermediate results\n",
    "current_final_tables_folder = \"Current Final Tables/\" \n"
   ]
  },
  {
   "cell_type": "code",
   "execution_count": 7,
   "metadata": {
    "vscode": {
     "languageId": "markdown"
    }
   },
   "outputs": [
    {
     "name": "stdout",
     "output_type": "stream",
     "text": [
      "13\n"
     ]
    }
   ],
   "source": [
    "# load the excel containing all the mapping information\n",
    "dictionary_fuel_name = \"Dictionaries.xlsx\"\n",
    "dictionary_fuel = pd.read_excel(dictionary_fuel_name, sheet_name=None) # read all the sheets that we will be using togehter\n",
    "print(len(dictionary_fuel))"
   ]
  },
  {
   "cell_type": "code",
   "execution_count": 8,
   "metadata": {},
   "outputs": [],
   "source": [
    "#@TODO thresholds and methods goes here"
   ]
  },
  {
   "cell_type": "code",
   "execution_count": 9,
   "metadata": {
    "vscode": {
     "languageId": "markdown"
    }
   },
   "outputs": [],
   "source": [
    "# the tables we are creating here\n",
    "tables_to_create = [\"Power Plant\", \"City\", \"Country\", \"Debt\", \"Equity\", \"Transaction\", \"Investor\"]\n",
    "investments_tables = [\"Equity\", \"Transaction\", \"Investor\"]"
   ]
  },
  {
   "cell_type": "code",
   "execution_count": 10,
   "metadata": {},
   "outputs": [],
   "source": [
    "# already existing final tables\n",
    "debt_file = \"Debt.csv\"\n",
    "power_plant_file = \"Power Plant.csv\"\n",
    "city_file = \"City.csv\"\n",
    "country_file = \"Country.csv\"\n",
    "bridge_file = \"CITYKEY_BRIDGE_PP_C.csv\"\n",
    "equity_file = \"Equity.csv\"\n",
    "transaction_file = \"Transaction.csv\""
   ]
  },
  {
   "cell_type": "code",
   "execution_count": 11,
   "metadata": {},
   "outputs": [],
   "source": [
    "source_name = \"AidData\"\n",
    "\n",
    "# names of the final tables to be used here\n",
    "equity_name = \"Equity\"\n",
    "debt_name = \"Debt\"\n",
    "\n",
    "# saving information\n",
    "saving_suffix = \"_AidData.csv\""
   ]
  },
  {
   "cell_type": "markdown",
   "metadata": {},
   "source": [
    "# 1. Read Data"
   ]
  },
  {
   "cell_type": "code",
   "execution_count": 12,
   "metadata": {},
   "outputs": [],
   "source": [
    "aid = pd.read_excel(\"/Users/mariam/Vs code projects/WRi-COFI-streamlit/cleaning/AidData - New Plants with extracted info.xlsx\")"
   ]
  },
  {
   "cell_type": "code",
   "execution_count": 13,
   "metadata": {},
   "outputs": [],
   "source": [
    "aid_full =aid.copy(deep=True)"
   ]
  },
  {
   "cell_type": "code",
   "execution_count": 14,
   "metadata": {},
   "outputs": [
    {
     "data": {
      "text/html": [
       "<div>\n",
       "<style scoped>\n",
       "    .dataframe tbody tr th:only-of-type {\n",
       "        vertical-align: middle;\n",
       "    }\n",
       "\n",
       "    .dataframe tbody tr th {\n",
       "        vertical-align: top;\n",
       "    }\n",
       "\n",
       "    .dataframe thead th {\n",
       "        text-align: right;\n",
       "    }\n",
       "</style>\n",
       "<table border=\"1\" class=\"dataframe\">\n",
       "  <thead>\n",
       "    <tr style=\"text-align: right;\">\n",
       "      <th></th>\n",
       "      <th>AidData Record ID</th>\n",
       "      <th>Title</th>\n",
       "      <th>Recipient ISO-3</th>\n",
       "      <th>Commitment Year</th>\n",
       "      <th>Funding Agencies</th>\n",
       "      <th>Co-financing Agencies</th>\n",
       "      <th>Amount (Nominal USD)</th>\n",
       "      <th>Amount (Constant USD 2021)</th>\n",
       "      <th>Adjusted Amount (Constant USD 2021)</th>\n",
       "      <th>Flow Type</th>\n",
       "      <th>M&amp;A</th>\n",
       "      <th>Description</th>\n",
       "      <th>to_keep</th>\n",
       "      <th>reason</th>\n",
       "      <th>primary_fuel</th>\n",
       "      <th>installed_capacity</th>\n",
       "      <th>additional_info</th>\n",
       "      <th>pattern name</th>\n",
       "    </tr>\n",
       "  </thead>\n",
       "  <tbody>\n",
       "    <tr>\n",
       "      <th>0</th>\n",
       "      <td>96176</td>\n",
       "      <td>CCB, BoC, China CITIC Bank, and China Bohai Ba...</td>\n",
       "      <td>PAK</td>\n",
       "      <td>2021</td>\n",
       "      <td>Bank of China (BOC)|China Bohai Bank|China CIT...</td>\n",
       "      <td>Credit Suisse|Deutsche Bank|Standard Chartered...</td>\n",
       "      <td>1.664000e+08</td>\n",
       "      <td>1.664000e+08</td>\n",
       "      <td>1.664000e+08</td>\n",
       "      <td>Loan</td>\n",
       "      <td>NaN</td>\n",
       "      <td>On September 13, 2021, Bin Qasim 3 CCGT — a sp...</td>\n",
       "      <td>True</td>\n",
       "      <td>Power Station</td>\n",
       "      <td>NaN</td>\n",
       "      <td>900.0</td>\n",
       "      <td>Bin Qasim</td>\n",
       "      <td>second pattern</td>\n",
       "    </tr>\n",
       "    <tr>\n",
       "      <th>1</th>\n",
       "      <td>96035</td>\n",
       "      <td>ICBC participates in PHP 1.6 billion syndicate...</td>\n",
       "      <td>PHL</td>\n",
       "      <td>2021</td>\n",
       "      <td>Industrial and Commercial Bank of China (ICBC)</td>\n",
       "      <td>Security Bank Cooperation</td>\n",
       "      <td>1.623706e+07</td>\n",
       "      <td>1.623706e+07</td>\n",
       "      <td>1.623706e+07</td>\n",
       "      <td>Loan</td>\n",
       "      <td>NaN</td>\n",
       "      <td>On January 20, 2021, the Philippines’ Departme...</td>\n",
       "      <td>True</td>\n",
       "      <td>new pattern</td>\n",
       "      <td>solar pv</td>\n",
       "      <td>NaN</td>\n",
       "      <td>Phases 3A and 3B of the Bataan</td>\n",
       "      <td>fuels pattern</td>\n",
       "    </tr>\n",
       "    <tr>\n",
       "      <th>2</th>\n",
       "      <td>92685</td>\n",
       "      <td>Africa Growing Together Fund provides $20 mill...</td>\n",
       "      <td>TZA</td>\n",
       "      <td>2021</td>\n",
       "      <td>People's Bank of China (PBC)</td>\n",
       "      <td>Africa Development Bank</td>\n",
       "      <td>2.000000e+07</td>\n",
       "      <td>2.000000e+07</td>\n",
       "      <td>2.000000e+07</td>\n",
       "      <td>Loan</td>\n",
       "      <td>NaN</td>\n",
       "      <td>On May 22, 2014, the African Development Bank ...</td>\n",
       "      <td>True</td>\n",
       "      <td>new pattern</td>\n",
       "      <td>hydro</td>\n",
       "      <td>44.8</td>\n",
       "      <td>Malagarasi</td>\n",
       "      <td>first pattern</td>\n",
       "    </tr>\n",
       "    <tr>\n",
       "      <th>3</th>\n",
       "      <td>92631</td>\n",
       "      <td>Bank of China contributes to $750 million synd...</td>\n",
       "      <td>UZB</td>\n",
       "      <td>2021</td>\n",
       "      <td>Bank of China (BOC)</td>\n",
       "      <td>Asian Infrastructure Investment Bank (AIIB)|Eu...</td>\n",
       "      <td>3.000000e+08</td>\n",
       "      <td>3.000000e+08</td>\n",
       "      <td>3.000000e+08</td>\n",
       "      <td>Loan</td>\n",
       "      <td>NaN</td>\n",
       "      <td>In 2019, the Government of Uzbekistan initiate...</td>\n",
       "      <td>True</td>\n",
       "      <td>Power Project</td>\n",
       "      <td>NaN</td>\n",
       "      <td>1500.0</td>\n",
       "      <td>Sirdarya Independent</td>\n",
       "      <td>second pattern</td>\n",
       "    </tr>\n",
       "    <tr>\n",
       "      <th>4</th>\n",
       "      <td>96465</td>\n",
       "      <td>Bank of China contributes to $81 million syndi...</td>\n",
       "      <td>VNM</td>\n",
       "      <td>2021</td>\n",
       "      <td>Bank of China (BOC)</td>\n",
       "      <td>Asian Development Bank|Export Finance Australi...</td>\n",
       "      <td>4.050000e+07</td>\n",
       "      <td>4.050000e+07</td>\n",
       "      <td>4.050000e+07</td>\n",
       "      <td>Loan</td>\n",
       "      <td>NaN</td>\n",
       "      <td>In August 2021, Lien Lap Wind Power Joint Stoc...</td>\n",
       "      <td>True</td>\n",
       "      <td>Power Project</td>\n",
       "      <td>onshore wind|offshore wind</td>\n",
       "      <td>NaN</td>\n",
       "      <td>Lotus</td>\n",
       "      <td>fuels pattern</td>\n",
       "    </tr>\n",
       "  </tbody>\n",
       "</table>\n",
       "</div>"
      ],
      "text/plain": [
       "   AidData Record ID                                              Title  \\\n",
       "0              96176  CCB, BoC, China CITIC Bank, and China Bohai Ba...   \n",
       "1              96035  ICBC participates in PHP 1.6 billion syndicate...   \n",
       "2              92685  Africa Growing Together Fund provides $20 mill...   \n",
       "3              92631  Bank of China contributes to $750 million synd...   \n",
       "4              96465  Bank of China contributes to $81 million syndi...   \n",
       "\n",
       "  Recipient ISO-3  Commitment Year  \\\n",
       "0             PAK             2021   \n",
       "1             PHL             2021   \n",
       "2             TZA             2021   \n",
       "3             UZB             2021   \n",
       "4             VNM             2021   \n",
       "\n",
       "                                    Funding Agencies  \\\n",
       "0  Bank of China (BOC)|China Bohai Bank|China CIT...   \n",
       "1     Industrial and Commercial Bank of China (ICBC)   \n",
       "2                       People's Bank of China (PBC)   \n",
       "3                                Bank of China (BOC)   \n",
       "4                                Bank of China (BOC)   \n",
       "\n",
       "                               Co-financing Agencies  Amount (Nominal USD)  \\\n",
       "0  Credit Suisse|Deutsche Bank|Standard Chartered...          1.664000e+08   \n",
       "1                          Security Bank Cooperation          1.623706e+07   \n",
       "2                            Africa Development Bank          2.000000e+07   \n",
       "3  Asian Infrastructure Investment Bank (AIIB)|Eu...          3.000000e+08   \n",
       "4  Asian Development Bank|Export Finance Australi...          4.050000e+07   \n",
       "\n",
       "   Amount (Constant USD 2021)  Adjusted Amount (Constant USD 2021) Flow Type  \\\n",
       "0                1.664000e+08                         1.664000e+08      Loan   \n",
       "1                1.623706e+07                         1.623706e+07      Loan   \n",
       "2                2.000000e+07                         2.000000e+07      Loan   \n",
       "3                3.000000e+08                         3.000000e+08      Loan   \n",
       "4                4.050000e+07                         4.050000e+07      Loan   \n",
       "\n",
       "   M&A                                        Description  to_keep  \\\n",
       "0  NaN  On September 13, 2021, Bin Qasim 3 CCGT — a sp...     True   \n",
       "1  NaN  On January 20, 2021, the Philippines’ Departme...     True   \n",
       "2  NaN  On May 22, 2014, the African Development Bank ...     True   \n",
       "3  NaN  In 2019, the Government of Uzbekistan initiate...     True   \n",
       "4  NaN  In August 2021, Lien Lap Wind Power Joint Stoc...     True   \n",
       "\n",
       "          reason                primary_fuel  installed_capacity  \\\n",
       "0  Power Station                         NaN               900.0   \n",
       "1    new pattern                    solar pv                 NaN   \n",
       "2    new pattern                       hydro                44.8   \n",
       "3  Power Project                         NaN              1500.0   \n",
       "4  Power Project  onshore wind|offshore wind                 NaN   \n",
       "\n",
       "                  additional_info    pattern name  \n",
       "0                       Bin Qasim  second pattern  \n",
       "1  Phases 3A and 3B of the Bataan   fuels pattern  \n",
       "2                      Malagarasi   first pattern  \n",
       "3            Sirdarya Independent  second pattern  \n",
       "4                           Lotus   fuels pattern  "
      ]
     },
     "execution_count": 14,
     "metadata": {},
     "output_type": "execute_result"
    }
   ],
   "source": [
    "aid.head()"
   ]
  },
  {
   "cell_type": "code",
   "execution_count": 15,
   "metadata": {},
   "outputs": [
    {
     "data": {
      "text/plain": [
       "(197, 18)"
      ]
     },
     "execution_count": 15,
     "metadata": {},
     "output_type": "execute_result"
    }
   ],
   "source": [
    "aid.shape"
   ]
  },
  {
   "cell_type": "markdown",
   "metadata": {},
   "source": [
    "## 1.2 Load data for existing Power Plants and Debt data for matching purposes"
   ]
  },
  {
   "cell_type": "code",
   "execution_count": 16,
   "metadata": {},
   "outputs": [],
   "source": [
    "columns_to_keep_pp = [\"PP_key\", \"power_plant_name\", \"primary_fuel\", \"province\", \"country\"]\n",
    "columns_to_keep_equity = [\"equity_id\", \"PP_key\", \"equity_investment_type\",  \"equity_investment_year\", \"investor_name\", \"amount\"]\n",
    "columns_to_keep_debt = [\"debt_id\", \"PP_key\", \"debt_investment_year\", \"investor_name\", \"amount\"]"
   ]
  },
  {
   "cell_type": "code",
   "execution_count": 17,
   "metadata": {},
   "outputs": [
    {
     "name": "stdout",
     "output_type": "stream",
     "text": [
      "Retriving data from folder \"Current Final Tables/\"....\n",
      "Data was last modified on: 2024-11-21\n",
      "Joining Power Plant and briding table, all power plants preserved: False\n",
      "Joining with city, all power plants preserved: False\n",
      "Joining with country, all power plants preserved: True\n",
      "\n",
      "\n",
      "Retriving data from folder \"Current Final Tables/\"....\n",
      "Data was last modified on: 2024-11-21\n",
      "Joining Debt and Transaction, all Debt entries had matching transaction: True\n",
      "Joining Debt full and Power Plant full, all Debt entries are preserved: False\n",
      "\n",
      "\n",
      "Retriving data from folder \"Current Final Tables/\"....\n",
      "Data was last modified on: 2024-11-21\n",
      "Joining Equity and Transaction, all Equity entries had matching transaction: True\n",
      "Joining Equity full and Power Plant full, all Equity entries are preserved: False\n"
     ]
    }
   ],
   "source": [
    "pp_full, db_pp,  eq_pp = join_pp_full_debt_full_equity_full(columns_to_keep_pp, columns_to_keep_debt, columns_to_keep_equity, \"Current Final Tables/\", get_commissioning_year=True)"
   ]
  },
  {
   "cell_type": "code",
   "execution_count": 19,
   "metadata": {},
   "outputs": [
    {
     "data": {
      "text/html": [
       "<div>\n",
       "<style scoped>\n",
       "    .dataframe tbody tr th:only-of-type {\n",
       "        vertical-align: middle;\n",
       "    }\n",
       "\n",
       "    .dataframe tbody tr th {\n",
       "        vertical-align: top;\n",
       "    }\n",
       "\n",
       "    .dataframe thead th {\n",
       "        text-align: right;\n",
       "    }\n",
       "</style>\n",
       "<table border=\"1\" class=\"dataframe\">\n",
       "  <thead>\n",
       "    <tr style=\"text-align: right;\">\n",
       "      <th></th>\n",
       "      <th>PP_key</th>\n",
       "      <th>power_plant_name</th>\n",
       "      <th>primary_fuel</th>\n",
       "      <th>province</th>\n",
       "      <th>country</th>\n",
       "      <th>commissioning_year</th>\n",
       "      <th>year_range</th>\n",
       "    </tr>\n",
       "  </thead>\n",
       "  <tbody>\n",
       "    <tr>\n",
       "      <th>0</th>\n",
       "      <td>PLANTKEY_FDIMARKETS_0</td>\n",
       "      <td>NaN</td>\n",
       "      <td>solar</td>\n",
       "      <td>unnamed province 0</td>\n",
       "      <td>serbia</td>\n",
       "      <td>NaN</td>\n",
       "      <td>NaN</td>\n",
       "    </tr>\n",
       "    <tr>\n",
       "      <th>1</th>\n",
       "      <td>PLANTKEY_FDIMARKETS_1</td>\n",
       "      <td>NaN</td>\n",
       "      <td>hydropower</td>\n",
       "      <td>tashkent viloyati</td>\n",
       "      <td>uzbekistan</td>\n",
       "      <td>NaN</td>\n",
       "      <td>NaN</td>\n",
       "    </tr>\n",
       "    <tr>\n",
       "      <th>2</th>\n",
       "      <td>PLANTKEY_FDIMARKETS_1</td>\n",
       "      <td>NaN</td>\n",
       "      <td>hydropower</td>\n",
       "      <td>tashkent viloyati</td>\n",
       "      <td>uzbekistan</td>\n",
       "      <td>NaN</td>\n",
       "      <td>NaN</td>\n",
       "    </tr>\n",
       "    <tr>\n",
       "      <th>3</th>\n",
       "      <td>PLANTKEY_FDIMARKETS_1</td>\n",
       "      <td>NaN</td>\n",
       "      <td>hydropower</td>\n",
       "      <td>tashkent viloyati</td>\n",
       "      <td>uzbekistan</td>\n",
       "      <td>NaN</td>\n",
       "      <td>NaN</td>\n",
       "    </tr>\n",
       "    <tr>\n",
       "      <th>4</th>\n",
       "      <td>PLANTKEY_FDIMARKETS_1</td>\n",
       "      <td>NaN</td>\n",
       "      <td>hydropower</td>\n",
       "      <td>tashkent viloyati</td>\n",
       "      <td>uzbekistan</td>\n",
       "      <td>NaN</td>\n",
       "      <td>NaN</td>\n",
       "    </tr>\n",
       "  </tbody>\n",
       "</table>\n",
       "</div>"
      ],
      "text/plain": [
       "                  PP_key power_plant_name primary_fuel            province  \\\n",
       "0  PLANTKEY_FDIMARKETS_0              NaN        solar  unnamed province 0   \n",
       "1  PLANTKEY_FDIMARKETS_1              NaN   hydropower   tashkent viloyati   \n",
       "2  PLANTKEY_FDIMARKETS_1              NaN   hydropower   tashkent viloyati   \n",
       "3  PLANTKEY_FDIMARKETS_1              NaN   hydropower   tashkent viloyati   \n",
       "4  PLANTKEY_FDIMARKETS_1              NaN   hydropower   tashkent viloyati   \n",
       "\n",
       "      country  commissioning_year year_range  \n",
       "0      serbia                 NaN        NaN  \n",
       "1  uzbekistan                 NaN        NaN  \n",
       "2  uzbekistan                 NaN        NaN  \n",
       "3  uzbekistan                 NaN        NaN  \n",
       "4  uzbekistan                 NaN        NaN  "
      ]
     },
     "execution_count": 19,
     "metadata": {},
     "output_type": "execute_result"
    }
   ],
   "source": [
    "pp_full.head()"
   ]
  },
  {
   "cell_type": "code",
   "execution_count": 20,
   "metadata": {},
   "outputs": [
    {
     "data": {
      "text/html": [
       "<div>\n",
       "<style scoped>\n",
       "    .dataframe tbody tr th:only-of-type {\n",
       "        vertical-align: middle;\n",
       "    }\n",
       "\n",
       "    .dataframe tbody tr th {\n",
       "        vertical-align: top;\n",
       "    }\n",
       "\n",
       "    .dataframe thead th {\n",
       "        text-align: right;\n",
       "    }\n",
       "</style>\n",
       "<table border=\"1\" class=\"dataframe\">\n",
       "  <thead>\n",
       "    <tr style=\"text-align: right;\">\n",
       "      <th></th>\n",
       "      <th>debt_id</th>\n",
       "      <th>PP_key</th>\n",
       "      <th>debt_investment_year</th>\n",
       "      <th>investor_name</th>\n",
       "      <th>amount</th>\n",
       "      <th>power_plant_name</th>\n",
       "      <th>primary_fuel</th>\n",
       "      <th>province</th>\n",
       "      <th>country</th>\n",
       "      <th>commissioning_year</th>\n",
       "      <th>year_range</th>\n",
       "    </tr>\n",
       "  </thead>\n",
       "  <tbody>\n",
       "    <tr>\n",
       "      <th>0</th>\n",
       "      <td>DEBTID_SAISCLA_IADGEGI_17</td>\n",
       "      <td>PLANTKEY_WEPPGPPD_6412</td>\n",
       "      <td>2012.0</td>\n",
       "      <td>china energy engineering corporation ceec</td>\n",
       "      <td>21.773</td>\n",
       "      <td>MABUBAS</td>\n",
       "      <td>hydropower</td>\n",
       "      <td>bengo</td>\n",
       "      <td>angola</td>\n",
       "      <td>2012.0</td>\n",
       "      <td>2012.0-2012.0</td>\n",
       "    </tr>\n",
       "    <tr>\n",
       "      <th>1</th>\n",
       "      <td>DEBTID_SAISCLA_IADGEGI_17</td>\n",
       "      <td>PLANTKEY_WEPPGPPD_6412</td>\n",
       "      <td>2012.0</td>\n",
       "      <td>export import bank of china</td>\n",
       "      <td>1003.000</td>\n",
       "      <td>MABUBAS</td>\n",
       "      <td>hydropower</td>\n",
       "      <td>bengo</td>\n",
       "      <td>angola</td>\n",
       "      <td>2012.0</td>\n",
       "      <td>2012.0-2012.0</td>\n",
       "    </tr>\n",
       "    <tr>\n",
       "      <th>2</th>\n",
       "      <td>DEBTID_SAISCLA_IADGEGI_18</td>\n",
       "      <td>PLANTKEY_WEPPGPPD_11099</td>\n",
       "      <td>2010.0</td>\n",
       "      <td>industrial and commercial bank of china</td>\n",
       "      <td>60.000</td>\n",
       "      <td>LOMAUM</td>\n",
       "      <td>hydropower</td>\n",
       "      <td>benguela</td>\n",
       "      <td>angola</td>\n",
       "      <td>NaN</td>\n",
       "      <td>missing_year_wepp_202336-missing_year_wepp_202336</td>\n",
       "    </tr>\n",
       "    <tr>\n",
       "      <th>3</th>\n",
       "      <td>DEBTID_SAISCLA_IADGEGI_18</td>\n",
       "      <td>PLANTKEY_WEPPGPPD_11099</td>\n",
       "      <td>2010.0</td>\n",
       "      <td>export import bank of china</td>\n",
       "      <td>15.000</td>\n",
       "      <td>LOMAUM</td>\n",
       "      <td>hydropower</td>\n",
       "      <td>benguela</td>\n",
       "      <td>angola</td>\n",
       "      <td>NaN</td>\n",
       "      <td>missing_year_wepp_202336-missing_year_wepp_202336</td>\n",
       "    </tr>\n",
       "    <tr>\n",
       "      <th>4</th>\n",
       "      <td>DEBTID_SAISCLA_IADGEGI_20</td>\n",
       "      <td>PLANTKEY_WEPPGPPD_90576</td>\n",
       "      <td>2015.0</td>\n",
       "      <td>industrial and commercial bank of china</td>\n",
       "      <td>837.500</td>\n",
       "      <td>SOYO-I</td>\n",
       "      <td>gas</td>\n",
       "      <td>zaire</td>\n",
       "      <td>angola</td>\n",
       "      <td>2017.0</td>\n",
       "      <td>2017.0-2019.0</td>\n",
       "    </tr>\n",
       "  </tbody>\n",
       "</table>\n",
       "</div>"
      ],
      "text/plain": [
       "                     debt_id                   PP_key  debt_investment_year  \\\n",
       "0  DEBTID_SAISCLA_IADGEGI_17   PLANTKEY_WEPPGPPD_6412                2012.0   \n",
       "1  DEBTID_SAISCLA_IADGEGI_17   PLANTKEY_WEPPGPPD_6412                2012.0   \n",
       "2  DEBTID_SAISCLA_IADGEGI_18  PLANTKEY_WEPPGPPD_11099                2010.0   \n",
       "3  DEBTID_SAISCLA_IADGEGI_18  PLANTKEY_WEPPGPPD_11099                2010.0   \n",
       "4  DEBTID_SAISCLA_IADGEGI_20  PLANTKEY_WEPPGPPD_90576                2015.0   \n",
       "\n",
       "                               investor_name    amount power_plant_name  \\\n",
       "0  china energy engineering corporation ceec    21.773          MABUBAS   \n",
       "1                export import bank of china  1003.000          MABUBAS   \n",
       "2    industrial and commercial bank of china    60.000           LOMAUM   \n",
       "3                export import bank of china    15.000           LOMAUM   \n",
       "4    industrial and commercial bank of china   837.500           SOYO-I   \n",
       "\n",
       "  primary_fuel  province country  commissioning_year  \\\n",
       "0   hydropower     bengo  angola              2012.0   \n",
       "1   hydropower     bengo  angola              2012.0   \n",
       "2   hydropower  benguela  angola                 NaN   \n",
       "3   hydropower  benguela  angola                 NaN   \n",
       "4          gas     zaire  angola              2017.0   \n",
       "\n",
       "                                          year_range  \n",
       "0                                      2012.0-2012.0  \n",
       "1                                      2012.0-2012.0  \n",
       "2  missing_year_wepp_202336-missing_year_wepp_202336  \n",
       "3  missing_year_wepp_202336-missing_year_wepp_202336  \n",
       "4                                      2017.0-2019.0  "
      ]
     },
     "execution_count": 20,
     "metadata": {},
     "output_type": "execute_result"
    }
   ],
   "source": [
    "db_pp.head()"
   ]
  },
  {
   "cell_type": "code",
   "execution_count": 21,
   "metadata": {},
   "outputs": [
    {
     "data": {
      "text/html": [
       "<div>\n",
       "<style scoped>\n",
       "    .dataframe tbody tr th:only-of-type {\n",
       "        vertical-align: middle;\n",
       "    }\n",
       "\n",
       "    .dataframe tbody tr th {\n",
       "        vertical-align: top;\n",
       "    }\n",
       "\n",
       "    .dataframe thead th {\n",
       "        text-align: right;\n",
       "    }\n",
       "</style>\n",
       "<table border=\"1\" class=\"dataframe\">\n",
       "  <thead>\n",
       "    <tr style=\"text-align: right;\">\n",
       "      <th></th>\n",
       "      <th>equity_id</th>\n",
       "      <th>PP_key</th>\n",
       "      <th>equity_investment_type</th>\n",
       "      <th>equity_investment_year</th>\n",
       "      <th>investor_name</th>\n",
       "      <th>amount</th>\n",
       "      <th>power_plant_name</th>\n",
       "      <th>primary_fuel</th>\n",
       "      <th>province</th>\n",
       "      <th>country</th>\n",
       "      <th>commissioning_year</th>\n",
       "      <th>year_range</th>\n",
       "    </tr>\n",
       "  </thead>\n",
       "  <tbody>\n",
       "    <tr>\n",
       "      <th>0</th>\n",
       "      <td>EQUITYID_BUCGP_0</td>\n",
       "      <td>PLANTKEY_BUCGP_EQ_0</td>\n",
       "      <td>greenfield</td>\n",
       "      <td>NaN</td>\n",
       "      <td>power construction corporation of china</td>\n",
       "      <td>NaN</td>\n",
       "      <td>Pulau Baai Bengkulu Coal Plant</td>\n",
       "      <td>coal</td>\n",
       "      <td>bengkulu</td>\n",
       "      <td>indonesia</td>\n",
       "      <td>2021.0</td>\n",
       "      <td>2021-2021</td>\n",
       "    </tr>\n",
       "    <tr>\n",
       "      <th>1</th>\n",
       "      <td>EQUITYID_BUCGP_1</td>\n",
       "      <td>PLANTKEY_BUCGP_EQ_1</td>\n",
       "      <td>m&amp;a</td>\n",
       "      <td>NaN</td>\n",
       "      <td>china datang corporation ltd</td>\n",
       "      <td>NaN</td>\n",
       "      <td>Tangerang Gas Plant</td>\n",
       "      <td>gas</td>\n",
       "      <td>banten</td>\n",
       "      <td>indonesia</td>\n",
       "      <td>2020.0</td>\n",
       "      <td>2020-2020</td>\n",
       "    </tr>\n",
       "    <tr>\n",
       "      <th>2</th>\n",
       "      <td>EQUITYID_BUCGP_2</td>\n",
       "      <td>PLANTKEY_BUCGP_EQ_2</td>\n",
       "      <td>m&amp;a</td>\n",
       "      <td>NaN</td>\n",
       "      <td>china general nuclear power corp</td>\n",
       "      <td>NaN</td>\n",
       "      <td>Jimah Coal Plant</td>\n",
       "      <td>coal</td>\n",
       "      <td>negeri sembilan</td>\n",
       "      <td>malaysia</td>\n",
       "      <td>2016.0</td>\n",
       "      <td>2016-2016</td>\n",
       "    </tr>\n",
       "    <tr>\n",
       "      <th>3</th>\n",
       "      <td>EQUITYID_BUCGP_3</td>\n",
       "      <td>PLANTKEY_BUCGP_EQ_3</td>\n",
       "      <td>m&amp;a</td>\n",
       "      <td>NaN</td>\n",
       "      <td>china general nuclear power corp</td>\n",
       "      <td>NaN</td>\n",
       "      <td>Meghnaghat Pendekar Gas Plant</td>\n",
       "      <td>gas</td>\n",
       "      <td>dhaka</td>\n",
       "      <td>bangladesh</td>\n",
       "      <td>2016.0</td>\n",
       "      <td>2016-2016</td>\n",
       "    </tr>\n",
       "    <tr>\n",
       "      <th>4</th>\n",
       "      <td>EQUITYID_BUCGP_4</td>\n",
       "      <td>PLANTKEY_BUCGP_EQ_4</td>\n",
       "      <td>m&amp;a</td>\n",
       "      <td>NaN</td>\n",
       "      <td>state power investment corp ltd</td>\n",
       "      <td>NaN</td>\n",
       "      <td>Sao Simao Paranaiba Hydropower Plant</td>\n",
       "      <td>hydropower</td>\n",
       "      <td>goiás</td>\n",
       "      <td>brazil</td>\n",
       "      <td>2018.0</td>\n",
       "      <td>2018-2018</td>\n",
       "    </tr>\n",
       "  </tbody>\n",
       "</table>\n",
       "</div>"
      ],
      "text/plain": [
       "          equity_id               PP_key equity_investment_type  \\\n",
       "0  EQUITYID_BUCGP_0  PLANTKEY_BUCGP_EQ_0             greenfield   \n",
       "1  EQUITYID_BUCGP_1  PLANTKEY_BUCGP_EQ_1                    m&a   \n",
       "2  EQUITYID_BUCGP_2  PLANTKEY_BUCGP_EQ_2                    m&a   \n",
       "3  EQUITYID_BUCGP_3  PLANTKEY_BUCGP_EQ_3                    m&a   \n",
       "4  EQUITYID_BUCGP_4  PLANTKEY_BUCGP_EQ_4                    m&a   \n",
       "\n",
       "   equity_investment_year                            investor_name  amount  \\\n",
       "0                     NaN  power construction corporation of china     NaN   \n",
       "1                     NaN             china datang corporation ltd     NaN   \n",
       "2                     NaN         china general nuclear power corp     NaN   \n",
       "3                     NaN         china general nuclear power corp     NaN   \n",
       "4                     NaN          state power investment corp ltd     NaN   \n",
       "\n",
       "                       power_plant_name primary_fuel         province  \\\n",
       "0        Pulau Baai Bengkulu Coal Plant         coal         bengkulu   \n",
       "1                   Tangerang Gas Plant          gas           banten   \n",
       "2                      Jimah Coal Plant         coal  negeri sembilan   \n",
       "3         Meghnaghat Pendekar Gas Plant          gas            dhaka   \n",
       "4  Sao Simao Paranaiba Hydropower Plant   hydropower            goiás   \n",
       "\n",
       "      country  commissioning_year year_range  \n",
       "0   indonesia              2021.0  2021-2021  \n",
       "1   indonesia              2020.0  2020-2020  \n",
       "2    malaysia              2016.0  2016-2016  \n",
       "3  bangladesh              2016.0  2016-2016  \n",
       "4      brazil              2018.0  2018-2018  "
      ]
     },
     "execution_count": 21,
     "metadata": {},
     "output_type": "execute_result"
    }
   ],
   "source": [
    "eq_pp.head()"
   ]
  },
  {
   "cell_type": "code",
   "execution_count": 22,
   "metadata": {},
   "outputs": [
    {
     "name": "stdout",
     "output_type": "stream",
     "text": [
      "Rows in PP full from BUCGEF: 102\n",
      "Rows in PP full from BUCGP_DT: 11\n",
      "Rows in PP full from BUCGP_EQ: 312\n",
      "Rows in PP full from FDIMARKETS: 438\n",
      "Rows in PP full from IJGLOBAL_DT: 95\n",
      "Rows in PP full from IJGLOBAL_EQ: 92\n",
      "Rows in PP full from REFINITIVLOAN: 971\n",
      "Rows in PP full from REFINITIVMA: 184\n",
      "Rows in PP full from WEPPGPPD: 184423\n"
     ]
    }
   ],
   "source": [
    "count_sources_in_id(pp_full, \"PP_key\", \"PP full\")"
   ]
  },
  {
   "cell_type": "code",
   "execution_count": 23,
   "metadata": {},
   "outputs": [
    {
     "name": "stdout",
     "output_type": "stream",
     "text": [
      "Rows in data from BUCGEF: 902\n",
      "Rows in data from BUCGP: 113\n",
      "Rows in data from IJGLOBAL: 893\n",
      "Rows in data from REFINITIVLOAN: 1199\n",
      "Rows in data from SAISCLA_IADGEGI: 25\n"
     ]
    }
   ],
   "source": [
    "count_sources_in_id(db_pp, \"debt_id\")"
   ]
  },
  {
   "cell_type": "code",
   "execution_count": 24,
   "metadata": {},
   "outputs": [
    {
     "name": "stdout",
     "output_type": "stream",
     "text": [
      "Rows in data from BUCGP: 587\n",
      "Rows in data from FDIMARKETS: 4260\n",
      "Rows in data from IJGLOBAL: 811\n",
      "Rows in data from REFINITIVMA: 205\n"
     ]
    }
   ],
   "source": [
    "count_sources_in_id(eq_pp, \"equity_id\", )"
   ]
  },
  {
   "cell_type": "markdown",
   "metadata": {},
   "source": [
    "## 1.3 Load Debt and Equity Tables"
   ]
  },
  {
   "cell_type": "code",
   "execution_count": 25,
   "metadata": {},
   "outputs": [
    {
     "name": "stdout",
     "output_type": "stream",
     "text": [
      "Equity.csv: last modified on: 2024-11-21\n"
     ]
    },
    {
     "data": {
      "text/html": [
       "<div>\n",
       "<style scoped>\n",
       "    .dataframe tbody tr th:only-of-type {\n",
       "        vertical-align: middle;\n",
       "    }\n",
       "\n",
       "    .dataframe tbody tr th {\n",
       "        vertical-align: top;\n",
       "    }\n",
       "\n",
       "    .dataframe thead th {\n",
       "        text-align: right;\n",
       "    }\n",
       "</style>\n",
       "<table border=\"1\" class=\"dataframe\">\n",
       "  <thead>\n",
       "    <tr style=\"text-align: right;\">\n",
       "      <th></th>\n",
       "      <th>equity_id</th>\n",
       "      <th>PP_key</th>\n",
       "      <th>total_investment_amount</th>\n",
       "      <th>equity_investment_type</th>\n",
       "      <th>equity_investment_year</th>\n",
       "      <th>bu_id_bu_cgp</th>\n",
       "      <th>bu_id</th>\n",
       "      <th>fdi_id</th>\n",
       "      <th>rma_id</th>\n",
       "      <th>j_id</th>\n",
       "    </tr>\n",
       "  </thead>\n",
       "  <tbody>\n",
       "    <tr>\n",
       "      <th>0</th>\n",
       "      <td>EQUITYID_BUCGP_0</td>\n",
       "      <td>PLANTKEY_BUCGP_EQ_0</td>\n",
       "      <td>0.0</td>\n",
       "      <td>greenfield</td>\n",
       "      <td>NaN</td>\n",
       "      <td>ID.F.027.2</td>\n",
       "      <td>NaN</td>\n",
       "      <td>NaN</td>\n",
       "      <td>NaN</td>\n",
       "      <td>NaN</td>\n",
       "    </tr>\n",
       "    <tr>\n",
       "      <th>1</th>\n",
       "      <td>EQUITYID_BUCGP_1</td>\n",
       "      <td>PLANTKEY_BUCGP_EQ_1</td>\n",
       "      <td>0.0</td>\n",
       "      <td>m&amp;a</td>\n",
       "      <td>NaN</td>\n",
       "      <td>ID.F.026.1</td>\n",
       "      <td>NaN</td>\n",
       "      <td>NaN</td>\n",
       "      <td>NaN</td>\n",
       "      <td>NaN</td>\n",
       "    </tr>\n",
       "    <tr>\n",
       "      <th>2</th>\n",
       "      <td>EQUITYID_BUCGP_2</td>\n",
       "      <td>PLANTKEY_BUCGP_EQ_2</td>\n",
       "      <td>0.0</td>\n",
       "      <td>m&amp;a</td>\n",
       "      <td>NaN</td>\n",
       "      <td>MY.F.002.1; MY.F.002.2</td>\n",
       "      <td>NaN</td>\n",
       "      <td>NaN</td>\n",
       "      <td>NaN</td>\n",
       "      <td>NaN</td>\n",
       "    </tr>\n",
       "    <tr>\n",
       "      <th>3</th>\n",
       "      <td>EQUITYID_BUCGP_3</td>\n",
       "      <td>PLANTKEY_BUCGP_EQ_3</td>\n",
       "      <td>0.0</td>\n",
       "      <td>m&amp;a</td>\n",
       "      <td>NaN</td>\n",
       "      <td>BD.F.002.1; BD.F.002.2; BD.F.002.3</td>\n",
       "      <td>NaN</td>\n",
       "      <td>NaN</td>\n",
       "      <td>NaN</td>\n",
       "      <td>NaN</td>\n",
       "    </tr>\n",
       "    <tr>\n",
       "      <th>4</th>\n",
       "      <td>EQUITYID_BUCGP_4</td>\n",
       "      <td>PLANTKEY_BUCGP_EQ_4</td>\n",
       "      <td>0.0</td>\n",
       "      <td>m&amp;a</td>\n",
       "      <td>NaN</td>\n",
       "      <td>BR.F.110.1; BR.F.110.2; BR.F.110.3; BR.F.110.4...</td>\n",
       "      <td>NaN</td>\n",
       "      <td>NaN</td>\n",
       "      <td>NaN</td>\n",
       "      <td>NaN</td>\n",
       "    </tr>\n",
       "  </tbody>\n",
       "</table>\n",
       "</div>"
      ],
      "text/plain": [
       "          equity_id               PP_key  total_investment_amount  \\\n",
       "0  EQUITYID_BUCGP_0  PLANTKEY_BUCGP_EQ_0                      0.0   \n",
       "1  EQUITYID_BUCGP_1  PLANTKEY_BUCGP_EQ_1                      0.0   \n",
       "2  EQUITYID_BUCGP_2  PLANTKEY_BUCGP_EQ_2                      0.0   \n",
       "3  EQUITYID_BUCGP_3  PLANTKEY_BUCGP_EQ_3                      0.0   \n",
       "4  EQUITYID_BUCGP_4  PLANTKEY_BUCGP_EQ_4                      0.0   \n",
       "\n",
       "  equity_investment_type  equity_investment_year  \\\n",
       "0             greenfield                     NaN   \n",
       "1                    m&a                     NaN   \n",
       "2                    m&a                     NaN   \n",
       "3                    m&a                     NaN   \n",
       "4                    m&a                     NaN   \n",
       "\n",
       "                                        bu_id_bu_cgp  bu_id  fdi_id  rma_id  \\\n",
       "0                                         ID.F.027.2    NaN     NaN     NaN   \n",
       "1                                         ID.F.026.1    NaN     NaN     NaN   \n",
       "2                             MY.F.002.1; MY.F.002.2    NaN     NaN     NaN   \n",
       "3                 BD.F.002.1; BD.F.002.2; BD.F.002.3    NaN     NaN     NaN   \n",
       "4  BR.F.110.1; BR.F.110.2; BR.F.110.3; BR.F.110.4...    NaN     NaN     NaN   \n",
       "\n",
       "   j_id  \n",
       "0   NaN  \n",
       "1   NaN  \n",
       "2   NaN  \n",
       "3   NaN  \n",
       "4   NaN  "
      ]
     },
     "execution_count": 25,
     "metadata": {},
     "output_type": "execute_result"
    }
   ],
   "source": [
    "equity = my_read_excel(current_final_tables_folder, equity_file)\n",
    "equity.head()"
   ]
  },
  {
   "cell_type": "code",
   "execution_count": 26,
   "metadata": {},
   "outputs": [
    {
     "name": "stdout",
     "output_type": "stream",
     "text": [
      "Debt.csv: last modified on: 2024-11-21\n"
     ]
    },
    {
     "data": {
      "text/html": [
       "<div>\n",
       "<style scoped>\n",
       "    .dataframe tbody tr th:only-of-type {\n",
       "        vertical-align: middle;\n",
       "    }\n",
       "\n",
       "    .dataframe tbody tr th {\n",
       "        vertical-align: top;\n",
       "    }\n",
       "\n",
       "    .dataframe thead th {\n",
       "        text-align: right;\n",
       "    }\n",
       "</style>\n",
       "<table border=\"1\" class=\"dataframe\">\n",
       "  <thead>\n",
       "    <tr style=\"text-align: right;\">\n",
       "      <th></th>\n",
       "      <th>debt_id</th>\n",
       "      <th>PP_key</th>\n",
       "      <th>debt_investment_year</th>\n",
       "      <th>debt_investment_amount</th>\n",
       "      <th>investment_cofinanced_bu</th>\n",
       "      <th>number_of_lenders</th>\n",
       "      <th>bu_id_bu_cgp</th>\n",
       "      <th>bu_id</th>\n",
       "      <th>j_id</th>\n",
       "      <th>r_id</th>\n",
       "    </tr>\n",
       "  </thead>\n",
       "  <tbody>\n",
       "    <tr>\n",
       "      <th>0</th>\n",
       "      <td>DEBTID_SAISCLA_IADGEGI_0</td>\n",
       "      <td>PLANTKEY_SAISCLA_IADGEGI_0</td>\n",
       "      <td>2013.0</td>\n",
       "      <td>458.3924</td>\n",
       "      <td>NaN</td>\n",
       "      <td>NaN</td>\n",
       "      <td>NaN</td>\n",
       "      <td>AFR.026</td>\n",
       "      <td>NaN</td>\n",
       "      <td>NaN</td>\n",
       "    </tr>\n",
       "    <tr>\n",
       "      <th>1</th>\n",
       "      <td>DEBTID_SAISCLA_IADGEGI_1</td>\n",
       "      <td>PLANTKEY_SAISCLA_IADGEGI_1</td>\n",
       "      <td>2005.0</td>\n",
       "      <td>13.1348</td>\n",
       "      <td>NaN</td>\n",
       "      <td>NaN</td>\n",
       "      <td>NaN</td>\n",
       "      <td>AO.003.19</td>\n",
       "      <td>NaN</td>\n",
       "      <td>NaN</td>\n",
       "    </tr>\n",
       "    <tr>\n",
       "      <th>2</th>\n",
       "      <td>DEBTID_SAISCLA_IADGEGI_2</td>\n",
       "      <td>PLANTKEY_SAISCLA_IADGEGI_2</td>\n",
       "      <td>2005.0</td>\n",
       "      <td>25.4238</td>\n",
       "      <td>NaN</td>\n",
       "      <td>NaN</td>\n",
       "      <td>NaN</td>\n",
       "      <td>AO.003.20</td>\n",
       "      <td>NaN</td>\n",
       "      <td>NaN</td>\n",
       "    </tr>\n",
       "    <tr>\n",
       "      <th>3</th>\n",
       "      <td>DEBTID_SAISCLA_IADGEGI_3</td>\n",
       "      <td>PLANTKEY_SAISCLA_IADGEGI_3</td>\n",
       "      <td>2004.0</td>\n",
       "      <td>40.0584</td>\n",
       "      <td>NaN</td>\n",
       "      <td>NaN</td>\n",
       "      <td>NaN</td>\n",
       "      <td>AO.003.21</td>\n",
       "      <td>NaN</td>\n",
       "      <td>NaN</td>\n",
       "    </tr>\n",
       "    <tr>\n",
       "      <th>4</th>\n",
       "      <td>DEBTID_SAISCLA_IADGEGI_4</td>\n",
       "      <td>PLANTKEY_SAISCLA_IADGEGI_4</td>\n",
       "      <td>2005.0</td>\n",
       "      <td>34.5309</td>\n",
       "      <td>NaN</td>\n",
       "      <td>NaN</td>\n",
       "      <td>NaN</td>\n",
       "      <td>AO.003.22</td>\n",
       "      <td>NaN</td>\n",
       "      <td>NaN</td>\n",
       "    </tr>\n",
       "  </tbody>\n",
       "</table>\n",
       "</div>"
      ],
      "text/plain": [
       "                    debt_id                      PP_key  debt_investment_year  \\\n",
       "0  DEBTID_SAISCLA_IADGEGI_0  PLANTKEY_SAISCLA_IADGEGI_0                2013.0   \n",
       "1  DEBTID_SAISCLA_IADGEGI_1  PLANTKEY_SAISCLA_IADGEGI_1                2005.0   \n",
       "2  DEBTID_SAISCLA_IADGEGI_2  PLANTKEY_SAISCLA_IADGEGI_2                2005.0   \n",
       "3  DEBTID_SAISCLA_IADGEGI_3  PLANTKEY_SAISCLA_IADGEGI_3                2004.0   \n",
       "4  DEBTID_SAISCLA_IADGEGI_4  PLANTKEY_SAISCLA_IADGEGI_4                2005.0   \n",
       "\n",
       "   debt_investment_amount  investment_cofinanced_bu  number_of_lenders  \\\n",
       "0                458.3924                       NaN                NaN   \n",
       "1                 13.1348                       NaN                NaN   \n",
       "2                 25.4238                       NaN                NaN   \n",
       "3                 40.0584                       NaN                NaN   \n",
       "4                 34.5309                       NaN                NaN   \n",
       "\n",
       "  bu_id_bu_cgp      bu_id j_id r_id  \n",
       "0          NaN    AFR.026  NaN  NaN  \n",
       "1          NaN  AO.003.19  NaN  NaN  \n",
       "2          NaN  AO.003.20  NaN  NaN  \n",
       "3          NaN  AO.003.21  NaN  NaN  \n",
       "4          NaN  AO.003.22  NaN  NaN  "
      ]
     },
     "execution_count": 26,
     "metadata": {},
     "output_type": "execute_result"
    }
   ],
   "source": [
    "debt = my_read_excel(current_final_tables_folder, debt_file)\n",
    "debt.head()"
   ]
  },
  {
   "cell_type": "markdown",
   "metadata": {},
   "source": [
    "# 2. Clean Data"
   ]
  },
  {
   "cell_type": "markdown",
   "metadata": {},
   "source": [
    "## 2.1 Vertical Slicing"
   ]
  },
  {
   "cell_type": "code",
   "execution_count": null,
   "metadata": {},
   "outputs": [],
   "source": [
    "aid_variables = [] #@TODO add variables here"
   ]
  },
  {
   "cell_type": "markdown",
   "metadata": {},
   "source": [
    "### Country"
   ]
  },
  {
   "cell_type": "code",
   "execution_count": null,
   "metadata": {},
   "outputs": [],
   "source": []
  },
  {
   "cell_type": "markdown",
   "metadata": {},
   "source": [
    "### Primary Fuel"
   ]
  },
  {
   "cell_type": "code",
   "execution_count": null,
   "metadata": {},
   "outputs": [],
   "source": []
  },
  {
   "cell_type": "markdown",
   "metadata": {},
   "source": [
    "### investment_type"
   ]
  },
  {
   "cell_type": "code",
   "execution_count": null,
   "metadata": {},
   "outputs": [],
   "source": []
  },
  {
   "cell_type": "markdown",
   "metadata": {},
   "source": []
  },
  {
   "cell_type": "markdown",
   "metadata": {},
   "source": [
    "### Rows that don't have equity nor debt data"
   ]
  },
  {
   "cell_type": "code",
   "execution_count": null,
   "metadata": {},
   "outputs": [],
   "source": []
  },
  {
   "cell_type": "code",
   "execution_count": null,
   "metadata": {},
   "outputs": [],
   "source": []
  },
  {
   "cell_type": "markdown",
   "metadata": {},
   "source": [
    "### investor_name"
   ]
  },
  {
   "cell_type": "code",
   "execution_count": null,
   "metadata": {},
   "outputs": [],
   "source": []
  },
  {
   "cell_type": "markdown",
   "metadata": {},
   "source": [
    "# 3. Match with existing data"
   ]
  },
  {
   "cell_type": "code",
   "execution_count": null,
   "metadata": {},
   "outputs": [],
   "source": []
  },
  {
   "cell_type": "markdown",
   "metadata": {},
   "source": [
    "# 4. Find matches with Power Plant"
   ]
  },
  {
   "cell_type": "code",
   "execution_count": null,
   "metadata": {},
   "outputs": [],
   "source": []
  },
  {
   "cell_type": "markdown",
   "metadata": {},
   "source": [
    "# 5. Create Tables"
   ]
  }
 ],
 "metadata": {
  "kernelspec": {
   "display_name": "env",
   "language": "python",
   "name": "python3"
  },
  "language_info": {
   "codemirror_mode": {
    "name": "ipython",
    "version": 3
   },
   "file_extension": ".py",
   "mimetype": "text/x-python",
   "name": "python",
   "nbconvert_exporter": "python",
   "pygments_lexer": "ipython3",
   "version": "3.12.6"
  }
 },
 "nbformat": 4,
 "nbformat_minor": 2
}
